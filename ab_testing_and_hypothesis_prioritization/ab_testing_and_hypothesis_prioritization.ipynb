{
 "cells": [
  {
   "cell_type": "markdown",
   "metadata": {},
   "source": [
    "# Приоритизация гипотез и анализ A/B теста"
   ]
  },
  {
   "cell_type": "markdown",
   "metadata": {},
   "source": [
    "## Описание проекта:\n",
    "В данном проекте по заданию отдела маркетинга проводится приоритизация гипотез по фреймворкам ICE и RICE. Далее комплексно анализируются результаты A/B теста, который был запущен в течение одного месяца, по различным кумулятивным метрикам на сырых и отфильтрованных данных. Полученные результаты позволили выявить наличие/отсутствие различий между исследуемыми группами и могут считаться ценными для бизнеса."
   ]
  },
  {
   "cell_type": "markdown",
   "metadata": {},
   "source": [
    "## Главные выводы:\n",
    "\n",
    "* Конверсия в группе B выше, чем в группе A - на сырых данных на 13.8%, а на чистых на 16.8%. Различие в конверсии между группами является статистически значимым и на сырых, и на чистых данных. После удаления аномалий - p-value немного снизился.\n",
    "\n",
    "\n",
    "* Различие в среднем чеке группы B выше группы A на 25.9% на сырых данных, а на чистых ниже на 1.6%. Ни на сырых, ни на чистых данных, различие в среднем чеке не является статистически значимым. После фильтрации аномалий p-value вырос по сравнению с сырыми данными.\n",
    "\n",
    "\n",
    "* График относительного изменения кумулятивной конверсии демонстрирует явное превосходство группы B, преимущество которой стабилизировалось на уровне 13.8%.\n",
    "\n",
    "\n",
    "* График относительного изменения кумулятивного среднего чека демонстрирует резкие колебания на сырых данных, однако после фильтрации аномалий, различия среднего чека сократились до 1.6%. При этом различие нельзя считать статистически значимым.\n",
    "\n",
    "\n",
    "**Итог:** Таким образом, мы можем заключить, что A/B тест был проведен успешно. Было зафиксировано, что конверсия группы B существенно выше, чем в группе A, и этот результат статистически значим. Также мы выяснили, что значимые различия в среднем чеке между группами отсутствуют. Тест может быть остановлен."
   ]
  },
  {
   "cell_type": "markdown",
   "metadata": {},
   "source": [
    "## Содержание проекта: <a name=\"introduction\"></a>\n",
    "\n",
    "### 1. [Приоритизация гипотез](#paragraph1)\n",
    "\n",
    "### 2. [Анализ A/B теста](#paragraph2)\n",
    "\n",
    "#### 2.1 [Обзор и предобработка данных](#subparagraph2_1)\n",
    "\n",
    "* 2.1.1 [Таблица orders - информация о заказах](#subparagraph2_1_1)\n",
    "* 2.1.2 [Таблица visitors - информация о посетителях](#subparagraph2_1_2)\n",
    "\n",
    "#### 2.2 [Исследовательский анализ данных](#subparagraph2_2)\n",
    "\n",
    "* 2.2.1 [График кумулятивной выручки по группам](#subparagraph2_2_1)\n",
    "* 2.2.2 [График кумулятивного среднего чека по группам](#subparagraph2_2_2)\n",
    "* 2.2.3 [График относительного различия кумулятивного среднего чека между группами](#subparagraph2_2_3)\n",
    "* 2.2.4 [График кумулятивной конверсии по группам](#subparagraph2_2_4)\n",
    "* 2.2.5 [График относительного изменения кумулятивной конверсии группы B к группе A](#subparagraph2_2_5)\n",
    "* 2.2.6 [Точечный график количества заказов по пользователям](#subparagraph2_2_6)\n",
    "* 2.2.7 [Оценка 95 и 99 перцентили количества заказов на пользователя](#subparagraph2_2_7)\n",
    "* 2.2.8 [Точечный график стоимостей заказов](#subparagraph2_2_8)\n",
    "* 2.2.9 [Оценка 95 и 99 перцентили стоимостей заказов](#subparagraph2_2_9)\n",
    "\n",
    "#### 2.3 [Проверка статистических гипотез](#subparagraph2_3)\n",
    "\n",
    "* 2.3.1 [Статистическая значимость различий в конверсии между группами по сырым данным](#subparagraph2_3_1)\n",
    "* 2.3.2 [Статистическая значимость различий в среднем чеке между группами по сырым данным](#subparagraph2_3_2)\n",
    "* 2.3.3 [Статистическая значимость различий в конверсии между группами по чистым данным](#subparagraph2_3_3)\n",
    "* 2.3.4 [Статистическая значимость различий в среднем чеке между группами по чистым данным](#subparagraph2_3_4)\n",
    "\n",
    "### 3. [Общий вывод](#paragraph3)"
   ]
  },
  {
   "cell_type": "code",
   "execution_count": 1,
   "metadata": {},
   "outputs": [],
   "source": [
    "import pandas as pd\n",
    "import numpy as np\n",
    "import matplotlib.pyplot as plt\n",
    "import plotly\n",
    "import plotly.graph_objects as go\n",
    "import plotly.express as px\n",
    "import plotly.io as pio\n",
    "from scipy import stats as st\n",
    "from math import sqrt\n",
    "pio.templates.default = 'none'\n",
    "pio.renderers.default = 'notebook_connected'"
   ]
  },
  {
   "cell_type": "markdown",
   "metadata": {},
   "source": [
    "## 1. Приоритизация гипотез <a name=\"paragraph1\"></a>"
   ]
  },
  {
   "cell_type": "code",
   "execution_count": 2,
   "metadata": {},
   "outputs": [],
   "source": [
    "hypothesis = pd.read_csv('hypothesis.csv')\n",
    "hypothesis.columns = map(str.lower, hypothesis.columns)"
   ]
  },
  {
   "cell_type": "code",
   "execution_count": 3,
   "metadata": {},
   "outputs": [
    {
     "data": {
      "text/html": [
       "<div>\n",
       "<style scoped>\n",
       "    .dataframe tbody tr th:only-of-type {\n",
       "        vertical-align: middle;\n",
       "    }\n",
       "\n",
       "    .dataframe tbody tr th {\n",
       "        vertical-align: top;\n",
       "    }\n",
       "\n",
       "    .dataframe thead th {\n",
       "        text-align: right;\n",
       "    }\n",
       "</style>\n",
       "<table border=\"1\" class=\"dataframe\">\n",
       "  <thead>\n",
       "    <tr style=\"text-align: right;\">\n",
       "      <th></th>\n",
       "      <th>hypothesis</th>\n",
       "      <th>reach</th>\n",
       "      <th>impact</th>\n",
       "      <th>confidence</th>\n",
       "      <th>efforts</th>\n",
       "    </tr>\n",
       "  </thead>\n",
       "  <tbody>\n",
       "    <tr>\n",
       "      <th>0</th>\n",
       "      <td>Добавить два новых канала привлечения трафика,...</td>\n",
       "      <td>3</td>\n",
       "      <td>10</td>\n",
       "      <td>8</td>\n",
       "      <td>6</td>\n",
       "    </tr>\n",
       "    <tr>\n",
       "      <th>1</th>\n",
       "      <td>Запустить собственную службу доставки, что сок...</td>\n",
       "      <td>2</td>\n",
       "      <td>5</td>\n",
       "      <td>4</td>\n",
       "      <td>10</td>\n",
       "    </tr>\n",
       "    <tr>\n",
       "      <th>2</th>\n",
       "      <td>Добавить блоки рекомендаций товаров на сайт ин...</td>\n",
       "      <td>8</td>\n",
       "      <td>3</td>\n",
       "      <td>7</td>\n",
       "      <td>3</td>\n",
       "    </tr>\n",
       "    <tr>\n",
       "      <th>3</th>\n",
       "      <td>Изменить структура категорий, что увеличит кон...</td>\n",
       "      <td>8</td>\n",
       "      <td>3</td>\n",
       "      <td>3</td>\n",
       "      <td>8</td>\n",
       "    </tr>\n",
       "    <tr>\n",
       "      <th>4</th>\n",
       "      <td>Изменить цвет фона главной страницы, чтобы уве...</td>\n",
       "      <td>3</td>\n",
       "      <td>1</td>\n",
       "      <td>1</td>\n",
       "      <td>1</td>\n",
       "    </tr>\n",
       "    <tr>\n",
       "      <th>5</th>\n",
       "      <td>Добавить страницу отзывов клиентов о магазине,...</td>\n",
       "      <td>3</td>\n",
       "      <td>2</td>\n",
       "      <td>2</td>\n",
       "      <td>3</td>\n",
       "    </tr>\n",
       "    <tr>\n",
       "      <th>6</th>\n",
       "      <td>Показать на главной странице баннеры с актуаль...</td>\n",
       "      <td>5</td>\n",
       "      <td>3</td>\n",
       "      <td>8</td>\n",
       "      <td>3</td>\n",
       "    </tr>\n",
       "    <tr>\n",
       "      <th>7</th>\n",
       "      <td>Добавить форму подписки на все основные страни...</td>\n",
       "      <td>10</td>\n",
       "      <td>7</td>\n",
       "      <td>8</td>\n",
       "      <td>5</td>\n",
       "    </tr>\n",
       "    <tr>\n",
       "      <th>8</th>\n",
       "      <td>Запустить акцию, дающую скидку на товар в день...</td>\n",
       "      <td>1</td>\n",
       "      <td>9</td>\n",
       "      <td>9</td>\n",
       "      <td>5</td>\n",
       "    </tr>\n",
       "  </tbody>\n",
       "</table>\n",
       "</div>"
      ],
      "text/plain": [
       "                                          hypothesis  reach  impact  \\\n",
       "0  Добавить два новых канала привлечения трафика,...      3      10   \n",
       "1  Запустить собственную службу доставки, что сок...      2       5   \n",
       "2  Добавить блоки рекомендаций товаров на сайт ин...      8       3   \n",
       "3  Изменить структура категорий, что увеличит кон...      8       3   \n",
       "4  Изменить цвет фона главной страницы, чтобы уве...      3       1   \n",
       "5  Добавить страницу отзывов клиентов о магазине,...      3       2   \n",
       "6  Показать на главной странице баннеры с актуаль...      5       3   \n",
       "7  Добавить форму подписки на все основные страни...     10       7   \n",
       "8  Запустить акцию, дающую скидку на товар в день...      1       9   \n",
       "\n",
       "   confidence  efforts  \n",
       "0           8        6  \n",
       "1           4       10  \n",
       "2           7        3  \n",
       "3           3        8  \n",
       "4           1        1  \n",
       "5           2        3  \n",
       "6           8        3  \n",
       "7           8        5  \n",
       "8           9        5  "
      ]
     },
     "execution_count": 3,
     "metadata": {},
     "output_type": "execute_result"
    }
   ],
   "source": [
    "hypothesis"
   ]
  },
  {
   "cell_type": "markdown",
   "metadata": {},
   "source": [
    "`Hypothesis` — краткое описание гипотезы;\n",
    "`Reach` — охват пользователей по 10-балльной шкале;\n",
    "`Impact` — влияние на пользователей по 10-балльной шкале;\n",
    "`Confidence` — уверенность в гипотезе по 10-балльной шкале;\n",
    "`Efforts` — затраты ресурсов на проверку гипотезы по 10-балльной шкале."
   ]
  },
  {
   "cell_type": "code",
   "execution_count": 4,
   "metadata": {},
   "outputs": [
    {
     "data": {
      "text/plain": [
       "array(['Добавить два новых канала привлечения трафика, что позволит привлекать на 30% больше пользователей',\n",
       "       'Запустить собственную службу доставки, что сократит срок доставки заказов',\n",
       "       'Добавить блоки рекомендаций товаров на сайт интернет магазина, чтобы повысить конверсию и средний чек заказа',\n",
       "       'Изменить структура категорий, что увеличит конверсию, т.к. пользователи быстрее найдут нужный товар',\n",
       "       'Изменить цвет фона главной страницы, чтобы увеличить вовлеченность пользователей',\n",
       "       'Добавить страницу отзывов клиентов о магазине, что позволит увеличить количество заказов',\n",
       "       'Показать на главной странице баннеры с актуальными акциями и распродажами, чтобы увеличить конверсию',\n",
       "       'Добавить форму подписки на все основные страницы, чтобы собрать базу клиентов для email-рассылок',\n",
       "       'Запустить акцию, дающую скидку на товар в день рождения'],\n",
       "      dtype=object)"
      ]
     },
     "execution_count": 4,
     "metadata": {},
     "output_type": "execute_result"
    }
   ],
   "source": [
    "hypothesis['hypothesis'].unique()"
   ]
  },
  {
   "cell_type": "markdown",
   "metadata": {},
   "source": [
    "* Фреймворк ICE\n",
    "\n",
    "$$ICE = \\frac{Impact * Confidence}{Effort}$$"
   ]
  },
  {
   "cell_type": "code",
   "execution_count": 5,
   "metadata": {},
   "outputs": [],
   "source": [
    "hypothesis['ice'] = (hypothesis['impact'] * hypothesis['confidence']) / hypothesis['efforts']"
   ]
  },
  {
   "cell_type": "code",
   "execution_count": 6,
   "metadata": {},
   "outputs": [
    {
     "data": {
      "text/html": [
       "<div>\n",
       "<style scoped>\n",
       "    .dataframe tbody tr th:only-of-type {\n",
       "        vertical-align: middle;\n",
       "    }\n",
       "\n",
       "    .dataframe tbody tr th {\n",
       "        vertical-align: top;\n",
       "    }\n",
       "\n",
       "    .dataframe thead th {\n",
       "        text-align: right;\n",
       "    }\n",
       "</style>\n",
       "<table border=\"1\" class=\"dataframe\">\n",
       "  <thead>\n",
       "    <tr style=\"text-align: right;\">\n",
       "      <th></th>\n",
       "      <th>hypothesis</th>\n",
       "      <th>ice</th>\n",
       "    </tr>\n",
       "  </thead>\n",
       "  <tbody>\n",
       "    <tr>\n",
       "      <th>8</th>\n",
       "      <td>Запустить акцию, дающую скидку на товар в день...</td>\n",
       "      <td>16.200000</td>\n",
       "    </tr>\n",
       "    <tr>\n",
       "      <th>0</th>\n",
       "      <td>Добавить два новых канала привлечения трафика,...</td>\n",
       "      <td>13.333333</td>\n",
       "    </tr>\n",
       "    <tr>\n",
       "      <th>7</th>\n",
       "      <td>Добавить форму подписки на все основные страни...</td>\n",
       "      <td>11.200000</td>\n",
       "    </tr>\n",
       "    <tr>\n",
       "      <th>6</th>\n",
       "      <td>Показать на главной странице баннеры с актуаль...</td>\n",
       "      <td>8.000000</td>\n",
       "    </tr>\n",
       "    <tr>\n",
       "      <th>2</th>\n",
       "      <td>Добавить блоки рекомендаций товаров на сайт ин...</td>\n",
       "      <td>7.000000</td>\n",
       "    </tr>\n",
       "    <tr>\n",
       "      <th>1</th>\n",
       "      <td>Запустить собственную службу доставки, что сок...</td>\n",
       "      <td>2.000000</td>\n",
       "    </tr>\n",
       "    <tr>\n",
       "      <th>5</th>\n",
       "      <td>Добавить страницу отзывов клиентов о магазине,...</td>\n",
       "      <td>1.333333</td>\n",
       "    </tr>\n",
       "    <tr>\n",
       "      <th>3</th>\n",
       "      <td>Изменить структура категорий, что увеличит кон...</td>\n",
       "      <td>1.125000</td>\n",
       "    </tr>\n",
       "    <tr>\n",
       "      <th>4</th>\n",
       "      <td>Изменить цвет фона главной страницы, чтобы уве...</td>\n",
       "      <td>1.000000</td>\n",
       "    </tr>\n",
       "  </tbody>\n",
       "</table>\n",
       "</div>"
      ],
      "text/plain": [
       "                                          hypothesis        ice\n",
       "8  Запустить акцию, дающую скидку на товар в день...  16.200000\n",
       "0  Добавить два новых канала привлечения трафика,...  13.333333\n",
       "7  Добавить форму подписки на все основные страни...  11.200000\n",
       "6  Показать на главной странице баннеры с актуаль...   8.000000\n",
       "2  Добавить блоки рекомендаций товаров на сайт ин...   7.000000\n",
       "1  Запустить собственную службу доставки, что сок...   2.000000\n",
       "5  Добавить страницу отзывов клиентов о магазине,...   1.333333\n",
       "3  Изменить структура категорий, что увеличит кон...   1.125000\n",
       "4  Изменить цвет фона главной страницы, чтобы уве...   1.000000"
      ]
     },
     "execution_count": 6,
     "metadata": {},
     "output_type": "execute_result"
    }
   ],
   "source": [
    "hypothesis[['hypothesis', 'ice']].sort_values(by='ice', ascending=False)"
   ]
  },
  {
   "cell_type": "markdown",
   "metadata": {},
   "source": [
    "* Фреймворк RICE\n",
    "\n",
    "$$RICE = \\frac{Reach * Impact * Confidence}{Effort}$$"
   ]
  },
  {
   "cell_type": "code",
   "execution_count": 7,
   "metadata": {},
   "outputs": [],
   "source": [
    "hypothesis['rice'] = (hypothesis['reach'] * hypothesis['impact'] * hypothesis['confidence']) / hypothesis['efforts']"
   ]
  },
  {
   "cell_type": "code",
   "execution_count": 8,
   "metadata": {},
   "outputs": [
    {
     "data": {
      "text/html": [
       "<div>\n",
       "<style scoped>\n",
       "    .dataframe tbody tr th:only-of-type {\n",
       "        vertical-align: middle;\n",
       "    }\n",
       "\n",
       "    .dataframe tbody tr th {\n",
       "        vertical-align: top;\n",
       "    }\n",
       "\n",
       "    .dataframe thead th {\n",
       "        text-align: right;\n",
       "    }\n",
       "</style>\n",
       "<table border=\"1\" class=\"dataframe\">\n",
       "  <thead>\n",
       "    <tr style=\"text-align: right;\">\n",
       "      <th></th>\n",
       "      <th>hypothesis</th>\n",
       "      <th>rice</th>\n",
       "    </tr>\n",
       "  </thead>\n",
       "  <tbody>\n",
       "    <tr>\n",
       "      <th>7</th>\n",
       "      <td>Добавить форму подписки на все основные страни...</td>\n",
       "      <td>112.0</td>\n",
       "    </tr>\n",
       "    <tr>\n",
       "      <th>2</th>\n",
       "      <td>Добавить блоки рекомендаций товаров на сайт ин...</td>\n",
       "      <td>56.0</td>\n",
       "    </tr>\n",
       "    <tr>\n",
       "      <th>0</th>\n",
       "      <td>Добавить два новых канала привлечения трафика,...</td>\n",
       "      <td>40.0</td>\n",
       "    </tr>\n",
       "    <tr>\n",
       "      <th>6</th>\n",
       "      <td>Показать на главной странице баннеры с актуаль...</td>\n",
       "      <td>40.0</td>\n",
       "    </tr>\n",
       "    <tr>\n",
       "      <th>8</th>\n",
       "      <td>Запустить акцию, дающую скидку на товар в день...</td>\n",
       "      <td>16.2</td>\n",
       "    </tr>\n",
       "    <tr>\n",
       "      <th>3</th>\n",
       "      <td>Изменить структура категорий, что увеличит кон...</td>\n",
       "      <td>9.0</td>\n",
       "    </tr>\n",
       "    <tr>\n",
       "      <th>1</th>\n",
       "      <td>Запустить собственную службу доставки, что сок...</td>\n",
       "      <td>4.0</td>\n",
       "    </tr>\n",
       "    <tr>\n",
       "      <th>5</th>\n",
       "      <td>Добавить страницу отзывов клиентов о магазине,...</td>\n",
       "      <td>4.0</td>\n",
       "    </tr>\n",
       "    <tr>\n",
       "      <th>4</th>\n",
       "      <td>Изменить цвет фона главной страницы, чтобы уве...</td>\n",
       "      <td>3.0</td>\n",
       "    </tr>\n",
       "  </tbody>\n",
       "</table>\n",
       "</div>"
      ],
      "text/plain": [
       "                                          hypothesis   rice\n",
       "7  Добавить форму подписки на все основные страни...  112.0\n",
       "2  Добавить блоки рекомендаций товаров на сайт ин...   56.0\n",
       "0  Добавить два новых канала привлечения трафика,...   40.0\n",
       "6  Показать на главной странице баннеры с актуаль...   40.0\n",
       "8  Запустить акцию, дающую скидку на товар в день...   16.2\n",
       "3  Изменить структура категорий, что увеличит кон...    9.0\n",
       "1  Запустить собственную службу доставки, что сок...    4.0\n",
       "5  Добавить страницу отзывов клиентов о магазине,...    4.0\n",
       "4  Изменить цвет фона главной страницы, чтобы уве...    3.0"
      ]
     },
     "execution_count": 8,
     "metadata": {},
     "output_type": "execute_result"
    }
   ],
   "source": [
    "hypothesis[['hypothesis', 'rice']].sort_values(by='rice', ascending=False)"
   ]
  },
  {
   "cell_type": "markdown",
   "metadata": {},
   "source": [
    "**Вывод:** мы провели приоритизацию списка гипотез по 2 методологиям: **ICE** и **RICE**. При включении параметра `reach` список значительно изменился:\n",
    "* *Акция в день рождения* опустилась с первого на пятое место - день рождения в ближайшем будущем будет лишь у небольшой доли клиентов, соответственно охват гипотезы не так велик. \n",
    "* *Новые каналы привлечения трафика* незначительно опустились - со второго на третье место, но эта гипотеза по-прежнему осталась в топе. \n",
    "* *Добавление формы подписки на все основные страницы* поднялось с третьего на первое место - эта гипотеза имеет максимальный охват, потому что затронет всех пользователей. \n",
    "* *Показ на главной странице баннеров с актуальными акциями* остался на четвертом месте без изменений.\n",
    "* *Добавление блоков рекомендаций товаров* поднялось с пятого на второе место - такие масштабные изменения увидят все пользователи сайта.\n",
    "* *Собственная служба доставки* незначительно опустилась с шестого на седьмое место.\n",
    "* *Страница отзывов* опустилась с седьмого на восьмое место.\n",
    "* *Изменение структуры категорий* поднялось с восьмого на шестое место - существенные изменения сайта опять же повлияют на большинство пользователей.\n",
    "* *Изменение цвета фона главной страницы* осталось на последнем (девятом) месте без изменений."
   ]
  },
  {
   "cell_type": "markdown",
   "metadata": {},
   "source": [
    "[Вернуться к оглавлению](#introduction)"
   ]
  },
  {
   "cell_type": "markdown",
   "metadata": {},
   "source": [
    "## 2. Анализ A/B теста <a name=\"paragraph2\"></a>"
   ]
  },
  {
   "cell_type": "markdown",
   "metadata": {},
   "source": [
    "### 2.1 Обзор и предобработка данных<a name=\"subparagraph2_1\"></a>"
   ]
  },
  {
   "cell_type": "code",
   "execution_count": 9,
   "metadata": {},
   "outputs": [],
   "source": [
    "orders = pd.read_csv('orders.csv')\n",
    "visitors = pd.read_csv('visitors.csv')"
   ]
  },
  {
   "cell_type": "markdown",
   "metadata": {},
   "source": [
    "#### 2.1.1 Таблица `orders` - информация о заказах<a name=\"subparagraph2_1_1\"></a>"
   ]
  },
  {
   "cell_type": "code",
   "execution_count": 10,
   "metadata": {},
   "outputs": [],
   "source": [
    "orders.columns = map(str.lower, orders.columns)"
   ]
  },
  {
   "cell_type": "code",
   "execution_count": 11,
   "metadata": {},
   "outputs": [
    {
     "data": {
      "text/html": [
       "<div>\n",
       "<style scoped>\n",
       "    .dataframe tbody tr th:only-of-type {\n",
       "        vertical-align: middle;\n",
       "    }\n",
       "\n",
       "    .dataframe tbody tr th {\n",
       "        vertical-align: top;\n",
       "    }\n",
       "\n",
       "    .dataframe thead th {\n",
       "        text-align: right;\n",
       "    }\n",
       "</style>\n",
       "<table border=\"1\" class=\"dataframe\">\n",
       "  <thead>\n",
       "    <tr style=\"text-align: right;\">\n",
       "      <th></th>\n",
       "      <th>transactionid</th>\n",
       "      <th>visitorid</th>\n",
       "      <th>date</th>\n",
       "      <th>revenue</th>\n",
       "      <th>group</th>\n",
       "    </tr>\n",
       "  </thead>\n",
       "  <tbody>\n",
       "    <tr>\n",
       "      <th>0</th>\n",
       "      <td>3667963787</td>\n",
       "      <td>3312258926</td>\n",
       "      <td>2019-08-15</td>\n",
       "      <td>1650</td>\n",
       "      <td>B</td>\n",
       "    </tr>\n",
       "    <tr>\n",
       "      <th>1</th>\n",
       "      <td>2804400009</td>\n",
       "      <td>3642806036</td>\n",
       "      <td>2019-08-15</td>\n",
       "      <td>730</td>\n",
       "      <td>B</td>\n",
       "    </tr>\n",
       "    <tr>\n",
       "      <th>2</th>\n",
       "      <td>2961555356</td>\n",
       "      <td>4069496402</td>\n",
       "      <td>2019-08-15</td>\n",
       "      <td>400</td>\n",
       "      <td>A</td>\n",
       "    </tr>\n",
       "    <tr>\n",
       "      <th>3</th>\n",
       "      <td>3797467345</td>\n",
       "      <td>1196621759</td>\n",
       "      <td>2019-08-15</td>\n",
       "      <td>9759</td>\n",
       "      <td>B</td>\n",
       "    </tr>\n",
       "    <tr>\n",
       "      <th>4</th>\n",
       "      <td>2282983706</td>\n",
       "      <td>2322279887</td>\n",
       "      <td>2019-08-15</td>\n",
       "      <td>2308</td>\n",
       "      <td>B</td>\n",
       "    </tr>\n",
       "    <tr>\n",
       "      <th>...</th>\n",
       "      <td>...</td>\n",
       "      <td>...</td>\n",
       "      <td>...</td>\n",
       "      <td>...</td>\n",
       "      <td>...</td>\n",
       "    </tr>\n",
       "    <tr>\n",
       "      <th>1192</th>\n",
       "      <td>2662137336</td>\n",
       "      <td>3733762160</td>\n",
       "      <td>2019-08-14</td>\n",
       "      <td>6490</td>\n",
       "      <td>B</td>\n",
       "    </tr>\n",
       "    <tr>\n",
       "      <th>1193</th>\n",
       "      <td>2203539145</td>\n",
       "      <td>370388673</td>\n",
       "      <td>2019-08-14</td>\n",
       "      <td>3190</td>\n",
       "      <td>A</td>\n",
       "    </tr>\n",
       "    <tr>\n",
       "      <th>1194</th>\n",
       "      <td>1807773912</td>\n",
       "      <td>573423106</td>\n",
       "      <td>2019-08-14</td>\n",
       "      <td>10550</td>\n",
       "      <td>A</td>\n",
       "    </tr>\n",
       "    <tr>\n",
       "      <th>1195</th>\n",
       "      <td>1947021204</td>\n",
       "      <td>1614305549</td>\n",
       "      <td>2019-08-14</td>\n",
       "      <td>100</td>\n",
       "      <td>A</td>\n",
       "    </tr>\n",
       "    <tr>\n",
       "      <th>1196</th>\n",
       "      <td>3936777065</td>\n",
       "      <td>2108080724</td>\n",
       "      <td>2019-08-15</td>\n",
       "      <td>202740</td>\n",
       "      <td>B</td>\n",
       "    </tr>\n",
       "  </tbody>\n",
       "</table>\n",
       "<p>1197 rows × 5 columns</p>\n",
       "</div>"
      ],
      "text/plain": [
       "      transactionid   visitorid        date  revenue group\n",
       "0        3667963787  3312258926  2019-08-15     1650     B\n",
       "1        2804400009  3642806036  2019-08-15      730     B\n",
       "2        2961555356  4069496402  2019-08-15      400     A\n",
       "3        3797467345  1196621759  2019-08-15     9759     B\n",
       "4        2282983706  2322279887  2019-08-15     2308     B\n",
       "...             ...         ...         ...      ...   ...\n",
       "1192     2662137336  3733762160  2019-08-14     6490     B\n",
       "1193     2203539145   370388673  2019-08-14     3190     A\n",
       "1194     1807773912   573423106  2019-08-14    10550     A\n",
       "1195     1947021204  1614305549  2019-08-14      100     A\n",
       "1196     3936777065  2108080724  2019-08-15   202740     B\n",
       "\n",
       "[1197 rows x 5 columns]"
      ]
     },
     "execution_count": 11,
     "metadata": {},
     "output_type": "execute_result"
    }
   ],
   "source": [
    "orders"
   ]
  },
  {
   "cell_type": "code",
   "execution_count": 12,
   "metadata": {},
   "outputs": [
    {
     "name": "stdout",
     "output_type": "stream",
     "text": [
      "<class 'pandas.core.frame.DataFrame'>\n",
      "RangeIndex: 1197 entries, 0 to 1196\n",
      "Data columns (total 5 columns):\n",
      " #   Column         Non-Null Count  Dtype \n",
      "---  ------         --------------  ----- \n",
      " 0   transactionid  1197 non-null   int64 \n",
      " 1   visitorid      1197 non-null   int64 \n",
      " 2   date           1197 non-null   object\n",
      " 3   revenue        1197 non-null   int64 \n",
      " 4   group          1197 non-null   object\n",
      "dtypes: int64(3), object(2)\n",
      "memory usage: 46.9+ KB\n"
     ]
    }
   ],
   "source": [
    "orders.info()"
   ]
  },
  {
   "cell_type": "markdown",
   "metadata": {},
   "source": [
    "`transactionid` — идентификатор заказа, `visitorid` — идентификатор пользователя, совершившего заказ, `date` — дата, когда был совершён заказ, `revenue` — выручка заказа, `group` — группа A/B-теста, в которую попал заказ."
   ]
  },
  {
   "cell_type": "markdown",
   "metadata": {},
   "source": [
    "Пропуски в таблице `orders` отсутствуют."
   ]
  },
  {
   "cell_type": "markdown",
   "metadata": {},
   "source": [
    "Приведем столбец `date` к формату datetime."
   ]
  },
  {
   "cell_type": "code",
   "execution_count": 13,
   "metadata": {},
   "outputs": [],
   "source": [
    "orders['date'] = pd.to_datetime(orders['date'], format='%Y-%m-%d')"
   ]
  },
  {
   "cell_type": "markdown",
   "metadata": {},
   "source": [
    "#### 2.1.2 Таблица `visitors` - информация о посетителях<a name=\"subparagraph2_1_2\"></a>"
   ]
  },
  {
   "cell_type": "code",
   "execution_count": 14,
   "metadata": {},
   "outputs": [
    {
     "data": {
      "text/html": [
       "<div>\n",
       "<style scoped>\n",
       "    .dataframe tbody tr th:only-of-type {\n",
       "        vertical-align: middle;\n",
       "    }\n",
       "\n",
       "    .dataframe tbody tr th {\n",
       "        vertical-align: top;\n",
       "    }\n",
       "\n",
       "    .dataframe thead th {\n",
       "        text-align: right;\n",
       "    }\n",
       "</style>\n",
       "<table border=\"1\" class=\"dataframe\">\n",
       "  <thead>\n",
       "    <tr style=\"text-align: right;\">\n",
       "      <th></th>\n",
       "      <th>date</th>\n",
       "      <th>group</th>\n",
       "      <th>visitors</th>\n",
       "    </tr>\n",
       "  </thead>\n",
       "  <tbody>\n",
       "    <tr>\n",
       "      <th>0</th>\n",
       "      <td>2019-08-01</td>\n",
       "      <td>A</td>\n",
       "      <td>719</td>\n",
       "    </tr>\n",
       "    <tr>\n",
       "      <th>1</th>\n",
       "      <td>2019-08-02</td>\n",
       "      <td>A</td>\n",
       "      <td>619</td>\n",
       "    </tr>\n",
       "    <tr>\n",
       "      <th>2</th>\n",
       "      <td>2019-08-03</td>\n",
       "      <td>A</td>\n",
       "      <td>507</td>\n",
       "    </tr>\n",
       "    <tr>\n",
       "      <th>3</th>\n",
       "      <td>2019-08-04</td>\n",
       "      <td>A</td>\n",
       "      <td>717</td>\n",
       "    </tr>\n",
       "    <tr>\n",
       "      <th>4</th>\n",
       "      <td>2019-08-05</td>\n",
       "      <td>A</td>\n",
       "      <td>756</td>\n",
       "    </tr>\n",
       "    <tr>\n",
       "      <th>...</th>\n",
       "      <td>...</td>\n",
       "      <td>...</td>\n",
       "      <td>...</td>\n",
       "    </tr>\n",
       "    <tr>\n",
       "      <th>57</th>\n",
       "      <td>2019-08-27</td>\n",
       "      <td>B</td>\n",
       "      <td>720</td>\n",
       "    </tr>\n",
       "    <tr>\n",
       "      <th>58</th>\n",
       "      <td>2019-08-28</td>\n",
       "      <td>B</td>\n",
       "      <td>654</td>\n",
       "    </tr>\n",
       "    <tr>\n",
       "      <th>59</th>\n",
       "      <td>2019-08-29</td>\n",
       "      <td>B</td>\n",
       "      <td>531</td>\n",
       "    </tr>\n",
       "    <tr>\n",
       "      <th>60</th>\n",
       "      <td>2019-08-30</td>\n",
       "      <td>B</td>\n",
       "      <td>490</td>\n",
       "    </tr>\n",
       "    <tr>\n",
       "      <th>61</th>\n",
       "      <td>2019-08-31</td>\n",
       "      <td>B</td>\n",
       "      <td>718</td>\n",
       "    </tr>\n",
       "  </tbody>\n",
       "</table>\n",
       "<p>62 rows × 3 columns</p>\n",
       "</div>"
      ],
      "text/plain": [
       "          date group  visitors\n",
       "0   2019-08-01     A       719\n",
       "1   2019-08-02     A       619\n",
       "2   2019-08-03     A       507\n",
       "3   2019-08-04     A       717\n",
       "4   2019-08-05     A       756\n",
       "..         ...   ...       ...\n",
       "57  2019-08-27     B       720\n",
       "58  2019-08-28     B       654\n",
       "59  2019-08-29     B       531\n",
       "60  2019-08-30     B       490\n",
       "61  2019-08-31     B       718\n",
       "\n",
       "[62 rows x 3 columns]"
      ]
     },
     "execution_count": 14,
     "metadata": {},
     "output_type": "execute_result"
    }
   ],
   "source": [
    "visitors"
   ]
  },
  {
   "cell_type": "code",
   "execution_count": 15,
   "metadata": {},
   "outputs": [
    {
     "name": "stdout",
     "output_type": "stream",
     "text": [
      "<class 'pandas.core.frame.DataFrame'>\n",
      "RangeIndex: 62 entries, 0 to 61\n",
      "Data columns (total 3 columns):\n",
      " #   Column    Non-Null Count  Dtype \n",
      "---  ------    --------------  ----- \n",
      " 0   date      62 non-null     object\n",
      " 1   group     62 non-null     object\n",
      " 2   visitors  62 non-null     int64 \n",
      "dtypes: int64(1), object(2)\n",
      "memory usage: 1.6+ KB\n"
     ]
    }
   ],
   "source": [
    "visitors.info()"
   ]
  },
  {
   "cell_type": "markdown",
   "metadata": {},
   "source": [
    "`date` — дата, `group` — группа A/B-теста, `visitors` — количество пользователей в указанную дату в указанной группе A/B-теста."
   ]
  },
  {
   "cell_type": "markdown",
   "metadata": {},
   "source": [
    "Пропуски в таблице `visitors` отсутствуют."
   ]
  },
  {
   "cell_type": "markdown",
   "metadata": {},
   "source": [
    "Приведем столбец `date` к формату datetime."
   ]
  },
  {
   "cell_type": "code",
   "execution_count": 16,
   "metadata": {},
   "outputs": [],
   "source": [
    "visitors['date'] = pd.to_datetime(visitors['date'], format='%Y-%m-%d')"
   ]
  },
  {
   "cell_type": "markdown",
   "metadata": {},
   "source": [
    "### 2.2 Исследовательский анализ данных<a name=\"subparagraph2_2\"></a>"
   ]
  },
  {
   "cell_type": "markdown",
   "metadata": {},
   "source": [
    "#### 2.2.1 График кумулятивной выручки по группам<a name=\"subparagraph2_2_1\"></a>"
   ]
  },
  {
   "cell_type": "markdown",
   "metadata": {},
   "source": [
    "Cоздаем массив уникальных пар значений дат и групп теста `dates_groups`."
   ]
  },
  {
   "cell_type": "code",
   "execution_count": 17,
   "metadata": {},
   "outputs": [],
   "source": [
    "dates_groups = orders[['date', 'group']].drop_duplicates()"
   ]
  },
  {
   "cell_type": "markdown",
   "metadata": {},
   "source": [
    "Получаем агрегированные по дням кумулятивные данные о заказах `orders_agg`."
   ]
  },
  {
   "cell_type": "code",
   "execution_count": 18,
   "metadata": {},
   "outputs": [],
   "source": [
    "orders_agg = dates_groups.apply(lambda x: orders[np.logical_and(orders['date'] <= x['date'], orders['group'] == x['group'])]\\\n",
    ".agg({'date' : 'max', 'group' : 'max', 'transactionid' : 'nunique', 'visitorid' : 'nunique', 'revenue' : 'sum'}), axis=1).sort_values(by=['date','group'])"
   ]
  },
  {
   "cell_type": "markdown",
   "metadata": {},
   "source": [
    "Получаем агрегированные по дням кумулятивные данные о посетителях интернет-магазина `visitors_agg`."
   ]
  },
  {
   "cell_type": "code",
   "execution_count": 19,
   "metadata": {},
   "outputs": [],
   "source": [
    "visitors_agg = dates_groups.apply(lambda x: visitors[np.logical_and(visitors['date'] <= x['date'], visitors['group'] == x['group'])].agg({'date' : 'max', 'group' : 'max', 'visitors' : 'sum'}), axis=1).sort_values(by=['date','group']) "
   ]
  },
  {
   "cell_type": "markdown",
   "metadata": {},
   "source": [
    "Объединяем кумулятивные данные в одной таблице `cumulative_data`."
   ]
  },
  {
   "cell_type": "code",
   "execution_count": 20,
   "metadata": {},
   "outputs": [],
   "source": [
    "cumulative_data = orders_agg.merge(visitors_agg, left_on=['date', 'group'], right_on=['date', 'group'])\n",
    "cumulative_data.columns = ['date', 'group', 'orders', 'buyers', 'revenue', 'visitors']"
   ]
  },
  {
   "cell_type": "markdown",
   "metadata": {},
   "source": [
    "Создадим датафрейм с кумулятивным количеством заказов и кумулятивной выручкой по дням в группе А `cumulative_revenue_A`."
   ]
  },
  {
   "cell_type": "code",
   "execution_count": 21,
   "metadata": {},
   "outputs": [],
   "source": [
    "cumulative_revenue_A = cumulative_data.query('group == \"A\"')[['date','revenue', 'orders']]"
   ]
  },
  {
   "cell_type": "markdown",
   "metadata": {},
   "source": [
    "Создадим датафрейм с кумулятивным количеством заказов и кумулятивной выручкой по дням в группе B `cumulative_revenue_B`."
   ]
  },
  {
   "cell_type": "code",
   "execution_count": 22,
   "metadata": {},
   "outputs": [],
   "source": [
    "cumulative_revenue_B = cumulative_data.query('group == \"B\"')[['date','revenue', 'orders']]"
   ]
  },
  {
   "cell_type": "markdown",
   "metadata": {},
   "source": [
    "Построим график кумулятивной выручки."
   ]
  },
  {
   "cell_type": "code",
   "execution_count": 23,
   "metadata": {},
   "outputs": [
    {
     "data": {
      "text/html": [
       "        <script type=\"text/javascript\">\n",
       "        window.PlotlyConfig = {MathJaxConfig: 'local'};\n",
       "        if (window.MathJax) {MathJax.Hub.Config({SVG: {font: \"STIX-Web\"}});}\n",
       "        if (typeof require !== 'undefined') {\n",
       "        require.undef(\"plotly\");\n",
       "        requirejs.config({\n",
       "            paths: {\n",
       "                'plotly': ['https://cdn.plot.ly/plotly-latest.min']\n",
       "            }\n",
       "        });\n",
       "        require(['plotly'], function(Plotly) {\n",
       "            window._Plotly = Plotly;\n",
       "        });\n",
       "        }\n",
       "        </script>\n",
       "        "
      ]
     },
     "metadata": {},
     "output_type": "display_data"
    },
    {
     "data": {
      "text/html": [
       "<div>                            <div id=\"bbdb6849-8f0f-48b6-9698-7f596d80bcb2\" class=\"plotly-graph-div\" style=\"height:650px; width:1000px;\"></div>            <script type=\"text/javascript\">                require([\"plotly\"], function(Plotly) {                    window.PLOTLYENV=window.PLOTLYENV || {};                                    if (document.getElementById(\"bbdb6849-8f0f-48b6-9698-7f596d80bcb2\")) {                    Plotly.newPlot(                        \"bbdb6849-8f0f-48b6-9698-7f596d80bcb2\",                        [{\"mode\": \"lines\", \"name\": \"Group A\", \"type\": \"scatter\", \"x\": [\"2019-08-01T00:00:00\", \"2019-08-02T00:00:00\", \"2019-08-03T00:00:00\", \"2019-08-04T00:00:00\", \"2019-08-05T00:00:00\", \"2019-08-06T00:00:00\", \"2019-08-07T00:00:00\", \"2019-08-08T00:00:00\", \"2019-08-09T00:00:00\", \"2019-08-10T00:00:00\", \"2019-08-11T00:00:00\", \"2019-08-12T00:00:00\", \"2019-08-13T00:00:00\", \"2019-08-14T00:00:00\", \"2019-08-15T00:00:00\", \"2019-08-16T00:00:00\", \"2019-08-17T00:00:00\", \"2019-08-18T00:00:00\", \"2019-08-19T00:00:00\", \"2019-08-20T00:00:00\", \"2019-08-21T00:00:00\", \"2019-08-22T00:00:00\", \"2019-08-23T00:00:00\", \"2019-08-24T00:00:00\", \"2019-08-25T00:00:00\", \"2019-08-26T00:00:00\", \"2019-08-27T00:00:00\", \"2019-08-28T00:00:00\", \"2019-08-29T00:00:00\", \"2019-08-30T00:00:00\", \"2019-08-31T00:00:00\"], \"y\": [148579, 242401, 354874, 425699, 549917, 598401, 740818, 837097, 1025603, 1236098, 1313683, 1562873, 1826511, 1890852, 1979057, 2078908, 2129769, 2202167, 2391910, 2469529, 2643838, 2756579, 2874367, 3002070, 3070704, 3227918, 3514698, 3615820, 3936510, 4022970, 4084803]}, {\"mode\": \"lines\", \"name\": \"Group B\", \"type\": \"scatter\", \"x\": [\"2019-08-01T00:00:00\", \"2019-08-02T00:00:00\", \"2019-08-03T00:00:00\", \"2019-08-04T00:00:00\", \"2019-08-05T00:00:00\", \"2019-08-06T00:00:00\", \"2019-08-07T00:00:00\", \"2019-08-08T00:00:00\", \"2019-08-09T00:00:00\", \"2019-08-10T00:00:00\", \"2019-08-11T00:00:00\", \"2019-08-12T00:00:00\", \"2019-08-13T00:00:00\", \"2019-08-14T00:00:00\", \"2019-08-15T00:00:00\", \"2019-08-16T00:00:00\", \"2019-08-17T00:00:00\", \"2019-08-18T00:00:00\", \"2019-08-19T00:00:00\", \"2019-08-20T00:00:00\", \"2019-08-21T00:00:00\", \"2019-08-22T00:00:00\", \"2019-08-23T00:00:00\", \"2019-08-24T00:00:00\", \"2019-08-25T00:00:00\", \"2019-08-26T00:00:00\", \"2019-08-27T00:00:00\", \"2019-08-28T00:00:00\", \"2019-08-29T00:00:00\", \"2019-08-30T00:00:00\", \"2019-08-31T00:00:00\"], \"y\": [101217, 266748, 380996, 489567, 581995, 824337, 1049671, 1270589, 1431401, 1539203, 1592513, 1734067, 1853738, 2025446, 2367945, 2539635, 2620790, 2686621, 4116541, 4263815, 4426892, 4589247, 4703216, 4798722, 4901584, 5084583, 5232260, 5328268, 5559398, 5774631, 5907760]}],                        {\"autosize\": false, \"height\": 650, \"legend\": {\"x\": 0.01, \"xanchor\": \"left\", \"y\": 0.99, \"yanchor\": \"top\"}, \"template\": {\"data\": {\"scatter\": [{\"type\": \"scatter\"}]}}, \"title\": {\"text\": \"\\u041a\\u0443\\u043c\\u0443\\u043b\\u044f\\u0442\\u0438\\u0432\\u043d\\u0430\\u044f \\u0432\\u044b\\u0440\\u0443\\u0447\\u043a\\u0430 \\u043f\\u043e \\u0433\\u0440\\u0443\\u043f\\u043f\\u0430\\u043c\"}, \"width\": 1000, \"xaxis\": {\"title\": {\"text\": \"\\u0414\\u0430\\u0442\\u0430\"}}, \"yaxis\": {\"title\": {\"text\": \"\\u0412\\u044b\\u0440\\u0443\\u0447\\u043a\\u0430 \\u0432 \\u0440\\u0443\\u0431\\u043b\\u044f\\u0445\"}}},                        {\"responsive\": true}                    ).then(function(){\n",
       "                            \n",
       "var gd = document.getElementById('bbdb6849-8f0f-48b6-9698-7f596d80bcb2');\n",
       "var x = new MutationObserver(function (mutations, observer) {{\n",
       "        var display = window.getComputedStyle(gd).display;\n",
       "        if (!display || display === 'none') {{\n",
       "            console.log([gd, 'removed!']);\n",
       "            Plotly.purge(gd);\n",
       "            observer.disconnect();\n",
       "        }}\n",
       "}});\n",
       "\n",
       "// Listen for the removal of the full notebook cells\n",
       "var notebookContainer = gd.closest('#notebook-container');\n",
       "if (notebookContainer) {{\n",
       "    x.observe(notebookContainer, {childList: true});\n",
       "}}\n",
       "\n",
       "// Listen for the clearing of the current output cell\n",
       "var outputEl = gd.closest('.output');\n",
       "if (outputEl) {{\n",
       "    x.observe(outputEl, {childList: true});\n",
       "}}\n",
       "\n",
       "                        })                };                });            </script>        </div>"
      ]
     },
     "metadata": {},
     "output_type": "display_data"
    }
   ],
   "source": [
    "fig = go.Figure()\n",
    "fig.add_trace(go.Scatter(x=cumulative_revenue_A['date'], y=cumulative_revenue_A['revenue'],\n",
    "                    mode='lines',\n",
    "                    name='Group A'))\n",
    "fig.add_trace(go.Scatter(x=cumulative_revenue_B['date'], y=cumulative_revenue_B['revenue'],\n",
    "                    mode='lines',\n",
    "                    name='Group B'))\n",
    "fig.update_layout(title=\"Кумулятивная выручка по группам\",\n",
    "    xaxis_title=\"Дата\",\n",
    "    yaxis_title=\"Выручка в рублях\",\n",
    "    legend=dict(\n",
    "    yanchor=\"top\",\n",
    "    y=0.99,\n",
    "    xanchor=\"left\",\n",
    "    x=0.01),\n",
    "    autosize=False,\n",
    "    width=1000,\n",
    "    height=650)\n",
    "fig.show();"
   ]
  },
  {
   "cell_type": "markdown",
   "metadata": {},
   "source": [
    "**Вывод:** накопленная выручка каждой из групп имела устойчивый восходящий тренд в период проведения теста. *Группа B* превосходила *группу A* на протяжении всего исследуемого периода за исключением одного дня - 1 августа 2019. 5 и 13 августа разрыв между группами был минимальным с незначительным преимуществом *группы B*, и каждый раз *группе B* удавалось усилить свое лидерство. С 18 по 19 августа 2019 выручка *группы B* резко увеличилась в 1.5 раза (с 2,7 млн до 4.1 млн руб.) - это может говорить о том, что в *группе B* появились аномально дорогие заказы или их нетипично большое  количество за короткое время. *Группе A* не удалось сократить отставание на конец исследуемого периода. "
   ]
  },
  {
   "cell_type": "markdown",
   "metadata": {},
   "source": [
    "#### 2.2.2 График кумулятивного среднего чека по группам<a name=\"subparagraph2_2_2\"></a>"
   ]
  },
  {
   "cell_type": "code",
   "execution_count": 24,
   "metadata": {},
   "outputs": [
    {
     "data": {
      "text/html": [
       "<div>                            <div id=\"c774ad85-1408-4290-95b6-b7626665b450\" class=\"plotly-graph-div\" style=\"height:650px; width:1000px;\"></div>            <script type=\"text/javascript\">                require([\"plotly\"], function(Plotly) {                    window.PLOTLYENV=window.PLOTLYENV || {};                                    if (document.getElementById(\"c774ad85-1408-4290-95b6-b7626665b450\")) {                    Plotly.newPlot(                        \"c774ad85-1408-4290-95b6-b7626665b450\",                        [{\"mode\": \"lines\", \"name\": \"Group A\", \"type\": \"scatter\", \"x\": [\"2019-08-01T00:00:00\", \"2019-08-02T00:00:00\", \"2019-08-03T00:00:00\", \"2019-08-04T00:00:00\", \"2019-08-05T00:00:00\", \"2019-08-06T00:00:00\", \"2019-08-07T00:00:00\", \"2019-08-08T00:00:00\", \"2019-08-09T00:00:00\", \"2019-08-10T00:00:00\", \"2019-08-11T00:00:00\", \"2019-08-12T00:00:00\", \"2019-08-13T00:00:00\", \"2019-08-14T00:00:00\", \"2019-08-15T00:00:00\", \"2019-08-16T00:00:00\", \"2019-08-17T00:00:00\", \"2019-08-18T00:00:00\", \"2019-08-19T00:00:00\", \"2019-08-20T00:00:00\", \"2019-08-21T00:00:00\", \"2019-08-22T00:00:00\", \"2019-08-23T00:00:00\", \"2019-08-24T00:00:00\", \"2019-08-25T00:00:00\", \"2019-08-26T00:00:00\", \"2019-08-27T00:00:00\", \"2019-08-28T00:00:00\", \"2019-08-29T00:00:00\", \"2019-08-30T00:00:00\", \"2019-08-31T00:00:00\"], \"y\": [6190.791666666667, 5509.113636363636, 5218.735294117647, 5067.8452380952385, 5045.1100917431195, 4711.818897637795, 5109.089655172414, 5199.360248447205, 5794.367231638418, 6404.652849740933, 6377.101941747573, 6795.1, 7485.700819672131, 7055.417910447762, 6993.134275618375, 6906.671096345515, 6848.131832797428, 6713.923780487805, 6834.028571428571, 6821.903314917127, 6867.111688311688, 6874.261845386533, 6747.340375586855, 6807.414965986394, 6808.656319290466, 6912.029978586724, 7100.4, 7062.1484375, 7371.741573033708, 7381.59633027523, 7333.578096947936]}, {\"mode\": \"lines\", \"name\": \"Group B\", \"type\": \"scatter\", \"x\": [\"2019-08-01T00:00:00\", \"2019-08-02T00:00:00\", \"2019-08-03T00:00:00\", \"2019-08-04T00:00:00\", \"2019-08-05T00:00:00\", \"2019-08-06T00:00:00\", \"2019-08-07T00:00:00\", \"2019-08-08T00:00:00\", \"2019-08-09T00:00:00\", \"2019-08-10T00:00:00\", \"2019-08-11T00:00:00\", \"2019-08-12T00:00:00\", \"2019-08-13T00:00:00\", \"2019-08-14T00:00:00\", \"2019-08-15T00:00:00\", \"2019-08-16T00:00:00\", \"2019-08-17T00:00:00\", \"2019-08-18T00:00:00\", \"2019-08-19T00:00:00\", \"2019-08-20T00:00:00\", \"2019-08-21T00:00:00\", \"2019-08-22T00:00:00\", \"2019-08-23T00:00:00\", \"2019-08-24T00:00:00\", \"2019-08-25T00:00:00\", \"2019-08-26T00:00:00\", \"2019-08-27T00:00:00\", \"2019-08-28T00:00:00\", \"2019-08-29T00:00:00\", \"2019-08-30T00:00:00\", \"2019-08-31T00:00:00\"], \"y\": [4819.857142857143, 5927.733333333334, 6245.836065573771, 6276.5, 5762.3267326732675, 6390.209302325581, 6860.59477124183, 7058.827777777778, 6982.443902439024, 6750.890350877193, 6607.9377593361, 6568.435606060606, 6504.343859649123, 6576.123376623376, 6985.088495575221, 7074.192200557103, 7026.246648793565, 7033.039267015707, 10214.741935483871, 10079.940898345154, 10130.187643020596, 9933.435064935065, 9859.991614255765, 9733.71602434077, 9667.818540433926, 9557.486842105263, 9547.919708029198, 9250.465277777777, 9327.848993288591, 9313.920967741935, 9230.875]}],                        {\"autosize\": false, \"height\": 650, \"legend\": {\"x\": 0.01, \"xanchor\": \"left\", \"y\": 0.99, \"yanchor\": \"top\"}, \"template\": {\"data\": {\"scatter\": [{\"type\": \"scatter\"}]}}, \"title\": {\"text\": \"\\u041a\\u0443\\u043c\\u0443\\u043b\\u044f\\u0442\\u0438\\u0432\\u043d\\u044b\\u0439 \\u0441\\u0440\\u0435\\u0434\\u043d\\u0438\\u0439 \\u0447\\u0435\\u043a \\u043f\\u043e \\u0433\\u0440\\u0443\\u043f\\u043f\\u0430\\u043c\"}, \"width\": 1000, \"xaxis\": {\"title\": {\"text\": \"\\u0414\\u0430\\u0442\\u0430\"}}, \"yaxis\": {\"title\": {\"text\": \"\\u0421\\u0440\\u0435\\u0434\\u043d\\u0438\\u0439 \\u0447\\u0435\\u043a \\u0432 \\u0440\\u0443\\u0431\\u043b\\u044f\\u0445\"}}},                        {\"responsive\": true}                    ).then(function(){\n",
       "                            \n",
       "var gd = document.getElementById('c774ad85-1408-4290-95b6-b7626665b450');\n",
       "var x = new MutationObserver(function (mutations, observer) {{\n",
       "        var display = window.getComputedStyle(gd).display;\n",
       "        if (!display || display === 'none') {{\n",
       "            console.log([gd, 'removed!']);\n",
       "            Plotly.purge(gd);\n",
       "            observer.disconnect();\n",
       "        }}\n",
       "}});\n",
       "\n",
       "// Listen for the removal of the full notebook cells\n",
       "var notebookContainer = gd.closest('#notebook-container');\n",
       "if (notebookContainer) {{\n",
       "    x.observe(notebookContainer, {childList: true});\n",
       "}}\n",
       "\n",
       "// Listen for the clearing of the current output cell\n",
       "var outputEl = gd.closest('.output');\n",
       "if (outputEl) {{\n",
       "    x.observe(outputEl, {childList: true});\n",
       "}}\n",
       "\n",
       "                        })                };                });            </script>        </div>"
      ]
     },
     "metadata": {},
     "output_type": "display_data"
    }
   ],
   "source": [
    "fig = go.Figure()\n",
    "fig.add_trace(go.Scatter(x=cumulative_revenue_A['date'], y=cumulative_revenue_A['revenue']/cumulative_revenue_A['orders'],\n",
    "                    mode='lines',\n",
    "                    name='Group A'))\n",
    "fig.add_trace(go.Scatter(x=cumulative_revenue_B['date'], y=cumulative_revenue_B['revenue']/cumulative_revenue_B['orders'],\n",
    "                    mode='lines',\n",
    "                    name='Group B'))\n",
    "fig.update_layout(title=\"Кумулятивный средний чек по группам\",\n",
    "    xaxis_title=\"Дата\",\n",
    "    yaxis_title=\"Средний чек в рублях\",\n",
    "    legend=dict(\n",
    "    yanchor=\"top\",\n",
    "    y=0.99,\n",
    "    xanchor=\"left\",\n",
    "    x=0.01),\n",
    "    autosize=False,\n",
    "    width=1000,\n",
    "    height=650)\n",
    "fig.show();"
   ]
  },
  {
   "cell_type": "markdown",
   "metadata": {},
   "source": [
    "**Вывод:** на начало исследуемого периода (1 августа) *группа А* имела более высокий средний чек, однако уже на следующий день уступила *группе B*. К 12 августа *группа A* ненадолго восстановила лидерство над *группой B*, достигнув собственного пика 13 августа. С 16 августа накопленный средний чек стал выше в *группе B* и ее преимущество сохранилось до конца теста, несмотря на медленное сокращение разрыва между группами, начиная с 19 августа. График накопленного среднего чека также демонстрирует, что в *группе B* присутствовал некий выброс 18-19 августа, который закрепил ее преимущество и мог повлиять на результаты теста. Одной из причин, как мы уже упоминали ранее, могли быть некоторые аномально крупные заказы."
   ]
  },
  {
   "cell_type": "markdown",
   "metadata": {},
   "source": [
    "#### 2.2.3 График относительного различия кумулятивного среднего чека между группами<a name=\"subparagraph2_2_3\"></a>"
   ]
  },
  {
   "cell_type": "markdown",
   "metadata": {},
   "source": [
    "Соединим данные по кумулятивным выручкам в `cumulative_revenue`."
   ]
  },
  {
   "cell_type": "code",
   "execution_count": 25,
   "metadata": {},
   "outputs": [],
   "source": [
    "cumulative_revenue = cumulative_revenue_A.merge(cumulative_revenue_B, left_on='date', right_on='date', how='left', suffixes=['_A', '_B'])"
   ]
  },
  {
   "cell_type": "markdown",
   "metadata": {},
   "source": [
    "Рассчитаем отношения средних чеков между группами `average_purchase_ratio_BA`."
   ]
  },
  {
   "cell_type": "code",
   "execution_count": 26,
   "metadata": {},
   "outputs": [],
   "source": [
    "average_purchase_ratio_BA = ((cumulative_revenue['revenue_B'] / cumulative_revenue['orders_B']) / (cumulative_revenue['revenue_A'] / cumulative_revenue['orders_A'])) - 1"
   ]
  },
  {
   "cell_type": "code",
   "execution_count": 27,
   "metadata": {},
   "outputs": [
    {
     "data": {
      "text/html": [
       "<div>                            <div id=\"7f423bc2-f884-4b2d-a46e-d143c3fbb6b6\" class=\"plotly-graph-div\" style=\"height:650px; width:1000px;\"></div>            <script type=\"text/javascript\">                require([\"plotly\"], function(Plotly) {                    window.PLOTLYENV=window.PLOTLYENV || {};                                    if (document.getElementById(\"7f423bc2-f884-4b2d-a46e-d143c3fbb6b6\")) {                    Plotly.newPlot(                        \"7f423bc2-f884-4b2d-a46e-d143c3fbb6b6\",                        [{\"mode\": \"lines\", \"name\": \"\\u041e\\u0442\\u043d\\u043e\\u0448\\u0435\\u043d\\u0438\\u0435 \\u0433\\u0440\\u0443\\u043f\\u043f\\u044b B \\u043a A\", \"type\": \"scatter\", \"x\": [\"2019-08-01T00:00:00\", \"2019-08-02T00:00:00\", \"2019-08-03T00:00:00\", \"2019-08-04T00:00:00\", \"2019-08-05T00:00:00\", \"2019-08-06T00:00:00\", \"2019-08-07T00:00:00\", \"2019-08-08T00:00:00\", \"2019-08-09T00:00:00\", \"2019-08-10T00:00:00\", \"2019-08-11T00:00:00\", \"2019-08-12T00:00:00\", \"2019-08-13T00:00:00\", \"2019-08-14T00:00:00\", \"2019-08-15T00:00:00\", \"2019-08-16T00:00:00\", \"2019-08-17T00:00:00\", \"2019-08-18T00:00:00\", \"2019-08-19T00:00:00\", \"2019-08-20T00:00:00\", \"2019-08-21T00:00:00\", \"2019-08-22T00:00:00\", \"2019-08-23T00:00:00\", \"2019-08-24T00:00:00\", \"2019-08-25T00:00:00\", \"2019-08-26T00:00:00\", \"2019-08-27T00:00:00\", \"2019-08-28T00:00:00\", \"2019-08-29T00:00:00\", \"2019-08-30T00:00:00\", \"2019-08-31T00:00:00\"], \"y\": [-0.22144736854756442, 0.07598676023063722, 0.19681028325269367, 0.2384948050148108, 0.14216075127953154, 0.3562085982398906, 0.34282137020167625, 0.3576339088805982, 0.20503993331894232, 0.05406030728898381, 0.03619760507157088, -0.033357035796293566, -0.13109753965106907, -0.0679328340160601, -0.0011505256049788581, 0.024254970574786316, 0.026009256297184757, 0.04753040054689395, 0.4946882104340695, 0.47758483710899746, 0.4751744405530631, 0.44501843083001114, 0.46131528356433105, 0.4298696455226827, 0.4199304660220262, 0.3827322612480113, 0.344701665825756, 0.30986559680023396, 0.26535214248563, 0.26177598327090545, 0.2587136699126005]}],                        {\"autosize\": false, \"height\": 650, \"legend\": {\"x\": 0.01, \"xanchor\": \"left\", \"y\": 0.99, \"yanchor\": \"top\"}, \"template\": {\"data\": {\"scatter\": [{\"type\": \"scatter\"}]}}, \"title\": {\"text\": \"\\u041e\\u0442\\u043d\\u043e\\u0441\\u0438\\u0442\\u0435\\u043b\\u044c\\u043d\\u043e\\u0435 \\u0438\\u0437\\u043c\\u0435\\u043d\\u0435\\u043d\\u0438\\u0435 \\u043a\\u0443\\u043c\\u0443\\u043b\\u044f\\u0442\\u0438\\u0432\\u043d\\u043e\\u0433\\u043e \\u0441\\u0440\\u0435\\u0434\\u043d\\u0435\\u0433\\u043e \\u0447\\u0435\\u043a\\u0430 \\u0433\\u0440\\u0443\\u043f\\u043f\\u044b B \\u043a A\"}, \"width\": 1000, \"xaxis\": {\"title\": {\"text\": \"\\u0414\\u0430\\u0442\\u0430\"}}, \"yaxis\": {\"title\": {\"text\": \"\\u041e\\u0442\\u043d\\u043e\\u0448\\u0435\\u043d\\u0438\\u0435 \\u0441\\u0440\\u0435\\u0434\\u043d\\u0435\\u0433\\u043e \\u0447\\u0435\\u043a\\u0430 \\u043c\\u0435\\u0436\\u0434\\u0443 \\u0433\\u0440\\u0443\\u043f\\u043f\\u0430\\u043c\\u0438\"}}},                        {\"responsive\": true}                    ).then(function(){\n",
       "                            \n",
       "var gd = document.getElementById('7f423bc2-f884-4b2d-a46e-d143c3fbb6b6');\n",
       "var x = new MutationObserver(function (mutations, observer) {{\n",
       "        var display = window.getComputedStyle(gd).display;\n",
       "        if (!display || display === 'none') {{\n",
       "            console.log([gd, 'removed!']);\n",
       "            Plotly.purge(gd);\n",
       "            observer.disconnect();\n",
       "        }}\n",
       "}});\n",
       "\n",
       "// Listen for the removal of the full notebook cells\n",
       "var notebookContainer = gd.closest('#notebook-container');\n",
       "if (notebookContainer) {{\n",
       "    x.observe(notebookContainer, {childList: true});\n",
       "}}\n",
       "\n",
       "// Listen for the clearing of the current output cell\n",
       "var outputEl = gd.closest('.output');\n",
       "if (outputEl) {{\n",
       "    x.observe(outputEl, {childList: true});\n",
       "}}\n",
       "\n",
       "                        })                };                });            </script>        </div>"
      ]
     },
     "metadata": {},
     "output_type": "display_data"
    }
   ],
   "source": [
    "fig = go.Figure()\n",
    "fig.add_trace(go.Scatter(x=cumulative_revenue['date'], y=average_purchase_ratio_BA,\n",
    "                    mode='lines',\n",
    "                    name='Отношение группы B к A'))\n",
    "fig.update_layout(title=\"Относительное изменение кумулятивного среднего чека группы B к A\",\n",
    "    xaxis_title=\"Дата\",\n",
    "    yaxis_title=\"Отношение среднего чека между группами\",\n",
    "    legend=dict(\n",
    "    yanchor=\"top\",\n",
    "    y=0.99,\n",
    "    xanchor=\"left\",\n",
    "    x=0.01),\n",
    "    autosize=False,\n",
    "    width=1000,\n",
    "    height=650)\n",
    "fig.show();"
   ]
  },
  {
   "cell_type": "markdown",
   "metadata": {},
   "source": [
    "**Вывод:** график отношения накопленных средних чеков между группами позволяет более явно увидеть, что *группа B* имела преимущество над *группой A* в течение практически всего времени проведения теста. Стабилизация наступила к концу исследуемого периода на уровне около 26%. Кроме того, резкие скачки и падения на графике могут указывать на выбросы в данных."
   ]
  },
  {
   "cell_type": "markdown",
   "metadata": {},
   "source": [
    "#### 2.2.4 График кумулятивной конверсии по группам<a name=\"subparagraph2_2_4\"></a>"
   ]
  },
  {
   "cell_type": "markdown",
   "metadata": {},
   "source": [
    "Расчитаем кумулятивную конверсию `conversion`."
   ]
  },
  {
   "cell_type": "code",
   "execution_count": 28,
   "metadata": {},
   "outputs": [],
   "source": [
    "cumulative_data['conversion'] = cumulative_data['orders'] / cumulative_data['visitors']"
   ]
  },
  {
   "cell_type": "markdown",
   "metadata": {},
   "source": [
    "Кумулятивная конверсия группы A"
   ]
  },
  {
   "cell_type": "code",
   "execution_count": 29,
   "metadata": {},
   "outputs": [],
   "source": [
    "cumulative_data_A = cumulative_data.query('group == \"A\"')"
   ]
  },
  {
   "cell_type": "markdown",
   "metadata": {},
   "source": [
    "Кумулятивная конверсия группы B"
   ]
  },
  {
   "cell_type": "code",
   "execution_count": 30,
   "metadata": {},
   "outputs": [],
   "source": [
    "cumulative_data_B = cumulative_data.query('group == \"B\"')"
   ]
  },
  {
   "cell_type": "markdown",
   "metadata": {},
   "source": [
    "Построим график кумулятивной конверсии по группам."
   ]
  },
  {
   "cell_type": "code",
   "execution_count": 31,
   "metadata": {},
   "outputs": [
    {
     "data": {
      "text/html": [
       "<div>                            <div id=\"22d94d66-e58f-4f53-b1dd-7a4564f0d46d\" class=\"plotly-graph-div\" style=\"height:650px; width:1000px;\"></div>            <script type=\"text/javascript\">                require([\"plotly\"], function(Plotly) {                    window.PLOTLYENV=window.PLOTLYENV || {};                                    if (document.getElementById(\"22d94d66-e58f-4f53-b1dd-7a4564f0d46d\")) {                    Plotly.newPlot(                        \"22d94d66-e58f-4f53-b1dd-7a4564f0d46d\",                        [{\"mode\": \"lines\", \"name\": \"Group A\", \"type\": \"scatter\", \"x\": [\"2019-08-01T00:00:00\", \"2019-08-02T00:00:00\", \"2019-08-03T00:00:00\", \"2019-08-04T00:00:00\", \"2019-08-05T00:00:00\", \"2019-08-06T00:00:00\", \"2019-08-07T00:00:00\", \"2019-08-08T00:00:00\", \"2019-08-09T00:00:00\", \"2019-08-10T00:00:00\", \"2019-08-11T00:00:00\", \"2019-08-12T00:00:00\", \"2019-08-13T00:00:00\", \"2019-08-14T00:00:00\", \"2019-08-15T00:00:00\", \"2019-08-16T00:00:00\", \"2019-08-17T00:00:00\", \"2019-08-18T00:00:00\", \"2019-08-19T00:00:00\", \"2019-08-20T00:00:00\", \"2019-08-21T00:00:00\", \"2019-08-22T00:00:00\", \"2019-08-23T00:00:00\", \"2019-08-24T00:00:00\", \"2019-08-25T00:00:00\", \"2019-08-26T00:00:00\", \"2019-08-27T00:00:00\", \"2019-08-28T00:00:00\", \"2019-08-29T00:00:00\", \"2019-08-30T00:00:00\", \"2019-08-31T00:00:00\"], \"y\": [0.03337969401947149, 0.03288490284005979, 0.03685636856368564, 0.03278688524590164, 0.03285111512959614, 0.031869510664993723, 0.031324260099373516, 0.030731055544951327, 0.030225409836065573, 0.03082082401788566, 0.029512893982808024, 0.030363036303630363, 0.02931635227682326, 0.029587105321262974, 0.029217427214536445, 0.02995919179854683, 0.029735156324696435, 0.029477846679248673, 0.0300971708659386, 0.02966240576860046, 0.029961089494163425, 0.02979418976149788, 0.030588066345946723, 0.030791788856304986, 0.030181355818778025, 0.029811682093839772, 0.03022716170004885, 0.030170889805539187, 0.030432552573089418, 0.030215667793979044, 0.029728864218616567]}, {\"mode\": \"lines\", \"name\": \"Group B\", \"type\": \"scatter\", \"x\": [\"2019-08-01T00:00:00\", \"2019-08-02T00:00:00\", \"2019-08-03T00:00:00\", \"2019-08-04T00:00:00\", \"2019-08-05T00:00:00\", \"2019-08-06T00:00:00\", \"2019-08-07T00:00:00\", \"2019-08-08T00:00:00\", \"2019-08-09T00:00:00\", \"2019-08-10T00:00:00\", \"2019-08-11T00:00:00\", \"2019-08-12T00:00:00\", \"2019-08-13T00:00:00\", \"2019-08-14T00:00:00\", \"2019-08-15T00:00:00\", \"2019-08-16T00:00:00\", \"2019-08-17T00:00:00\", \"2019-08-18T00:00:00\", \"2019-08-19T00:00:00\", \"2019-08-20T00:00:00\", \"2019-08-21T00:00:00\", \"2019-08-22T00:00:00\", \"2019-08-23T00:00:00\", \"2019-08-24T00:00:00\", \"2019-08-25T00:00:00\", \"2019-08-26T00:00:00\", \"2019-08-27T00:00:00\", \"2019-08-28T00:00:00\", \"2019-08-29T00:00:00\", \"2019-08-30T00:00:00\", \"2019-08-31T00:00:00\"], \"y\": [0.029453015427769985, 0.0347758887171561, 0.03383250138657792, 0.030314807617567042, 0.030792682926829268, 0.03278271918678526, 0.03294573643410853, 0.03397508493771234, 0.034698713608666214, 0.036323084275927994, 0.03443841097456416, 0.03500861954647925, 0.03429602888086643, 0.03401060070671378, 0.0353125, 0.035853390592230104, 0.03574851447191873, 0.03419568525646764, 0.03456853662720878, 0.03462105090849566, 0.03394438402982756, 0.034161490683229816, 0.03390191897654584, 0.03412236987818383, 0.03351622925894097, 0.033664494083401886, 0.033165889971554806, 0.033533213017407, 0.03365710413372487, 0.03406967798659193, 0.033833791499259885]}],                        {\"autosize\": false, \"height\": 650, \"legend\": {\"x\": 0.99, \"xanchor\": \"right\", \"y\": 0.99, \"yanchor\": \"top\"}, \"template\": {\"data\": {\"scatter\": [{\"type\": \"scatter\"}]}}, \"title\": {\"text\": \"\\u041a\\u0443\\u043c\\u0443\\u043b\\u044f\\u0442\\u0438\\u0432\\u043d\\u0430\\u044f \\u043a\\u043e\\u043d\\u0432\\u0435\\u0440\\u0441\\u0438\\u044f \\u043f\\u043e \\u0433\\u0440\\u0443\\u043f\\u043f\\u0430\\u043c\"}, \"width\": 1000, \"xaxis\": {\"title\": {\"text\": \"\\u0414\\u0430\\u0442\\u0430\"}}, \"yaxis\": {\"title\": {\"text\": \"\\u041a\\u043e\\u043d\\u0432\\u0435\\u0440\\u0441\\u0438\\u044f\"}}},                        {\"responsive\": true}                    ).then(function(){\n",
       "                            \n",
       "var gd = document.getElementById('22d94d66-e58f-4f53-b1dd-7a4564f0d46d');\n",
       "var x = new MutationObserver(function (mutations, observer) {{\n",
       "        var display = window.getComputedStyle(gd).display;\n",
       "        if (!display || display === 'none') {{\n",
       "            console.log([gd, 'removed!']);\n",
       "            Plotly.purge(gd);\n",
       "            observer.disconnect();\n",
       "        }}\n",
       "}});\n",
       "\n",
       "// Listen for the removal of the full notebook cells\n",
       "var notebookContainer = gd.closest('#notebook-container');\n",
       "if (notebookContainer) {{\n",
       "    x.observe(notebookContainer, {childList: true});\n",
       "}}\n",
       "\n",
       "// Listen for the clearing of the current output cell\n",
       "var outputEl = gd.closest('.output');\n",
       "if (outputEl) {{\n",
       "    x.observe(outputEl, {childList: true});\n",
       "}}\n",
       "\n",
       "                        })                };                });            </script>        </div>"
      ]
     },
     "metadata": {},
     "output_type": "display_data"
    }
   ],
   "source": [
    "fig = go.Figure()\n",
    "fig.add_trace(go.Scatter(x=cumulative_data_A['date'], y=cumulative_data_A['conversion'],\n",
    "                    mode='lines',\n",
    "                    name='Group A'))\n",
    "fig.add_trace(go.Scatter(x=cumulative_data_B['date'], y=cumulative_data_B['conversion'],\n",
    "                    mode='lines',\n",
    "                    name='Group B'))\n",
    "fig.update_layout(title=\"Кумулятивная конверсия по группам\",\n",
    "    xaxis_title=\"Дата\",\n",
    "    yaxis_title=\"Конверсия\",\n",
    "    legend=dict(\n",
    "    yanchor=\"top\",\n",
    "    y=0.99,\n",
    "    xanchor=\"right\",\n",
    "    x=0.99),\n",
    "    autosize=False,\n",
    "    width=1000,\n",
    "    height=650)\n",
    "fig.show();"
   ]
  },
  {
   "cell_type": "markdown",
   "metadata": {},
   "source": [
    "**Вывод:** конверсия *группы A* резко увеличилась в начале теста (3 августа), однако уже с 6 августа до конца теста *группа B* вырвалась вперед и сохранила преимущество до конца теста. Конверсия *группы A* в свою очередь снизилась и также зафиксировалась."
   ]
  },
  {
   "cell_type": "markdown",
   "metadata": {},
   "source": [
    "#### 2.2.5 График относительного изменения кумулятивной конверсии группы B к группе A<a name=\"subparagraph2_2_5\"></a>"
   ]
  },
  {
   "cell_type": "code",
   "execution_count": 32,
   "metadata": {},
   "outputs": [],
   "source": [
    "сumulative_сonversion = cumulative_data_A[['date','conversion']].merge(cumulative_data_B[['date','conversion']], left_on='date', right_on='date', how='left', suffixes=['_A', '_B'])"
   ]
  },
  {
   "cell_type": "code",
   "execution_count": 33,
   "metadata": {},
   "outputs": [],
   "source": [
    "cumulative_conversion_ratio_BA = (сumulative_сonversion['conversion_B'] / сumulative_сonversion['conversion_A']) - 1"
   ]
  },
  {
   "cell_type": "code",
   "execution_count": 34,
   "metadata": {},
   "outputs": [
    {
     "data": {
      "text/html": [
       "<div>                            <div id=\"e7fd61f4-f5be-460f-a664-495a9fdb9ccc\" class=\"plotly-graph-div\" style=\"height:650px; width:1000px;\"></div>            <script type=\"text/javascript\">                require([\"plotly\"], function(Plotly) {                    window.PLOTLYENV=window.PLOTLYENV || {};                                    if (document.getElementById(\"e7fd61f4-f5be-460f-a664-495a9fdb9ccc\")) {                    Plotly.newPlot(                        \"e7fd61f4-f5be-460f-a664-495a9fdb9ccc\",                        [{\"mode\": \"lines\", \"name\": \"\\u041e\\u0442\\u043d\\u043e\\u0448\\u0435\\u043d\\u0438\\u0435 \\u0433\\u0440\\u0443\\u043f\\u043f\\u044b B \\u043a A\", \"type\": \"scatter\", \"x\": [\"2019-08-01T00:00:00\", \"2019-08-02T00:00:00\", \"2019-08-03T00:00:00\", \"2019-08-04T00:00:00\", \"2019-08-05T00:00:00\", \"2019-08-06T00:00:00\", \"2019-08-07T00:00:00\", \"2019-08-08T00:00:00\", \"2019-08-09T00:00:00\", \"2019-08-10T00:00:00\", \"2019-08-11T00:00:00\", \"2019-08-12T00:00:00\", \"2019-08-13T00:00:00\", \"2019-08-14T00:00:00\", \"2019-08-15T00:00:00\", \"2019-08-16T00:00:00\", \"2019-08-17T00:00:00\", \"2019-08-18T00:00:00\", \"2019-08-19T00:00:00\", \"2019-08-20T00:00:00\", \"2019-08-21T00:00:00\", \"2019-08-22T00:00:00\", \"2019-08-23T00:00:00\", \"2019-08-24T00:00:00\", \"2019-08-25T00:00:00\", \"2019-08-26T00:00:00\", \"2019-08-27T00:00:00\", \"2019-08-28T00:00:00\", \"2019-08-29T00:00:00\", \"2019-08-30T00:00:00\", \"2019-08-31T00:00:00\"], \"y\": [-0.11763674614305752, 0.057503161444428796, -0.08204463149652552, -0.07539836766420527, -0.06265943164018795, 0.028654613853065225, 0.05176423416198883, 0.10556192539549669, 0.14799811803587204, 0.17852411262104195, 0.16689373107989236, 0.15300127419382736, 0.16986003432562002, 0.14950754179631875, 0.20861086572438148, 0.1967409145519463, 0.20223058798005766, 0.16004692027047396, 0.14856432125088825, 0.16716935162232338, 0.1329489215150237, 0.14658230200895295, 0.10833808823087776, 0.10816458366292259, 0.11049448739768253, 0.12923832937150004, 0.09722144277612421, 0.11144262676835304, 0.10595731504582462, 0.12755005842964895, 0.13807884655320146]}],                        {\"autosize\": false, \"height\": 650, \"legend\": {\"x\": 0.01, \"xanchor\": \"left\", \"y\": 0.99, \"yanchor\": \"top\"}, \"template\": {\"data\": {\"scatter\": [{\"type\": \"scatter\"}]}}, \"title\": {\"text\": \"\\u041e\\u0442\\u043d\\u043e\\u0441\\u0438\\u0442\\u0435\\u043b\\u044c\\u043d\\u043e\\u0435 \\u0438\\u0437\\u043c\\u0435\\u043d\\u0435\\u043d\\u0438\\u0435 \\u043a\\u0443\\u043c\\u0443\\u043b\\u044f\\u0442\\u0438\\u0432\\u043d\\u043e\\u0439 \\u043a\\u043e\\u043d\\u0432\\u0435\\u0440\\u0441\\u0438\\u0438 \\u0433\\u0440\\u0443\\u043f\\u043f\\u044b B \\u043a A\"}, \"width\": 1000, \"xaxis\": {\"title\": {\"text\": \"\\u0414\\u0430\\u0442\\u0430\"}}, \"yaxis\": {\"title\": {\"text\": \"\\u041e\\u0442\\u043d\\u043e\\u0448\\u0435\\u043d\\u0438\\u0435 \\u043a\\u043e\\u043d\\u0432\\u0435\\u0440\\u0441\\u0438\\u0438 \\u043c\\u0435\\u0436\\u0434\\u0443 \\u0433\\u0440\\u0443\\u043f\\u043f\\u0430\\u043c\\u0438\"}}},                        {\"responsive\": true}                    ).then(function(){\n",
       "                            \n",
       "var gd = document.getElementById('e7fd61f4-f5be-460f-a664-495a9fdb9ccc');\n",
       "var x = new MutationObserver(function (mutations, observer) {{\n",
       "        var display = window.getComputedStyle(gd).display;\n",
       "        if (!display || display === 'none') {{\n",
       "            console.log([gd, 'removed!']);\n",
       "            Plotly.purge(gd);\n",
       "            observer.disconnect();\n",
       "        }}\n",
       "}});\n",
       "\n",
       "// Listen for the removal of the full notebook cells\n",
       "var notebookContainer = gd.closest('#notebook-container');\n",
       "if (notebookContainer) {{\n",
       "    x.observe(notebookContainer, {childList: true});\n",
       "}}\n",
       "\n",
       "// Listen for the clearing of the current output cell\n",
       "var outputEl = gd.closest('.output');\n",
       "if (outputEl) {{\n",
       "    x.observe(outputEl, {childList: true});\n",
       "}}\n",
       "\n",
       "                        })                };                });            </script>        </div>"
      ]
     },
     "metadata": {},
     "output_type": "display_data"
    }
   ],
   "source": [
    "fig = go.Figure()\n",
    "fig.add_trace(go.Scatter(x=сumulative_сonversion['date'], y=cumulative_conversion_ratio_BA,\n",
    "                    mode='lines',\n",
    "                    name='Отношение группы B к A'))\n",
    "fig.update_layout(title=\"Относительное изменение кумулятивной конверсии группы B к A\",\n",
    "    xaxis_title=\"Дата\",\n",
    "    yaxis_title=\"Отношение конверсии между группами\",\n",
    "    legend=dict(\n",
    "    yanchor=\"top\",\n",
    "    y=0.99,\n",
    "    xanchor=\"left\",\n",
    "    x=0.01),\n",
    "    autosize=False,\n",
    "    width=1000,\n",
    "    height=650)\n",
    "fig.show();"
   ]
  },
  {
   "cell_type": "markdown",
   "metadata": {},
   "source": [
    "**Вывод:** в начале теста присутствовали некоторые флуктуации, однако на протяжении почти всего времени проведения теста конверсия в *группе B* была выше, стабилизировавшись на уровне около 14% выше уровня конверсии *группы A*."
   ]
  },
  {
   "cell_type": "markdown",
   "metadata": {},
   "source": [
    "#### 2.2.6 Точечный график количества заказов по пользователям<a name=\"subparagraph2_2_6\"></a>"
   ]
  },
  {
   "cell_type": "code",
   "execution_count": 35,
   "metadata": {},
   "outputs": [],
   "source": [
    "orders_by_visitors = orders.groupby('visitorid')['transactionid'].count().reset_index()"
   ]
  },
  {
   "cell_type": "code",
   "execution_count": 36,
   "metadata": {},
   "outputs": [
    {
     "data": {
      "text/html": [
       "<div>                            <div id=\"7283ff01-41dc-44ad-8b8e-36f93626fdcc\" class=\"plotly-graph-div\" style=\"height:650px; width:1000px;\"></div>            <script type=\"text/javascript\">                require([\"plotly\"], function(Plotly) {                    window.PLOTLYENV=window.PLOTLYENV || {};                                    if (document.getElementById(\"7283ff01-41dc-44ad-8b8e-36f93626fdcc\")) {                    Plotly.newPlot(                        \"7283ff01-41dc-44ad-8b8e-36f93626fdcc\",                        [{\"mode\": \"markers\", \"type\": \"scatter\", \"x\": [0, 1, 2, 3, 4, 5, 6, 7, 8, 9, 10, 11, 12, 13, 14, 15, 16, 17, 18, 19, 20, 21, 22, 23, 24, 25, 26, 27, 28, 29, 30, 31, 32, 33, 34, 35, 36, 37, 38, 39, 40, 41, 42, 43, 44, 45, 46, 47, 48, 49, 50, 51, 52, 53, 54, 55, 56, 57, 58, 59, 60, 61, 62, 63, 64, 65, 66, 67, 68, 69, 70, 71, 72, 73, 74, 75, 76, 77, 78, 79, 80, 81, 82, 83, 84, 85, 86, 87, 88, 89, 90, 91, 92, 93, 94, 95, 96, 97, 98, 99, 100, 101, 102, 103, 104, 105, 106, 107, 108, 109, 110, 111, 112, 113, 114, 115, 116, 117, 118, 119, 120, 121, 122, 123, 124, 125, 126, 127, 128, 129, 130, 131, 132, 133, 134, 135, 136, 137, 138, 139, 140, 141, 142, 143, 144, 145, 146, 147, 148, 149, 150, 151, 152, 153, 154, 155, 156, 157, 158, 159, 160, 161, 162, 163, 164, 165, 166, 167, 168, 169, 170, 171, 172, 173, 174, 175, 176, 177, 178, 179, 180, 181, 182, 183, 184, 185, 186, 187, 188, 189, 190, 191, 192, 193, 194, 195, 196, 197, 198, 199, 200, 201, 202, 203, 204, 205, 206, 207, 208, 209, 210, 211, 212, 213, 214, 215, 216, 217, 218, 219, 220, 221, 222, 223, 224, 225, 226, 227, 228, 229, 230, 231, 232, 233, 234, 235, 236, 237, 238, 239, 240, 241, 242, 243, 244, 245, 246, 247, 248, 249, 250, 251, 252, 253, 254, 255, 256, 257, 258, 259, 260, 261, 262, 263, 264, 265, 266, 267, 268, 269, 270, 271, 272, 273, 274, 275, 276, 277, 278, 279, 280, 281, 282, 283, 284, 285, 286, 287, 288, 289, 290, 291, 292, 293, 294, 295, 296, 297, 298, 299, 300, 301, 302, 303, 304, 305, 306, 307, 308, 309, 310, 311, 312, 313, 314, 315, 316, 317, 318, 319, 320, 321, 322, 323, 324, 325, 326, 327, 328, 329, 330, 331, 332, 333, 334, 335, 336, 337, 338, 339, 340, 341, 342, 343, 344, 345, 346, 347, 348, 349, 350, 351, 352, 353, 354, 355, 356, 357, 358, 359, 360, 361, 362, 363, 364, 365, 366, 367, 368, 369, 370, 371, 372, 373, 374, 375, 376, 377, 378, 379, 380, 381, 382, 383, 384, 385, 386, 387, 388, 389, 390, 391, 392, 393, 394, 395, 396, 397, 398, 399, 400, 401, 402, 403, 404, 405, 406, 407, 408, 409, 410, 411, 412, 413, 414, 415, 416, 417, 418, 419, 420, 421, 422, 423, 424, 425, 426, 427, 428, 429, 430, 431, 432, 433, 434, 435, 436, 437, 438, 439, 440, 441, 442, 443, 444, 445, 446, 447, 448, 449, 450, 451, 452, 453, 454, 455, 456, 457, 458, 459, 460, 461, 462, 463, 464, 465, 466, 467, 468, 469, 470, 471, 472, 473, 474, 475, 476, 477, 478, 479, 480, 481, 482, 483, 484, 485, 486, 487, 488, 489, 490, 491, 492, 493, 494, 495, 496, 497, 498, 499, 500, 501, 502, 503, 504, 505, 506, 507, 508, 509, 510, 511, 512, 513, 514, 515, 516, 517, 518, 519, 520, 521, 522, 523, 524, 525, 526, 527, 528, 529, 530, 531, 532, 533, 534, 535, 536, 537, 538, 539, 540, 541, 542, 543, 544, 545, 546, 547, 548, 549, 550, 551, 552, 553, 554, 555, 556, 557, 558, 559, 560, 561, 562, 563, 564, 565, 566, 567, 568, 569, 570, 571, 572, 573, 574, 575, 576, 577, 578, 579, 580, 581, 582, 583, 584, 585, 586, 587, 588, 589, 590, 591, 592, 593, 594, 595, 596, 597, 598, 599, 600, 601, 602, 603, 604, 605, 606, 607, 608, 609, 610, 611, 612, 613, 614, 615, 616, 617, 618, 619, 620, 621, 622, 623, 624, 625, 626, 627, 628, 629, 630, 631, 632, 633, 634, 635, 636, 637, 638, 639, 640, 641, 642, 643, 644, 645, 646, 647, 648, 649, 650, 651, 652, 653, 654, 655, 656, 657, 658, 659, 660, 661, 662, 663, 664, 665, 666, 667, 668, 669, 670, 671, 672, 673, 674, 675, 676, 677, 678, 679, 680, 681, 682, 683, 684, 685, 686, 687, 688, 689, 690, 691, 692, 693, 694, 695, 696, 697, 698, 699, 700, 701, 702, 703, 704, 705, 706, 707, 708, 709, 710, 711, 712, 713, 714, 715, 716, 717, 718, 719, 720, 721, 722, 723, 724, 725, 726, 727, 728, 729, 730, 731, 732, 733, 734, 735, 736, 737, 738, 739, 740, 741, 742, 743, 744, 745, 746, 747, 748, 749, 750, 751, 752, 753, 754, 755, 756, 757, 758, 759, 760, 761, 762, 763, 764, 765, 766, 767, 768, 769, 770, 771, 772, 773, 774, 775, 776, 777, 778, 779, 780, 781, 782, 783, 784, 785, 786, 787, 788, 789, 790, 791, 792, 793, 794, 795, 796, 797, 798, 799, 800, 801, 802, 803, 804, 805, 806, 807, 808, 809, 810, 811, 812, 813, 814, 815, 816, 817, 818, 819, 820, 821, 822, 823, 824, 825, 826, 827, 828, 829, 830, 831, 832, 833, 834, 835, 836, 837, 838, 839, 840, 841, 842, 843, 844, 845, 846, 847, 848, 849, 850, 851, 852, 853, 854, 855, 856, 857, 858, 859, 860, 861, 862, 863, 864, 865, 866, 867, 868, 869, 870, 871, 872, 873, 874, 875, 876, 877, 878, 879, 880, 881, 882, 883, 884, 885, 886, 887, 888, 889, 890, 891, 892, 893, 894, 895, 896, 897, 898, 899, 900, 901, 902, 903, 904, 905, 906, 907, 908, 909, 910, 911, 912, 913, 914, 915, 916, 917, 918, 919, 920, 921, 922, 923, 924, 925, 926, 927, 928, 929, 930, 931, 932, 933, 934, 935, 936, 937, 938, 939, 940, 941, 942, 943, 944, 945, 946, 947, 948, 949, 950, 951, 952, 953, 954, 955, 956, 957, 958, 959, 960, 961, 962, 963, 964, 965, 966, 967, 968, 969, 970, 971, 972, 973, 974, 975, 976, 977, 978, 979, 980, 981, 982, 983, 984, 985, 986, 987, 988, 989, 990, 991, 992, 993, 994, 995, 996, 997, 998, 999, 1000, 1001, 1002, 1003, 1004, 1005, 1006, 1007, 1008, 1009, 1010, 1011, 1012, 1013, 1014, 1015, 1016, 1017, 1018, 1019, 1020, 1021, 1022, 1023, 1024, 1025, 1026, 1027, 1028, 1029, 1030], \"y\": [1, 1, 2, 1, 1, 1, 1, 1, 1, 1, 1, 1, 1, 1, 1, 1, 1, 1, 1, 1, 1, 1, 1, 1, 1, 1, 1, 1, 1, 1, 1, 1, 1, 1, 1, 1, 1, 1, 1, 1, 1, 1, 1, 1, 5, 1, 1, 1, 1, 1, 1, 2, 1, 1, 1, 5, 1, 1, 1, 3, 1, 1, 1, 1, 1, 1, 2, 1, 1, 1, 1, 1, 1, 1, 1, 1, 1, 1, 1, 1, 1, 1, 1, 1, 2, 1, 1, 1, 2, 1, 1, 1, 1, 1, 1, 1, 1, 3, 1, 1, 1, 2, 1, 1, 1, 1, 1, 1, 1, 1, 1, 1, 1, 1, 4, 1, 1, 1, 1, 2, 1, 1, 2, 1, 1, 1, 1, 1, 2, 1, 1, 1, 1, 1, 1, 1, 1, 1, 1, 1, 1, 1, 1, 1, 1, 1, 1, 1, 3, 1, 1, 1, 1, 1, 1, 1, 1, 1, 1, 1, 1, 1, 1, 1, 1, 1, 1, 2, 1, 1, 1, 1, 1, 1, 1, 1, 1, 1, 1, 1, 1, 1, 1, 1, 1, 1, 2, 1, 1, 1, 1, 1, 2, 1, 1, 1, 1, 1, 1, 1, 1, 1, 1, 1, 1, 1, 1, 1, 1, 1, 1, 1, 1, 1, 1, 1, 1, 1, 1, 1, 1, 1, 1, 1, 1, 1, 1, 1, 1, 1, 1, 1, 1, 1, 1, 1, 2, 1, 1, 1, 1, 1, 1, 1, 1, 1, 1, 1, 1, 1, 1, 1, 1, 1, 1, 1, 1, 1, 1, 1, 1, 1, 1, 1, 1, 1, 1, 1, 1, 1, 1, 1, 1, 1, 1, 1, 1, 1, 1, 1, 1, 1, 1, 1, 1, 1, 1, 1, 1, 1, 1, 1, 1, 1, 1, 1, 1, 1, 1, 5, 1, 1, 1, 1, 1, 1, 1, 1, 1, 1, 1, 3, 1, 1, 1, 1, 2, 1, 2, 1, 1, 1, 1, 1, 1, 1, 1, 1, 1, 1, 1, 1, 1, 1, 1, 1, 1, 1, 1, 2, 3, 1, 1, 1, 1, 1, 1, 1, 1, 1, 1, 1, 1, 1, 1, 1, 1, 1, 1, 1, 1, 1, 1, 1, 1, 1, 1, 1, 1, 1, 1, 1, 1, 1, 1, 1, 1, 1, 1, 1, 1, 1, 1, 1, 1, 1, 2, 1, 1, 1, 1, 1, 1, 4, 2, 1, 1, 1, 1, 2, 1, 1, 2, 1, 1, 1, 3, 1, 1, 1, 1, 1, 1, 1, 1, 1, 1, 1, 1, 1, 1, 1, 3, 1, 1, 1, 1, 1, 1, 2, 1, 1, 1, 1, 1, 1, 2, 1, 1, 1, 1, 1, 1, 1, 1, 1, 1, 1, 1, 1, 1, 1, 1, 1, 1, 1, 1, 1, 1, 1, 1, 1, 1, 1, 1, 1, 1, 1, 1, 2, 1, 1, 1, 1, 1, 1, 2, 1, 1, 1, 1, 1, 1, 2, 1, 1, 1, 8, 1, 1, 1, 3, 1, 1, 1, 1, 1, 1, 1, 1, 1, 1, 2, 1, 3, 1, 1, 1, 1, 1, 1, 1, 1, 1, 1, 1, 1, 1, 1, 1, 1, 1, 1, 1, 1, 1, 1, 1, 1, 1, 1, 1, 1, 1, 1, 2, 1, 1, 1, 1, 1, 1, 1, 1, 1, 1, 1, 1, 1, 1, 1, 1, 1, 1, 1, 2, 1, 1, 1, 1, 1, 1, 1, 1, 1, 2, 1, 1, 1, 9, 1, 1, 1, 1, 1, 2, 1, 1, 1, 1, 1, 1, 1, 1, 1, 1, 1, 1, 1, 1, 1, 11, 1, 1, 1, 1, 1, 1, 1, 1, 1, 1, 1, 1, 1, 1, 1, 1, 1, 1, 1, 1, 1, 1, 2, 1, 1, 1, 1, 4, 1, 1, 2, 1, 1, 1, 1, 1, 1, 1, 1, 1, 1, 1, 1, 1, 1, 1, 1, 2, 1, 1, 1, 1, 1, 1, 1, 1, 2, 1, 1, 1, 1, 1, 1, 1, 1, 2, 1, 1, 1, 2, 2, 2, 1, 1, 1, 3, 1, 2, 1, 1, 1, 1, 1, 1, 1, 3, 1, 1, 1, 1, 1, 1, 1, 1, 1, 1, 1, 1, 1, 1, 1, 1, 1, 1, 1, 1, 1, 1, 2, 1, 1, 1, 1, 1, 1, 1, 1, 1, 2, 1, 1, 1, 1, 2, 1, 1, 2, 1, 1, 1, 1, 1, 1, 1, 3, 1, 1, 1, 1, 1, 1, 1, 1, 1, 1, 1, 1, 1, 1, 1, 1, 1, 5, 1, 1, 1, 1, 2, 1, 1, 1, 1, 1, 1, 1, 1, 1, 1, 1, 1, 1, 1, 1, 1, 1, 1, 1, 1, 1, 1, 1, 1, 1, 1, 1, 1, 1, 1, 1, 1, 1, 1, 2, 1, 1, 1, 1, 1, 1, 1, 2, 1, 1, 1, 1, 1, 1, 1, 1, 1, 1, 1, 1, 1, 1, 1, 1, 1, 1, 1, 1, 1, 1, 1, 1, 1, 1, 1, 1, 1, 2, 1, 1, 1, 1, 1, 1, 2, 1, 1, 1, 1, 2, 1, 1, 1, 1, 1, 1, 1, 1, 1, 1, 1, 1, 1, 1, 2, 1, 1, 1, 1, 1, 1, 1, 1, 1, 1, 1, 1, 1, 1, 1, 1, 1, 1, 1, 1, 1, 1, 1, 1, 1, 1, 1, 1, 1, 1, 1, 1, 1, 1, 2, 1, 1, 1, 1, 1, 1, 1, 1, 1, 1, 1, 1, 5, 1, 1, 1, 1, 1, 1, 1, 1, 1, 1, 1, 2, 1, 1, 1, 1, 1, 1, 1, 5, 1, 1, 1, 1, 1, 1, 1, 1, 1, 1, 1, 1, 1, 1, 3, 1, 1, 1, 1, 3, 1, 1, 1, 1, 1, 1, 2, 1, 1, 1, 2, 1, 2, 1, 1, 1, 2, 1, 1, 2, 2, 3, 2, 1, 1, 3, 1, 1, 1, 1, 1, 1, 1, 1, 1, 1, 1, 1, 1, 1, 1, 1, 1, 1, 1, 1, 2, 1, 1, 1, 1, 1, 1, 2, 2, 1, 1, 2, 1, 1, 1, 1, 1, 1, 1, 1, 1, 1, 1, 1, 1, 3, 1, 1, 1, 1, 1, 1, 1, 1, 1, 1, 1, 1, 1, 11, 1, 1, 2, 1, 1, 1, 1]}],                        {\"autosize\": false, \"height\": 650, \"legend\": {\"x\": 0.01, \"xanchor\": \"left\", \"y\": 0.99, \"yanchor\": \"top\"}, \"template\": {\"data\": {\"scatter\": [{\"type\": \"scatter\"}]}}, \"title\": {\"text\": \"\\u0422\\u043e\\u0447\\u0435\\u0447\\u043d\\u044b\\u0439 \\u0433\\u0440\\u0430\\u0444\\u0438\\u043a \\u043a\\u043e\\u043b\\u0438\\u0447\\u0435\\u0441\\u0442\\u0432\\u0430 \\u0437\\u0430\\u043a\\u0430\\u0437\\u043e\\u0432 \\u043f\\u043e \\u043f\\u043e\\u043b\\u044c\\u0437\\u043e\\u0432\\u0430\\u0442\\u0435\\u043b\\u044f\\u043c\"}, \"width\": 1000, \"xaxis\": {\"title\": {\"text\": \"\\u041f\\u043e\\u0440\\u044f\\u0434\\u043a\\u043e\\u0432\\u044b\\u0439 \\u043d\\u043e\\u043c\\u0435\\u0440 \\u043a\\u043b\\u0438\\u0435\\u043d\\u0442\\u0430\"}}, \"yaxis\": {\"title\": {\"text\": \"\\u041a\\u043e\\u043b\\u0438\\u0447\\u0435\\u0441\\u0442\\u0432\\u043e \\u0437\\u0430\\u043a\\u0430\\u0437\\u043e\\u0432\"}}},                        {\"responsive\": true}                    ).then(function(){\n",
       "                            \n",
       "var gd = document.getElementById('7283ff01-41dc-44ad-8b8e-36f93626fdcc');\n",
       "var x = new MutationObserver(function (mutations, observer) {{\n",
       "        var display = window.getComputedStyle(gd).display;\n",
       "        if (!display || display === 'none') {{\n",
       "            console.log([gd, 'removed!']);\n",
       "            Plotly.purge(gd);\n",
       "            observer.disconnect();\n",
       "        }}\n",
       "}});\n",
       "\n",
       "// Listen for the removal of the full notebook cells\n",
       "var notebookContainer = gd.closest('#notebook-container');\n",
       "if (notebookContainer) {{\n",
       "    x.observe(notebookContainer, {childList: true});\n",
       "}}\n",
       "\n",
       "// Listen for the clearing of the current output cell\n",
       "var outputEl = gd.closest('.output');\n",
       "if (outputEl) {{\n",
       "    x.observe(outputEl, {childList: true});\n",
       "}}\n",
       "\n",
       "                        })                };                });            </script>        </div>"
      ]
     },
     "metadata": {},
     "output_type": "display_data"
    }
   ],
   "source": [
    "fig = go.Figure(data=go.Scatter(x=orders_by_visitors.index, y=orders_by_visitors['transactionid'], mode='markers'))\n",
    "fig.update_layout(title=\"Точечный график количества заказов по пользователям\",\n",
    "    xaxis_title=\"Порядковый номер клиента\",\n",
    "    yaxis_title=\"Количество заказов\",\n",
    "    legend=dict(\n",
    "    yanchor=\"top\",\n",
    "    y=0.99,\n",
    "    xanchor=\"left\",\n",
    "    x=0.01),\n",
    "    autosize=False,\n",
    "    width=1000,\n",
    "    height=650)\n",
    "fig.show()"
   ]
  },
  {
   "cell_type": "markdown",
   "metadata": {},
   "source": [
    "**Вывод:** абсолютное большинство пользователей сделало один заказ. Кроме того, относительно небольшое число  пользователей сделали 2 заказа. Более 3 заказов уже можно считать довольно редким событием. Также видим, что два пользователя сделали по 11 заказов, что является экстремально высоким значением."
   ]
  },
  {
   "cell_type": "markdown",
   "metadata": {},
   "source": [
    "#### 2.2.7 Оценка 95 и 99 перцентили количества заказов на пользователя<a name=\"subparagraph2_2_7\"></a>"
   ]
  },
  {
   "cell_type": "code",
   "execution_count": 37,
   "metadata": {},
   "outputs": [
    {
     "data": {
      "text/plain": [
       "array([2., 4.])"
      ]
     },
     "execution_count": 37,
     "metadata": {},
     "output_type": "execute_result"
    }
   ],
   "source": [
    "np.percentile(orders_by_visitors['transactionid'], [95, 99])"
   ]
  },
  {
   "cell_type": "markdown",
   "metadata": {},
   "source": [
    "**Вывод:** 95% пользователей сделали не больше 2 заказов, а 99% пользователей - не больше 4 заказов. Разумно провести границу \"нормальности\" пользователей по 2 покупкам - таким образом, если пользователь совершает три или более покупок, то его можно считать аномальным."
   ]
  },
  {
   "cell_type": "markdown",
   "metadata": {},
   "source": [
    "#### 2.2.8 Точечный график стоимостей заказов<a name=\"subparagraph2_2_8\"></a>"
   ]
  },
  {
   "cell_type": "code",
   "execution_count": 38,
   "metadata": {},
   "outputs": [
    {
     "data": {
      "text/html": [
       "<div>                            <div id=\"da42cb17-bef8-42f3-aba0-b1f03f40ecef\" class=\"plotly-graph-div\" style=\"height:650px; width:1000px;\"></div>            <script type=\"text/javascript\">                require([\"plotly\"], function(Plotly) {                    window.PLOTLYENV=window.PLOTLYENV || {};                                    if (document.getElementById(\"da42cb17-bef8-42f3-aba0-b1f03f40ecef\")) {                    Plotly.newPlot(                        \"da42cb17-bef8-42f3-aba0-b1f03f40ecef\",                        [{\"mode\": \"markers\", \"type\": \"scatter\", \"x\": [0, 1, 2, 3, 4, 5, 6, 7, 8, 9, 10, 11, 12, 13, 14, 15, 16, 17, 18, 19, 20, 21, 22, 23, 24, 25, 26, 27, 28, 29, 30, 31, 32, 33, 34, 35, 36, 37, 38, 39, 40, 41, 42, 43, 44, 45, 46, 47, 48, 49, 50, 51, 52, 53, 54, 55, 56, 57, 58, 59, 60, 61, 62, 63, 64, 65, 66, 67, 68, 69, 70, 71, 72, 73, 74, 75, 76, 77, 78, 79, 80, 81, 82, 83, 84, 85, 86, 87, 88, 89, 90, 91, 92, 93, 94, 95, 96, 97, 98, 99, 100, 101, 102, 103, 104, 105, 106, 107, 108, 109, 110, 111, 112, 113, 114, 115, 116, 117, 118, 119, 120, 121, 122, 123, 124, 125, 126, 127, 128, 129, 130, 131, 132, 133, 134, 135, 136, 137, 138, 139, 140, 141, 142, 143, 144, 145, 146, 147, 148, 149, 150, 151, 152, 153, 154, 155, 156, 157, 158, 159, 160, 161, 162, 163, 164, 165, 166, 167, 168, 169, 170, 171, 172, 173, 174, 175, 176, 177, 178, 179, 180, 181, 182, 183, 184, 185, 186, 187, 188, 189, 190, 191, 192, 193, 194, 195, 196, 197, 198, 199, 200, 201, 202, 203, 204, 205, 206, 207, 208, 209, 210, 211, 212, 213, 214, 215, 216, 217, 218, 219, 220, 221, 222, 223, 224, 225, 226, 227, 228, 229, 230, 231, 232, 233, 234, 235, 236, 237, 238, 239, 240, 241, 242, 243, 244, 245, 246, 247, 248, 249, 250, 251, 252, 253, 254, 255, 256, 257, 258, 259, 260, 261, 262, 263, 264, 265, 266, 267, 268, 269, 270, 271, 272, 273, 274, 275, 276, 277, 278, 279, 280, 281, 282, 283, 284, 285, 286, 287, 288, 289, 290, 291, 292, 293, 294, 295, 296, 297, 298, 299, 300, 301, 302, 303, 304, 305, 306, 307, 308, 309, 310, 311, 312, 313, 314, 315, 316, 317, 318, 319, 320, 321, 322, 323, 324, 325, 326, 327, 328, 329, 330, 331, 332, 333, 334, 335, 336, 337, 338, 339, 340, 341, 342, 343, 344, 345, 346, 347, 348, 349, 350, 351, 352, 353, 354, 355, 356, 357, 358, 359, 360, 361, 362, 363, 364, 365, 366, 367, 368, 369, 370, 371, 372, 373, 374, 375, 376, 377, 378, 379, 380, 381, 382, 383, 384, 385, 386, 387, 388, 389, 390, 391, 392, 393, 394, 395, 396, 397, 398, 399, 400, 401, 402, 403, 404, 405, 406, 407, 408, 409, 410, 411, 412, 413, 414, 415, 416, 417, 418, 419, 420, 421, 422, 423, 424, 425, 426, 427, 428, 429, 430, 431, 432, 433, 434, 435, 436, 437, 438, 439, 440, 441, 442, 443, 444, 445, 446, 447, 448, 449, 450, 451, 452, 453, 454, 455, 456, 457, 458, 459, 460, 461, 462, 463, 464, 465, 466, 467, 468, 469, 470, 471, 472, 473, 474, 475, 476, 477, 478, 479, 480, 481, 482, 483, 484, 485, 486, 487, 488, 489, 490, 491, 492, 493, 494, 495, 496, 497, 498, 499, 500, 501, 502, 503, 504, 505, 506, 507, 508, 509, 510, 511, 512, 513, 514, 515, 516, 517, 518, 519, 520, 521, 522, 523, 524, 525, 526, 527, 528, 529, 530, 531, 532, 533, 534, 535, 536, 537, 538, 539, 540, 541, 542, 543, 544, 545, 546, 547, 548, 549, 550, 551, 552, 553, 554, 555, 556, 557, 558, 559, 560, 561, 562, 563, 564, 565, 566, 567, 568, 569, 570, 571, 572, 573, 574, 575, 576, 577, 578, 579, 580, 581, 582, 583, 584, 585, 586, 587, 588, 589, 590, 591, 592, 593, 594, 595, 596, 597, 598, 599, 600, 601, 602, 603, 604, 605, 606, 607, 608, 609, 610, 611, 612, 613, 614, 615, 616, 617, 618, 619, 620, 621, 622, 623, 624, 625, 626, 627, 628, 629, 630, 631, 632, 633, 634, 635, 636, 637, 638, 639, 640, 641, 642, 643, 644, 645, 646, 647, 648, 649, 650, 651, 652, 653, 654, 655, 656, 657, 658, 659, 660, 661, 662, 663, 664, 665, 666, 667, 668, 669, 670, 671, 672, 673, 674, 675, 676, 677, 678, 679, 680, 681, 682, 683, 684, 685, 686, 687, 688, 689, 690, 691, 692, 693, 694, 695, 696, 697, 698, 699, 700, 701, 702, 703, 704, 705, 706, 707, 708, 709, 710, 711, 712, 713, 714, 715, 716, 717, 718, 719, 720, 721, 722, 723, 724, 725, 726, 727, 728, 729, 730, 731, 732, 733, 734, 735, 736, 737, 738, 739, 740, 741, 742, 743, 744, 745, 746, 747, 748, 749, 750, 751, 752, 753, 754, 755, 756, 757, 758, 759, 760, 761, 762, 763, 764, 765, 766, 767, 768, 769, 770, 771, 772, 773, 774, 775, 776, 777, 778, 779, 780, 781, 782, 783, 784, 785, 786, 787, 788, 789, 790, 791, 792, 793, 794, 795, 796, 797, 798, 799, 800, 801, 802, 803, 804, 805, 806, 807, 808, 809, 810, 811, 812, 813, 814, 815, 816, 817, 818, 819, 820, 821, 822, 823, 824, 825, 826, 827, 828, 829, 830, 831, 832, 833, 834, 835, 836, 837, 838, 839, 840, 841, 842, 843, 844, 845, 846, 847, 848, 849, 850, 851, 852, 853, 854, 855, 856, 857, 858, 859, 860, 861, 862, 863, 864, 865, 866, 867, 868, 869, 870, 871, 872, 873, 874, 875, 876, 877, 878, 879, 880, 881, 882, 883, 884, 885, 886, 887, 888, 889, 890, 891, 892, 893, 894, 895, 896, 897, 898, 899, 900, 901, 902, 903, 904, 905, 906, 907, 908, 909, 910, 911, 912, 913, 914, 915, 916, 917, 918, 919, 920, 921, 922, 923, 924, 925, 926, 927, 928, 929, 930, 931, 932, 933, 934, 935, 936, 937, 938, 939, 940, 941, 942, 943, 944, 945, 946, 947, 948, 949, 950, 951, 952, 953, 954, 955, 956, 957, 958, 959, 960, 961, 962, 963, 964, 965, 966, 967, 968, 969, 970, 971, 972, 973, 974, 975, 976, 977, 978, 979, 980, 981, 982, 983, 984, 985, 986, 987, 988, 989, 990, 991, 992, 993, 994, 995, 996, 997, 998, 999, 1000, 1001, 1002, 1003, 1004, 1005, 1006, 1007, 1008, 1009, 1010, 1011, 1012, 1013, 1014, 1015, 1016, 1017, 1018, 1019, 1020, 1021, 1022, 1023, 1024, 1025, 1026, 1027, 1028, 1029, 1030, 1031, 1032, 1033, 1034, 1035, 1036, 1037, 1038, 1039, 1040, 1041, 1042, 1043, 1044, 1045, 1046, 1047, 1048, 1049, 1050, 1051, 1052, 1053, 1054, 1055, 1056, 1057, 1058, 1059, 1060, 1061, 1062, 1063, 1064, 1065, 1066, 1067, 1068, 1069, 1070, 1071, 1072, 1073, 1074, 1075, 1076, 1077, 1078, 1079, 1080, 1081, 1082, 1083, 1084, 1085, 1086, 1087, 1088, 1089, 1090, 1091, 1092, 1093, 1094, 1095, 1096, 1097, 1098, 1099, 1100, 1101, 1102, 1103, 1104, 1105, 1106, 1107, 1108, 1109, 1110, 1111, 1112, 1113, 1114, 1115, 1116, 1117, 1118, 1119, 1120, 1121, 1122, 1123, 1124, 1125, 1126, 1127, 1128, 1129, 1130, 1131, 1132, 1133, 1134, 1135, 1136, 1137, 1138, 1139, 1140, 1141, 1142, 1143, 1144, 1145, 1146, 1147, 1148, 1149, 1150, 1151, 1152, 1153, 1154, 1155, 1156, 1157, 1158, 1159, 1160, 1161, 1162, 1163, 1164, 1165, 1166, 1167, 1168, 1169, 1170, 1171, 1172, 1173, 1174, 1175, 1176, 1177, 1178, 1179, 1180, 1181, 1182, 1183, 1184, 1185, 1186, 1187, 1188, 1189, 1190, 1191, 1192, 1193, 1194, 1195, 1196], \"y\": [1650, 730, 400, 9759, 2308, 2210, 1860, 1044, 13710, 1855, 4008, 4499, 7370, 11985, 10980, 15277, 1060, 990, 16490, 1190, 300, 1050, 632, 15185, 7555, 300, 3488, 7620, 5280, 700, 190, 383, 1680, 1650, 22785, 2355, 2470, 6250, 19260, 610, 2986, 1090, 9290, 2480, 3000, 2140, 3590, 6990, 1250, 3488, 2970, 18100, 400, 400, 100, 2750, 570, 2978, 1440, 7860, 56650, 790, 400, 1350, 2540, 1710, 2350, 2540, 14610, 19260, 8999, 10510, 700, 29499, 780, 890, 4400, 32350, 40740, 2490, 2080, 5400, 5100, 4020, 690, 12350, 1290, 382, 190, 2110, 1490, 17868, 1940, 26550, 5970, 987, 9024, 5555, 7129, 300, 3240, 2350, 2995, 2550, 17600, 850, 5365, 8390, 5870, 5020, 6990, 14489, 8470, 1630, 5800, 172, 6230, 760, 3390, 4480, 4480, 1139, 12336, 1450, 4480, 7990, 5099, 9400, 6441, 3070, 6145, 53904, 6922, 5190, 6976, 7690, 426, 28490, 390, 7990, 1190, 299, 1490, 6329, 2750, 8800, 2990, 990, 300, 9448, 2920, 426, 9980, 1790, 4970, 3760, 8090, 400, 11990, 990, 18900, 6420, 1990, 650, 1440, 6990, 436, 1038, 1780, 1940, 3564, 3340, 5480, 38160, 2800, 3040, 995, 2750, 3210, 310, 2090, 3468, 778, 5740, 4580, 1840, 3488, 1550, 17990, 290, 6940, 1690, 890, 5369, 11115, 165, 2646, 2220, 1690, 2190, 2845, 1799, 1498, 9850, 6700, 500, 2640, 4717, 30649, 5640, 100, 2350, 2820, 2750, 17422, 14155, 4185, 1680, 2210, 10960, 2350, 1140, 1310, 2490, 1380, 10791, 9310, 3470, 2955, 15850, 27550, 15485, 2646, 6201, 2320, 599, 660, 6149, 2938, 10590, 110, 2350, 12810, 9880, 920, 1190, 3488, 15417, 950, 7555, 2339, 3190, 2360, 16950, 34340, 500, 1620, 14271, 1920, 380, 2355, 8240, 282, 10970, 170, 1922, 14400, 19538, 10450, 2480, 290, 2290, 1830, 33970, 1100, 1940, 2290, 4877, 12680, 860, 3354, 1000, 1990, 1100, 990, 6890, 19260, 53904, 1990, 2210, 426, 4299, 12562, 420, 23750, 6350, 490, 22040, 2950, 1630, 2342, 5622, 7485, 390, 1200, 1190, 2057, 76, 1900, 2690, 20219, 4195, 990, 490, 830, 2330, 2490, 2526, 11985, 1435, 1460, 1090, 250, 1990, 6194, 3460, 780, 5070, 8850, 1410, 890, 300, 1758, 790, 1220, 987, 8000, 610, 15072, 41450, 1990, 760, 690, 5870, 1530, 1290, 1390, 4370, 420, 2820, 6000, 400, 2580, 1860, 5160, 6536, 5000, 14970, 9080, 910, 8850, 16770, 2190, 2500, 1590, 380, 16770, 3990, 20026, 12470, 2540, 4980, 390, 490, 16680, 16480, 4780, 3450, 5415, 16279, 2385, 120, 2540, 1490, 4980, 1398, 20990, 1450, 5539, 4008, 270, 21220, 2640, 1253, 12550, 880, 9990, 690, 3890, 9990, 5555, 19240, 3080, 460, 70, 870, 26980, 9990, 13990, 570, 780, 24744, 990, 4500, 270, 8870, 600, 440, 750, 1950, 37550, 31680, 9490, 11249, 470, 1294500, 2630, 1460, 4930, 1100, 3150, 17650, 5450, 5770, 1575, 20450, 11050, 2000, 2255, 170, 1999, 2955, 490, 7300, 18464, 390, 6677, 2890, 2970, 6248, 1460, 490, 5270, 4485, 7349, 3070, 1620, 3030, 1290, 50, 3190, 26550, 9232, 16480, 1790, 9934, 2840, 400, 1490, 8990, 8780, 2490, 1990, 4410, 1000, 350, 300, 19280, 13769, 2190, 1530, 30649, 1790, 6681, 6260, 390, 1130, 1490, 1650, 11135, 20100, 2722, 8885, 8585, 1980, 10195, 30990, 2490, 2359, 9448, 1220, 490, 320, 990, 2590, 2550, 8250, 580, 5350, 3140, 1910, 17379, 4840, 6930, 5690, 1690, 6090, 990, 3140, 390, 740, 10440, 3390, 4880, 6590, 21550, 500, 33405, 750, 3525, 43990, 13390, 9934, 697, 4495, 8401, 20219, 390, 4880, 6382, 1090, 2285, 10485, 6288, 11711, 17990, 3950, 25080, 1580, 35485, 9750, 27490, 1510, 1850, 890, 4499, 4990, 3650, 4990, 890, 1530, 2480, 33050, 35485, 990, 2355, 5530, 1490, 27600, 1893, 31350, 360, 1990, 1490, 300, 5249, 6716, 2800, 1530, 3559, 19260, 5790, 1758, 604, 50, 4008, 3488, 1290, 17650, 5740, 1290, 3550, 240, 2235, 10550, 4690, 12888, 7995, 3220, 2840, 495, 740, 265, 4790, 13990, 2540, 480, 1721, 12550, 5020, 2830, 340, 1870, 53904, 11990, 1850, 1990, 6990, 1060, 17990, 1290, 26550, 19280, 2670, 2420, 3261, 1634, 39800, 400, 12990, 25890, 18990, 3826, 16950, 18010, 10250, 4990, 17030, 3040, 5119, 15485, 110, 9870, 13860, 1530, 8877, 4620, 9490, 43690, 19260, 1846, 90, 4190, 1530, 34550, 10765, 390, 7024, 17990, 4698, 2030, 2690, 78990, 2590, 4877, 10850, 1250, 550, 2630, 16990, 620, 654, 6613, 10160, 6400, 6440, 1690, 27390, 1950, 2050, 1680, 17990, 78990, 540, 42740, 9680, 5150, 1530, 2950, 410, 17990, 3680, 5227, 590, 9290, 5776, 2390, 30649, 14495, 890, 2070, 1190, 2555, 1790, 19520, 11688, 3590, 4180, 1399, 45880, 10550, 3050, 2390, 470, 295, 17792, 470, 3590, 24381, 690, 390, 1805, 6990, 28350, 2955, 1490, 3190, 17379, 29499, 6170, 7300, 2590, 3650, 4990, 9850, 3270, 14489, 2960, 1020, 10137, 580, 3354, 14490, 67990, 86620, 4900, 49495, 890, 690, 19260, 3170, 37150, 390, 19660, 2580, 45780, 50, 24860, 1737, 1040, 1090, 990, 5690, 9690, 1149, 990, 5490, 750, 2355, 590, 1870, 1460, 1640, 9232, 2550, 390, 840, 12490, 4740, 3480, 785, 7890, 2600, 16480, 4990, 3739, 3190, 900, 3888, 1993, 350, 13770, 990, 20290, 1398, 2578, 1190, 5330, 5719, 2436, 1640, 890, 650, 5030, 4210, 100, 890, 990, 1460, 2400, 8099, 1540, 690, 6242, 18560, 250, 7990, 150, 4600, 13740, 320, 17990, 2355, 2790, 19990, 110, 1090, 6990, 2690, 980, 1120, 190, 360, 590, 9448, 15416, 3410, 5840, 4170, 1410, 9448, 10170, 990, 985, 22950, 1180, 1990, 1188, 14489, 2290, 2674, 590, 4710, 2000, 760, 18270, 770, 540, 93940, 2970, 8885, 2000, 7110, 790, 12642, 4920, 3290, 35890, 4363, 6445, 17990, 1130, 890, 58220, 1590, 3740, 3500, 1390, 90, 390, 13990, 1600, 3190, 2420, 1420, 5280, 24744, 1729, 3250, 450, 30649, 3740, 11440, 4188, 530, 13354, 1490, 20990, 17300, 2180, 830, 1630, 160, 1960, 359, 510, 2590, 19386, 75, 6420, 2550, 1885, 3990, 1390, 4040, 1050, 5227, 25790, 690, 13203, 5530, 350, 2250, 4690, 730, 34990, 3430, 870, 33050, 380, 19490, 420, 720, 60, 1530, 7390, 2190, 1090, 1540, 3910, 58550, 800, 7240, 18350, 18463, 15485, 3330, 6660, 4283, 60450, 24350, 1090, 2070, 9050, 1290, 2540, 1188, 5170, 3390, 1850, 28750, 11250, 19260, 1920, 1730, 5900, 390, 2348, 2290, 2540, 3600, 500, 3600, 1320, 3806, 12336, 2907, 971, 2640, 14990, 190, 640, 8290, 1950, 100, 5430, 820, 1440, 1620, 190, 6382, 120, 4685, 1450, 1460, 2610, 100, 14250, 11985, 1790, 3990, 990, 1120, 130, 1200, 100, 52900, 3550, 2790, 2640, 3490, 17379, 4390, 60, 9800, 570, 500, 13070, 5170, 1850, 890, 15500, 2610, 6674, 160, 3404, 18557, 420, 1190, 58220, 2790, 2640, 3070, 1540, 11990, 8439, 8340, 1830, 27985, 6645, 18560, 1780, 250, 1120, 8640, 6060, 1799, 3190, 1720, 3190, 3739, 785, 14489, 460, 3390, 350, 15450, 990, 16990, 1800, 8950, 420, 8280, 1190, 18350, 1825, 5688, 4240, 3739, 2061, 640, 7690, 1780, 12150, 1280, 3240, 8777, 590, 340, 9300, 8090, 8590, 6015, 1170, 830, 4650, 450, 39500, 6585, 4790, 400, 50, 300, 5050, 4499, 14000, 32610, 340, 16920, 65710, 2970, 725, 6438, 66350, 1540, 6645, 3320, 290, 1190, 11490, 1630, 7500, 290, 3990, 7550, 2640, 890, 11565, 750, 2752, 1320, 28060, 1980, 1707, 6780, 5390, 7990, 3260, 990, 17940, 24990, 3980, 8529, 5440, 2510, 18893, 92550, 52480, 1380, 1253, 2290, 300, 52900, 910, 1490, 4900, 4140, 1920, 890, 9448, 1390, 3520, 995, 2955, 3180, 4120, 1980, 590, 370, 3470, 3480, 1100, 6385, 400, 9368, 7485, 3460, 4990, 1799, 3780, 1329, 6613, 790, 2490, 1290, 2400, 3020, 490, 190, 1190, 6180, 25250, 1290, 4940, 10380, 730, 15380, 750, 112, 31550, 8600, 16490, 6490, 3190, 10550, 100, 202740]}],                        {\"autosize\": false, \"height\": 650, \"legend\": {\"x\": 0.01, \"xanchor\": \"left\", \"y\": 0.99, \"yanchor\": \"top\"}, \"template\": {\"data\": {\"scatter\": [{\"type\": \"scatter\"}]}}, \"title\": {\"text\": \"\\u0422\\u043e\\u0447\\u0435\\u0447\\u043d\\u044b\\u0439 \\u0433\\u0440\\u0430\\u0444\\u0438\\u043a \\u0441\\u0442\\u043e\\u0438\\u043c\\u043e\\u0441\\u0442\\u0435\\u0439 \\u0437\\u0430\\u043a\\u0430\\u0437\\u043e\\u0432\"}, \"width\": 1000, \"xaxis\": {\"title\": {\"text\": \"\\u041f\\u043e\\u0440\\u044f\\u0434\\u043a\\u043e\\u0432\\u044b\\u0439 \\u043d\\u043e\\u043c\\u0435\\u0440 \\u0437\\u0430\\u043a\\u0430\\u0437\\u0430\"}}, \"yaxis\": {\"title\": {\"text\": \"\\u0412\\u044b\\u0440\\u0443\\u0447\\u043a\\u0430 \\u0441 \\u0437\\u0430\\u043a\\u0430\\u0437\\u0430\"}}},                        {\"responsive\": true}                    ).then(function(){\n",
       "                            \n",
       "var gd = document.getElementById('da42cb17-bef8-42f3-aba0-b1f03f40ecef');\n",
       "var x = new MutationObserver(function (mutations, observer) {{\n",
       "        var display = window.getComputedStyle(gd).display;\n",
       "        if (!display || display === 'none') {{\n",
       "            console.log([gd, 'removed!']);\n",
       "            Plotly.purge(gd);\n",
       "            observer.disconnect();\n",
       "        }}\n",
       "}});\n",
       "\n",
       "// Listen for the removal of the full notebook cells\n",
       "var notebookContainer = gd.closest('#notebook-container');\n",
       "if (notebookContainer) {{\n",
       "    x.observe(notebookContainer, {childList: true});\n",
       "}}\n",
       "\n",
       "// Listen for the clearing of the current output cell\n",
       "var outputEl = gd.closest('.output');\n",
       "if (outputEl) {{\n",
       "    x.observe(outputEl, {childList: true});\n",
       "}}\n",
       "\n",
       "                        })                };                });            </script>        </div>"
      ]
     },
     "metadata": {},
     "output_type": "display_data"
    }
   ],
   "source": [
    "fig = go.Figure(data=go.Scatter(x=orders.index, y=orders['revenue'], mode='markers'))\n",
    "fig.update_layout(title=\"Точечный график стоимостей заказов\",\n",
    "    xaxis_title=\"Порядковый номер заказа\",\n",
    "    yaxis_title=\"Выручка с заказа\",\n",
    "    legend=dict(\n",
    "    yanchor=\"top\",\n",
    "    y=0.99,\n",
    "    xanchor=\"left\",\n",
    "    x=0.01),\n",
    "    autosize=False,\n",
    "    width=1000,\n",
    "    height=650)\n",
    "fig.show()"
   ]
  },
  {
   "cell_type": "markdown",
   "metadata": {},
   "source": [
    "**Вывод:** на графике выше можно явно увидеть один экстремально дорогой заказ на 1.3 млн руб. Кроме того, существенно выделяется заказ на 202.7 тыс. руб. Остальные заказы примерно в одном диапазоне по стоимости."
   ]
  },
  {
   "cell_type": "markdown",
   "metadata": {},
   "source": [
    "#### 2.2.9 Оценка 95 и 99 перцентили стоимостей заказов<a name=\"subparagraph2_2_9\"></a>"
   ]
  },
  {
   "cell_type": "code",
   "execution_count": 39,
   "metadata": {},
   "outputs": [
    {
     "data": {
      "text/plain": [
       "array([28000. , 58233.2])"
      ]
     },
     "execution_count": 39,
     "metadata": {},
     "output_type": "execute_result"
    }
   ],
   "source": [
    "np.percentile(orders['revenue'], [95, 99])"
   ]
  },
  {
   "cell_type": "markdown",
   "metadata": {},
   "source": [
    "**Вывод:** Стоимость 95% заказов не превышает 28 тыс. руб., а 99% заказов стоят не дороже 58233.2 руб. Следовательно, логично провести границу нормальной стоимости для анализа на уровне 28 тысяч рублей. Все заказы дороже 28 тысяч будем считать аномальными."
   ]
  },
  {
   "cell_type": "markdown",
   "metadata": {},
   "source": [
    "### 2.3 Проверка статистических гипотез<a name=\"subparagraph2_3\"></a>"
   ]
  },
  {
   "cell_type": "markdown",
   "metadata": {},
   "source": [
    "#### 2.3.1 Статистическая значимость различий в конверсии между группами по сырым данным<a name=\"subparagraph2_3_1\"></a>"
   ]
  },
  {
   "cell_type": "code",
   "execution_count": 40,
   "metadata": {},
   "outputs": [],
   "source": [
    "orders_by_users_A = orders.query('group == \"A\"').groupby('visitorid')['transactionid'].count().reset_index()\n",
    "orders_by_users_B = orders.query('group == \"B\"').groupby('visitorid')['transactionid'].count().reset_index()"
   ]
  },
  {
   "cell_type": "code",
   "execution_count": 41,
   "metadata": {},
   "outputs": [],
   "source": [
    "visitors_by_date_A = visitors.query('group == \"A\"')[['date', 'visitors']].copy()\n",
    "visitors_by_date_B = visitors.query('group == \"B\"')[['date', 'visitors']].copy()"
   ]
  },
  {
   "cell_type": "code",
   "execution_count": 42,
   "metadata": {},
   "outputs": [],
   "source": [
    "conversion_sample_A = pd.concat([orders_by_users_A['transactionid'],pd.Series(0, index=np.arange(visitors_by_date_A['visitors'].sum() - len(orders_by_users_A['transactionid'])), name='orders')],axis=0)\n",
    "conversion_sample_B = pd.concat([orders_by_users_B['transactionid'],pd.Series(0, index=np.arange(visitors_by_date_B['visitors'].sum() - len(orders_by_users_B['transactionid'])), name='orders')],axis=0)"
   ]
  },
  {
   "cell_type": "code",
   "execution_count": 43,
   "metadata": {},
   "outputs": [
    {
     "data": {
      "text/plain": [
       "MannwhitneyuResult(statistic=176473106.0, pvalue=0.008396177528376304)"
      ]
     },
     "execution_count": 43,
     "metadata": {},
     "output_type": "execute_result"
    }
   ],
   "source": [
    "st.mannwhitneyu(conversion_sample_A, conversion_sample_B)"
   ]
  },
  {
   "cell_type": "code",
   "execution_count": 44,
   "metadata": {},
   "outputs": [
    {
     "name": "stdout",
     "output_type": "stream",
     "text": [
      "0.138\n"
     ]
    }
   ],
   "source": [
    "print(\"{0:.3f}\".format(conversion_sample_B.mean()/conversion_sample_A.mean()-1)) "
   ]
  },
  {
   "cell_type": "markdown",
   "metadata": {},
   "source": [
    "**Вывод:** на сырых данных *группа B* имеет относительное преимущество (конверсия выше на 13.8%). Разница между конверсиями в группах оказалась статистически значимой - p-value значительно меньше уровня значимости 0.05. Нулевая гипотеза об отсутствии различий между группами отвергается. Принимается альтернативная гипотеза о существовании различий между группами."
   ]
  },
  {
   "cell_type": "markdown",
   "metadata": {},
   "source": [
    "#### 2.3.2 Статистическая значимость различий в среднем чеке между группами по сырым данным<a name=\"subparagraph2_3_2\"></a>"
   ]
  },
  {
   "cell_type": "code",
   "execution_count": 45,
   "metadata": {},
   "outputs": [],
   "source": [
    "average_purchase_sample_A = orders.query('group == \"A\"')['revenue']\n",
    "average_purchase_sample_B = orders.query('group == \"B\"')['revenue']"
   ]
  },
  {
   "cell_type": "code",
   "execution_count": 46,
   "metadata": {},
   "outputs": [
    {
     "data": {
      "text/plain": [
       "MannwhitneyuResult(statistic=176175.0, pvalue=0.3646454927716229)"
      ]
     },
     "execution_count": 46,
     "metadata": {},
     "output_type": "execute_result"
    }
   ],
   "source": [
    "st.mannwhitneyu(average_purchase_sample_A, average_purchase_sample_B)"
   ]
  },
  {
   "cell_type": "code",
   "execution_count": 47,
   "metadata": {},
   "outputs": [
    {
     "name": "stdout",
     "output_type": "stream",
     "text": [
      "0.259\n"
     ]
    }
   ],
   "source": [
    "print(\"{0:.3f}\".format(average_purchase_sample_B.mean()/average_purchase_sample_A.mean()-1)) "
   ]
  },
  {
   "cell_type": "markdown",
   "metadata": {},
   "source": [
    "**Вывод:** несмотря на то, что средний чек в *группе B* выше на 25.9%, на сырых данных разница между средними чеками в *группах A и B* оказалась статистически не значимой - с вероятностью 36.46% различие могло быть получено случайно - так как p-value выше 0.05, нет оснований отвергать нулевую гипотезу об отсутствии различий."
   ]
  },
  {
   "cell_type": "markdown",
   "metadata": {},
   "source": [
    "#### 2.3.3 Статистическая значимость различий в конверсии между группами по чистым данным<a name=\"subparagraph2_3_3\"></a>"
   ]
  },
  {
   "cell_type": "code",
   "execution_count": 48,
   "metadata": {},
   "outputs": [],
   "source": [
    "clean_orders_by_users_A = orders_by_users_A.query('transactionid <= 2')\n",
    "clean_orders_by_users_B = orders_by_users_B.query('transactionid <= 2')"
   ]
  },
  {
   "cell_type": "code",
   "execution_count": 49,
   "metadata": {},
   "outputs": [],
   "source": [
    "clean_conversion_sample_A = pd.concat([clean_orders_by_users_A['transactionid'],pd.Series(0, index=np.arange(visitors_by_date_A['visitors'].sum() - len(clean_orders_by_users_A['transactionid'])), name='orders')],axis=0)\n",
    "clean_conversion_sample_B = pd.concat([clean_orders_by_users_B['transactionid'],pd.Series(0, index=np.arange(visitors_by_date_B['visitors'].sum() - len(clean_orders_by_users_B['transactionid'])), name='orders')],axis=0)"
   ]
  },
  {
   "cell_type": "code",
   "execution_count": 50,
   "metadata": {},
   "outputs": [
    {
     "data": {
      "text/plain": [
       "MannwhitneyuResult(statistic=176452160.5, pvalue=0.006451895594778342)"
      ]
     },
     "execution_count": 50,
     "metadata": {},
     "output_type": "execute_result"
    }
   ],
   "source": [
    "st.mannwhitneyu(clean_conversion_sample_A, clean_conversion_sample_B)"
   ]
  },
  {
   "cell_type": "code",
   "execution_count": 51,
   "metadata": {},
   "outputs": [
    {
     "name": "stdout",
     "output_type": "stream",
     "text": [
      "0.168\n"
     ]
    }
   ],
   "source": [
    "print(\"{0:.3f}\".format(clean_conversion_sample_B.mean()/clean_conversion_sample_A.mean()-1)) "
   ]
  },
  {
   "cell_type": "markdown",
   "metadata": {},
   "source": [
    "**Вывод:** на чистых данных без выбросов *группа B* имеет еще чуть большее относительное преимущество, чем на сырых данных (16.8%), кроме того различие между конверсиями в группах оказалось статистически значимым - p-value значительно ниже уровня значимости 0.05 - нулевая гипотеза об отсутствии различий отвергается. Принимается альтернативная гипотеза о существовании значимых различий между конверсиями в разных группах."
   ]
  },
  {
   "cell_type": "markdown",
   "metadata": {},
   "source": [
    "#### 2.3.4 Статистическая значимость различий в среднем чеке между группами по чистым данным<a name=\"subparagraph2_3_4\"></a>"
   ]
  },
  {
   "cell_type": "code",
   "execution_count": 52,
   "metadata": {},
   "outputs": [],
   "source": [
    "clean_average_purchase_sample_A = average_purchase_sample_A.reset_index().query('revenue <= 28000')['revenue']\n",
    "clean_average_purchase_sample_B = average_purchase_sample_B.reset_index().query('revenue <= 28000')['revenue']"
   ]
  },
  {
   "cell_type": "code",
   "execution_count": 53,
   "metadata": {},
   "outputs": [
    {
     "data": {
      "text/plain": [
       "MannwhitneyuResult(statistic=159861.0, pvalue=0.4259370929702875)"
      ]
     },
     "execution_count": 53,
     "metadata": {},
     "output_type": "execute_result"
    }
   ],
   "source": [
    "st.mannwhitneyu(clean_average_purchase_sample_A, clean_average_purchase_sample_B)"
   ]
  },
  {
   "cell_type": "code",
   "execution_count": 54,
   "metadata": {},
   "outputs": [
    {
     "name": "stdout",
     "output_type": "stream",
     "text": [
      "-0.016\n"
     ]
    }
   ],
   "source": [
    "print(\"{0:.3f}\".format(clean_average_purchase_sample_B.mean()/clean_average_purchase_sample_A.mean()-1)) "
   ]
  },
  {
   "cell_type": "markdown",
   "metadata": {},
   "source": [
    "**Вывод:** на чистых данных преимущество среднего чека *группы B* исчезло - различие стало составлять всего -1.6%, близко к нулю. В то же время p-value увеличилось и осталось существенно выше уровня значимости 0.05 - по-прежнему нет оснований отвергать нулевую гипотезу об отсутствии различий между группами. Иными словами, различия в среднем чеке между группами статистически не значимы."
   ]
  },
  {
   "cell_type": "markdown",
   "metadata": {},
   "source": [
    "[Вернуться к оглавлению](#introduction)"
   ]
  },
  {
   "cell_type": "markdown",
   "metadata": {},
   "source": [
    "## 3. Общий вывод <a name=\"paragraph3\"></a>"
   ]
  },
  {
   "cell_type": "markdown",
   "metadata": {},
   "source": [
    "* Конверсия в *группе B* выше, чем в *группе A* - на сырых данных на 13.8%, а на чистых на 16.8%. **Различие в конверсии между группами является статистически значимым** и на сырых, и на чистых данных. После удаления аномалий - p-value немного снизился.\n",
    "* Различие в среднем чеке *группы B* выше *группы A* на 25.9% на сырых данных, а на чистых ниже на 1.6%. Ни на сырых, ни на чистых данных, **различие в среднем чеке не является статистически значимым**. После фильтрации аномалий p-value вырос по сравнению с сырыми данными.\n",
    "* График относительного изменения кумулятивной конверсии демонстрирует явное превосходство *группы B*, преимущество которой стабилизировалось на уровне 13.8%.\n",
    "* График относительного изменения кумулятивного среднего чека демонстрирует резкие колебания на сырых данных, однако после фильтрации аномалий, различия среднего чека сократились до 1.6%. При этом, как мы отметили ранее различие нельзя считать статистически значимым.\n",
    "\n",
    "Таким образом, мы можем заключить, что A/B тест был проведен успешно. Было зафиксировано, что конверсия *группы B* существенно выше, чем в *группе A*, и этот результат статистически значим. Также мы выяснили, что значимые различия в среднем чеке между группами отсутствуют. Полученные результаты являются ценными для бизнеса, тест может быть остановлен."
   ]
  },
  {
   "cell_type": "markdown",
   "metadata": {},
   "source": [
    "[Вернуться к оглавлению](#introduction)"
   ]
  }
 ],
 "metadata": {
  "kernelspec": {
   "display_name": "Python 3",
   "language": "python",
   "name": "python3"
  },
  "language_info": {
   "codemirror_mode": {
    "name": "ipython",
    "version": 3
   },
   "file_extension": ".py",
   "mimetype": "text/x-python",
   "name": "python",
   "nbconvert_exporter": "python",
   "pygments_lexer": "ipython3",
   "version": "3.8.3"
  }
 },
 "nbformat": 4,
 "nbformat_minor": 2
}
