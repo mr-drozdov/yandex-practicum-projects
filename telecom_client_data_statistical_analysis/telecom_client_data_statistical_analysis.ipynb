{
 "cells": [
  {
   "cell_type": "markdown",
   "metadata": {},
   "source": [
    "# Определение перспективного тарифа для телеком компании: статистический анализ данных"
   ]
  },
  {
   "cell_type": "markdown",
   "metadata": {},
   "source": [
    "## Описание проекта:\n",
    "\n",
    "В данном проекте проводится сравнение двух тарифов сотовой связи (\"Смарт\" и \"Ультра\") на основании данных об абонентах федеральной телеком-компании (выборка из 500 пользователей) за 2018 г. Цель исследования заключается в том, чтобы выбрать наиболее перспективный из представленных тарифных планов. Для этого был проведен анализ поведения абонентов, оценены использованный клиентами объем услуг и выручка с каждого тарифа. Далее были сформулированы и верифицированы статистические гипотезы в отношении исследуемых тарифов. Проведенное предварительное исследование поможет скорректировать рекламный бюджет в пользу более прибыльного для компании тарифа."
   ]
  },
  {
   "cell_type": "markdown",
   "metadata": {},
   "source": [
    "## Главные выводы:\n",
    "\n",
    "* *Длительность разговора* - на тарифе Ультра в среднем разговаривают дольше, чем на тарифе Смарт. Абоненты тарифа Смарт в среднем всегда укладываются в лимит 500 минут (но с учетом роста возможны превышения лимита в будущем), а для подавляющего большинства клиентов тарифа Ультра объем минут в пакете избыточен.\n",
    "\n",
    "\n",
    "* *Количество сообщений* - клиенты, выбирающие тариф Ультра, отправляют больше текстовых сообщений, чем те, кто выбирает тариф Смарт. Абоненты тарифа Смарт в среднем всегда укладываются в лимит 50 сообщений - ни в один месяц превышения не произошло. Для большинства клиентов Ультра количество включенных сообщений в пакет избыточно.\n",
    "\n",
    "\n",
    "* *Объем интернет-трафика* - среднемесячный объем интернет-трафика у абонентов двух тарифов различается, однако это различие не существенно. Тем не менее, клиенты, выбирающие тариф Ультра, используют несколько больше трафика. Абоненты тарифа Смарт крайне часто превышают лимит 15 Гб, а клиенты на тарифе Ультра, напротив, не превышают свой лимит 30 Гб. \n",
    "\n",
    "\n",
    "* *Выручка* - за 2018 г. ежемесячная выручка с клиента на тарифе Смарт росла очень быстро - с 721.32 руб. до 1,582.69 руб. (рост в 2.19 раза). На тарифе Ультра средняя выручка с клиента выросла с 1,950 руб. до 2,138.85 руб. (всего в 1.1 раз). Средняя выручка на Смарте скоро может догнать тариф Ультра, за счет того, что клиенты на Смарте превышают лимит по интернет-трафику и вынуждены доплачивать за каждый гигабайт вне пакета. Средняя ежемесячная выручка с клиента в общем: 1,553.68 руб., на Смарт: 1,327.50 руб., на Ультра: 2,086.50 руб. Для клиентов Смарт данный показатель в 2.41 раза выше фиксированной стоимости пакета (550 руб.), а для тарифа Ультра средняя выручка с клиента лишь в 1.07 раз выше ежемесячной платы (1,950 руб.), потому что большинство клиентов на этом тарифе практически не превышают лимиты пакета. Доля клиентов на тарифе Смарт, которые превысили какой-либо лимит пакета, составляет 94.87%, аналогичный показатель для клиентов на тарифе Ультра составляет всего 28.86%.\n",
    "\n",
    "\n",
    "* *Удалось подтвердить гипотезу о том, что средняя выручка на двух тарифах различается*, и различия оказались статистически значимы на 5% уровне.\n",
    "\n",
    "\n",
    "* *Не удалось подтвердить гипотезу о том что средняя выручка от московских клиентов и клиентов из других регионов имеет статистически значимые различия.*\n",
    "\n",
    "\n",
    "* *Рекомендуется усилить продвижение тарифа Смарт*, как наиболее успешного и способного генерировать больше выручки в долгосрочной перспективе. Рост тарифа Смарт по всем аспектам превосходит рост тарифа Ультра. Смарт более прибылен за счет того, что подавляющее число пользователей превышает лимиты по интернет-трафику, так как не может изначально точно оценить свою потребность в объеме трафика и не предполагает, что может потребоваться покупка внепакетных гигабайт, которые стоят дорого относительно фиксированной ежемесячной платы за тариф."
   ]
  },
  {
   "cell_type": "markdown",
   "metadata": {},
   "source": [
    "## Содержание проекта:<a name=\"introduction\"></a>\n",
    "\n",
    "#### 1. [Обзор данных](#paragraph1)\n",
    "\n",
    "#### 2. [Предобработка и подготовка данных](#paragraph2)\n",
    "\n",
    "* 2.1 [Предобработка таблицы users](#subparagraph2_1)\n",
    "* 2.2 [Предобработка таблицы calls](#subparagraph2_2)\n",
    "* 2.3 [Предобработка таблицы messages](#subparagraph2_3)\n",
    "* 2.4 [Предобработка таблицы internet](#subparagraph2_4)\n",
    "* 2.5 [Предобработка таблицы tariffs](#subparagraph2_5)\n",
    "* 2.6 [Дополнительные расчеты для каждого пользователя](#subparagraph2_6)\n",
    "\n",
    "#### 3. [Исследовательский анализ данных](#paragraph3)\n",
    "\n",
    "* 3.1 [Рассмотрим длительность разговора у абонентов на разных тарифах](#subparagraph3_1)\n",
    "* 3.2 [Рассмотрим количество сообщений на разных тарифах](#subparagraph3_2)\n",
    "* 3.3 [Рассмотрим объем использованного интернет-трафика на разных тарифах](#subparagraph3_3)\n",
    "* 3.4 [Анализ выручки по тарифам](#subparagraph3_4)\n",
    "\n",
    "#### 4. [Проверка статистических гипотез](#paragraph4)\n",
    "\n",
    "* 4.1 [Проверка гипотезы о том, что средние выручки пользователей тарифов \"Ультра\" и \"Смарт\" различаются](#subparagraph4_1)\n",
    "* 4.2 [Проверка гипотезы о том, что средняя выручка в Москве отличается от средней выручки в остальных регионах](#subparagraph4_2)\n",
    "\n",
    "#### 5. [Общий вывод](#paragraph5)"
   ]
  },
  {
   "cell_type": "markdown",
   "metadata": {},
   "source": [
    "## 1. Обзор данных<a name=\"paragraph1\"></a>"
   ]
  },
  {
   "cell_type": "code",
   "execution_count": 1,
   "metadata": {},
   "outputs": [],
   "source": [
    "import pandas as pd\n",
    "import numpy as np\n",
    "import matplotlib.pyplot as plt\n",
    "from scipy import stats as st"
   ]
  },
  {
   "cell_type": "code",
   "execution_count": 2,
   "metadata": {},
   "outputs": [],
   "source": [
    "plt.rcParams['figure.figsize'] = (12,6)"
   ]
  },
  {
   "cell_type": "markdown",
   "metadata": {},
   "source": [
    "Для анализа были предоставлены 5 таблиц: `users` (информация о пользователях), `calls` (информация о звонках), `messages` (информация о сообщениях), `internet` (информация об интернет-сессиях), `tariffs` (информация о тарифах). Откроем каждый файл и сохраним в переменной под соответствующим названием."
   ]
  },
  {
   "cell_type": "code",
   "execution_count": 3,
   "metadata": {},
   "outputs": [],
   "source": [
    "users = pd.read_csv('users.csv')\n",
    "calls = pd.read_csv('calls.csv')\n",
    "messages = pd.read_csv('messages.csv')\n",
    "internet = pd.read_csv('internet.csv')\n",
    "tariffs = pd.read_csv('tariffs.csv')"
   ]
  },
  {
   "cell_type": "markdown",
   "metadata": {},
   "source": [
    "* **Таблица** `users` **с информацией о пользователях**"
   ]
  },
  {
   "cell_type": "code",
   "execution_count": 4,
   "metadata": {},
   "outputs": [
    {
     "name": "stdout",
     "output_type": "stream",
     "text": [
      "<class 'pandas.core.frame.DataFrame'>\n",
      "RangeIndex: 500 entries, 0 to 499\n",
      "Data columns (total 8 columns):\n",
      " #   Column      Non-Null Count  Dtype \n",
      "---  ------      --------------  ----- \n",
      " 0   user_id     500 non-null    int64 \n",
      " 1   age         500 non-null    int64 \n",
      " 2   churn_date  38 non-null     object\n",
      " 3   city        500 non-null    object\n",
      " 4   first_name  500 non-null    object\n",
      " 5   last_name   500 non-null    object\n",
      " 6   reg_date    500 non-null    object\n",
      " 7   tariff      500 non-null    object\n",
      "dtypes: int64(2), object(6)\n",
      "memory usage: 31.4+ KB\n"
     ]
    }
   ],
   "source": [
    "users.info()"
   ]
  },
  {
   "cell_type": "code",
   "execution_count": 5,
   "metadata": {},
   "outputs": [
    {
     "data": {
      "text/html": [
       "<div>\n",
       "<style scoped>\n",
       "    .dataframe tbody tr th:only-of-type {\n",
       "        vertical-align: middle;\n",
       "    }\n",
       "\n",
       "    .dataframe tbody tr th {\n",
       "        vertical-align: top;\n",
       "    }\n",
       "\n",
       "    .dataframe thead th {\n",
       "        text-align: right;\n",
       "    }\n",
       "</style>\n",
       "<table border=\"1\" class=\"dataframe\">\n",
       "  <thead>\n",
       "    <tr style=\"text-align: right;\">\n",
       "      <th></th>\n",
       "      <th>user_id</th>\n",
       "      <th>age</th>\n",
       "      <th>churn_date</th>\n",
       "      <th>city</th>\n",
       "      <th>first_name</th>\n",
       "      <th>last_name</th>\n",
       "      <th>reg_date</th>\n",
       "      <th>tariff</th>\n",
       "    </tr>\n",
       "  </thead>\n",
       "  <tbody>\n",
       "    <tr>\n",
       "      <th>0</th>\n",
       "      <td>1000</td>\n",
       "      <td>52</td>\n",
       "      <td>NaN</td>\n",
       "      <td>Краснодар</td>\n",
       "      <td>Рафаил</td>\n",
       "      <td>Верещагин</td>\n",
       "      <td>2018-05-25</td>\n",
       "      <td>ultra</td>\n",
       "    </tr>\n",
       "    <tr>\n",
       "      <th>1</th>\n",
       "      <td>1001</td>\n",
       "      <td>41</td>\n",
       "      <td>NaN</td>\n",
       "      <td>Москва</td>\n",
       "      <td>Иван</td>\n",
       "      <td>Ежов</td>\n",
       "      <td>2018-11-01</td>\n",
       "      <td>smart</td>\n",
       "    </tr>\n",
       "    <tr>\n",
       "      <th>2</th>\n",
       "      <td>1002</td>\n",
       "      <td>59</td>\n",
       "      <td>NaN</td>\n",
       "      <td>Стерлитамак</td>\n",
       "      <td>Евгений</td>\n",
       "      <td>Абрамович</td>\n",
       "      <td>2018-06-17</td>\n",
       "      <td>smart</td>\n",
       "    </tr>\n",
       "    <tr>\n",
       "      <th>3</th>\n",
       "      <td>1003</td>\n",
       "      <td>23</td>\n",
       "      <td>NaN</td>\n",
       "      <td>Москва</td>\n",
       "      <td>Белла</td>\n",
       "      <td>Белякова</td>\n",
       "      <td>2018-08-17</td>\n",
       "      <td>ultra</td>\n",
       "    </tr>\n",
       "    <tr>\n",
       "      <th>4</th>\n",
       "      <td>1004</td>\n",
       "      <td>68</td>\n",
       "      <td>NaN</td>\n",
       "      <td>Новокузнецк</td>\n",
       "      <td>Татьяна</td>\n",
       "      <td>Авдеенко</td>\n",
       "      <td>2018-05-14</td>\n",
       "      <td>ultra</td>\n",
       "    </tr>\n",
       "  </tbody>\n",
       "</table>\n",
       "</div>"
      ],
      "text/plain": [
       "   user_id  age churn_date         city first_name  last_name    reg_date  \\\n",
       "0     1000   52        NaN    Краснодар     Рафаил  Верещагин  2018-05-25   \n",
       "1     1001   41        NaN       Москва       Иван       Ежов  2018-11-01   \n",
       "2     1002   59        NaN  Стерлитамак    Евгений  Абрамович  2018-06-17   \n",
       "3     1003   23        NaN       Москва      Белла   Белякова  2018-08-17   \n",
       "4     1004   68        NaN  Новокузнецк    Татьяна   Авдеенко  2018-05-14   \n",
       "\n",
       "  tariff  \n",
       "0  ultra  \n",
       "1  smart  \n",
       "2  smart  \n",
       "3  ultra  \n",
       "4  ultra  "
      ]
     },
     "execution_count": 5,
     "metadata": {},
     "output_type": "execute_result"
    }
   ],
   "source": [
    "users.head()"
   ]
  },
  {
   "cell_type": "code",
   "execution_count": 6,
   "metadata": {},
   "outputs": [
    {
     "data": {
      "text/plain": [
       "user_id       0.000\n",
       "age           0.000\n",
       "churn_date    0.924\n",
       "city          0.000\n",
       "first_name    0.000\n",
       "last_name     0.000\n",
       "reg_date      0.000\n",
       "tariff        0.000\n",
       "dtype: float64"
      ]
     },
     "execution_count": 6,
     "metadata": {},
     "output_type": "execute_result"
    }
   ],
   "source": [
    "users.isna().mean()"
   ]
  },
  {
   "cell_type": "markdown",
   "metadata": {},
   "source": [
    "В таблице `users` содержатся данные о 500 клиентах. В столбце `churn_date` 92.4% пропущенных значений. Согласно имеющейся информации, это значит, что у 92.4% клиентов тариф продолжал действовать на момент выгрузки данных, а у 7.6% тариф прекратил действовать. Видно, что `churn_date` и `reg_date` требуется определить в формате datetime."
   ]
  },
  {
   "cell_type": "markdown",
   "metadata": {},
   "source": [
    "* **Таблица** `calls` **с информацией о звонках**"
   ]
  },
  {
   "cell_type": "code",
   "execution_count": 7,
   "metadata": {},
   "outputs": [
    {
     "name": "stdout",
     "output_type": "stream",
     "text": [
      "<class 'pandas.core.frame.DataFrame'>\n",
      "RangeIndex: 202607 entries, 0 to 202606\n",
      "Data columns (total 4 columns):\n",
      " #   Column     Non-Null Count   Dtype  \n",
      "---  ------     --------------   -----  \n",
      " 0   id         202607 non-null  object \n",
      " 1   call_date  202607 non-null  object \n",
      " 2   duration   202607 non-null  float64\n",
      " 3   user_id    202607 non-null  int64  \n",
      "dtypes: float64(1), int64(1), object(2)\n",
      "memory usage: 6.2+ MB\n"
     ]
    }
   ],
   "source": [
    "calls.info()"
   ]
  },
  {
   "cell_type": "code",
   "execution_count": 8,
   "metadata": {},
   "outputs": [
    {
     "data": {
      "text/html": [
       "<div>\n",
       "<style scoped>\n",
       "    .dataframe tbody tr th:only-of-type {\n",
       "        vertical-align: middle;\n",
       "    }\n",
       "\n",
       "    .dataframe tbody tr th {\n",
       "        vertical-align: top;\n",
       "    }\n",
       "\n",
       "    .dataframe thead th {\n",
       "        text-align: right;\n",
       "    }\n",
       "</style>\n",
       "<table border=\"1\" class=\"dataframe\">\n",
       "  <thead>\n",
       "    <tr style=\"text-align: right;\">\n",
       "      <th></th>\n",
       "      <th>id</th>\n",
       "      <th>call_date</th>\n",
       "      <th>duration</th>\n",
       "      <th>user_id</th>\n",
       "    </tr>\n",
       "  </thead>\n",
       "  <tbody>\n",
       "    <tr>\n",
       "      <th>0</th>\n",
       "      <td>1000_0</td>\n",
       "      <td>2018-07-25</td>\n",
       "      <td>0.00</td>\n",
       "      <td>1000</td>\n",
       "    </tr>\n",
       "    <tr>\n",
       "      <th>1</th>\n",
       "      <td>1000_1</td>\n",
       "      <td>2018-08-17</td>\n",
       "      <td>0.00</td>\n",
       "      <td>1000</td>\n",
       "    </tr>\n",
       "    <tr>\n",
       "      <th>2</th>\n",
       "      <td>1000_2</td>\n",
       "      <td>2018-06-11</td>\n",
       "      <td>2.85</td>\n",
       "      <td>1000</td>\n",
       "    </tr>\n",
       "    <tr>\n",
       "      <th>3</th>\n",
       "      <td>1000_3</td>\n",
       "      <td>2018-09-21</td>\n",
       "      <td>13.80</td>\n",
       "      <td>1000</td>\n",
       "    </tr>\n",
       "    <tr>\n",
       "      <th>4</th>\n",
       "      <td>1000_4</td>\n",
       "      <td>2018-12-15</td>\n",
       "      <td>5.18</td>\n",
       "      <td>1000</td>\n",
       "    </tr>\n",
       "  </tbody>\n",
       "</table>\n",
       "</div>"
      ],
      "text/plain": [
       "       id   call_date  duration  user_id\n",
       "0  1000_0  2018-07-25      0.00     1000\n",
       "1  1000_1  2018-08-17      0.00     1000\n",
       "2  1000_2  2018-06-11      2.85     1000\n",
       "3  1000_3  2018-09-21     13.80     1000\n",
       "4  1000_4  2018-12-15      5.18     1000"
      ]
     },
     "execution_count": 8,
     "metadata": {},
     "output_type": "execute_result"
    }
   ],
   "source": [
    "calls.head()"
   ]
  },
  {
   "cell_type": "markdown",
   "metadata": {},
   "source": [
    "В таблице `calls` 202607 строк (т.е. было совершено 202607 звонков), пропущенные значения отсутствуют. Столбец `call_date` требуется определить в формате datetime. Длительность звонка `duration` необходимо округлить вверх (согласно политике компании) и преобразовать в целочисленный тип."
   ]
  },
  {
   "cell_type": "markdown",
   "metadata": {},
   "source": [
    "* **Таблица** `messages` **с информацией о сообщениях**"
   ]
  },
  {
   "cell_type": "code",
   "execution_count": 9,
   "metadata": {},
   "outputs": [
    {
     "name": "stdout",
     "output_type": "stream",
     "text": [
      "<class 'pandas.core.frame.DataFrame'>\n",
      "RangeIndex: 123036 entries, 0 to 123035\n",
      "Data columns (total 3 columns):\n",
      " #   Column        Non-Null Count   Dtype \n",
      "---  ------        --------------   ----- \n",
      " 0   id            123036 non-null  object\n",
      " 1   message_date  123036 non-null  object\n",
      " 2   user_id       123036 non-null  int64 \n",
      "dtypes: int64(1), object(2)\n",
      "memory usage: 2.8+ MB\n"
     ]
    }
   ],
   "source": [
    "messages.info()"
   ]
  },
  {
   "cell_type": "code",
   "execution_count": 10,
   "metadata": {},
   "outputs": [
    {
     "data": {
      "text/html": [
       "<div>\n",
       "<style scoped>\n",
       "    .dataframe tbody tr th:only-of-type {\n",
       "        vertical-align: middle;\n",
       "    }\n",
       "\n",
       "    .dataframe tbody tr th {\n",
       "        vertical-align: top;\n",
       "    }\n",
       "\n",
       "    .dataframe thead th {\n",
       "        text-align: right;\n",
       "    }\n",
       "</style>\n",
       "<table border=\"1\" class=\"dataframe\">\n",
       "  <thead>\n",
       "    <tr style=\"text-align: right;\">\n",
       "      <th></th>\n",
       "      <th>id</th>\n",
       "      <th>message_date</th>\n",
       "      <th>user_id</th>\n",
       "    </tr>\n",
       "  </thead>\n",
       "  <tbody>\n",
       "    <tr>\n",
       "      <th>0</th>\n",
       "      <td>1000_0</td>\n",
       "      <td>2018-06-27</td>\n",
       "      <td>1000</td>\n",
       "    </tr>\n",
       "    <tr>\n",
       "      <th>1</th>\n",
       "      <td>1000_1</td>\n",
       "      <td>2018-10-08</td>\n",
       "      <td>1000</td>\n",
       "    </tr>\n",
       "    <tr>\n",
       "      <th>2</th>\n",
       "      <td>1000_2</td>\n",
       "      <td>2018-08-04</td>\n",
       "      <td>1000</td>\n",
       "    </tr>\n",
       "    <tr>\n",
       "      <th>3</th>\n",
       "      <td>1000_3</td>\n",
       "      <td>2018-06-16</td>\n",
       "      <td>1000</td>\n",
       "    </tr>\n",
       "    <tr>\n",
       "      <th>4</th>\n",
       "      <td>1000_4</td>\n",
       "      <td>2018-12-05</td>\n",
       "      <td>1000</td>\n",
       "    </tr>\n",
       "  </tbody>\n",
       "</table>\n",
       "</div>"
      ],
      "text/plain": [
       "       id message_date  user_id\n",
       "0  1000_0   2018-06-27     1000\n",
       "1  1000_1   2018-10-08     1000\n",
       "2  1000_2   2018-08-04     1000\n",
       "3  1000_3   2018-06-16     1000\n",
       "4  1000_4   2018-12-05     1000"
      ]
     },
     "execution_count": 10,
     "metadata": {},
     "output_type": "execute_result"
    }
   ],
   "source": [
    "messages.head()"
   ]
  },
  {
   "cell_type": "markdown",
   "metadata": {},
   "source": [
    "В таблице `messages` 123036 строк (т.е. было отправлено 123036 сообщений), отсутствуют пропущенные значения. Столбец `message_date` необходимо преобразовать в формат datetime."
   ]
  },
  {
   "cell_type": "markdown",
   "metadata": {},
   "source": [
    "* **Таблица** `internet` **с информацией об интернет-сессиях**"
   ]
  },
  {
   "cell_type": "code",
   "execution_count": 11,
   "metadata": {},
   "outputs": [
    {
     "name": "stdout",
     "output_type": "stream",
     "text": [
      "<class 'pandas.core.frame.DataFrame'>\n",
      "RangeIndex: 149396 entries, 0 to 149395\n",
      "Data columns (total 5 columns):\n",
      " #   Column        Non-Null Count   Dtype  \n",
      "---  ------        --------------   -----  \n",
      " 0   Unnamed: 0    149396 non-null  int64  \n",
      " 1   id            149396 non-null  object \n",
      " 2   mb_used       149396 non-null  float64\n",
      " 3   session_date  149396 non-null  object \n",
      " 4   user_id       149396 non-null  int64  \n",
      "dtypes: float64(1), int64(2), object(2)\n",
      "memory usage: 5.7+ MB\n"
     ]
    }
   ],
   "source": [
    "internet.info()"
   ]
  },
  {
   "cell_type": "code",
   "execution_count": 12,
   "metadata": {},
   "outputs": [
    {
     "data": {
      "text/html": [
       "<div>\n",
       "<style scoped>\n",
       "    .dataframe tbody tr th:only-of-type {\n",
       "        vertical-align: middle;\n",
       "    }\n",
       "\n",
       "    .dataframe tbody tr th {\n",
       "        vertical-align: top;\n",
       "    }\n",
       "\n",
       "    .dataframe thead th {\n",
       "        text-align: right;\n",
       "    }\n",
       "</style>\n",
       "<table border=\"1\" class=\"dataframe\">\n",
       "  <thead>\n",
       "    <tr style=\"text-align: right;\">\n",
       "      <th></th>\n",
       "      <th>Unnamed: 0</th>\n",
       "      <th>id</th>\n",
       "      <th>mb_used</th>\n",
       "      <th>session_date</th>\n",
       "      <th>user_id</th>\n",
       "    </tr>\n",
       "  </thead>\n",
       "  <tbody>\n",
       "    <tr>\n",
       "      <th>0</th>\n",
       "      <td>0</td>\n",
       "      <td>1000_0</td>\n",
       "      <td>112.95</td>\n",
       "      <td>2018-11-25</td>\n",
       "      <td>1000</td>\n",
       "    </tr>\n",
       "    <tr>\n",
       "      <th>1</th>\n",
       "      <td>1</td>\n",
       "      <td>1000_1</td>\n",
       "      <td>1052.81</td>\n",
       "      <td>2018-09-07</td>\n",
       "      <td>1000</td>\n",
       "    </tr>\n",
       "    <tr>\n",
       "      <th>2</th>\n",
       "      <td>2</td>\n",
       "      <td>1000_2</td>\n",
       "      <td>1197.26</td>\n",
       "      <td>2018-06-25</td>\n",
       "      <td>1000</td>\n",
       "    </tr>\n",
       "    <tr>\n",
       "      <th>3</th>\n",
       "      <td>3</td>\n",
       "      <td>1000_3</td>\n",
       "      <td>550.27</td>\n",
       "      <td>2018-08-22</td>\n",
       "      <td>1000</td>\n",
       "    </tr>\n",
       "    <tr>\n",
       "      <th>4</th>\n",
       "      <td>4</td>\n",
       "      <td>1000_4</td>\n",
       "      <td>302.56</td>\n",
       "      <td>2018-09-24</td>\n",
       "      <td>1000</td>\n",
       "    </tr>\n",
       "  </tbody>\n",
       "</table>\n",
       "</div>"
      ],
      "text/plain": [
       "   Unnamed: 0      id  mb_used session_date  user_id\n",
       "0           0  1000_0   112.95   2018-11-25     1000\n",
       "1           1  1000_1  1052.81   2018-09-07     1000\n",
       "2           2  1000_2  1197.26   2018-06-25     1000\n",
       "3           3  1000_3   550.27   2018-08-22     1000\n",
       "4           4  1000_4   302.56   2018-09-24     1000"
      ]
     },
     "execution_count": 12,
     "metadata": {},
     "output_type": "execute_result"
    }
   ],
   "source": [
    "internet.head()"
   ]
  },
  {
   "cell_type": "markdown",
   "metadata": {},
   "source": [
    "В таблице `internet` зафиксировано 149396 интернет-сессий, пропущенные значения отсутствуют. Столбец `Unnamed: 0` не несет смысловой нагрузки и может быть удален - он всего лишь дублирует индекс таблицы и, скорее всего, возник в результате слияния таблиц или выгрузки данных. Количество использованного интернет-трафика `mb_used` требуется округлить вверх (согласно политике компании) и преобразовать в целочисленный тип. Дату сессии `session_date` нужно привести к формату datetime."
   ]
  },
  {
   "cell_type": "markdown",
   "metadata": {},
   "source": [
    "* **Таблица** `tariffs` **с информацией о тарифах**"
   ]
  },
  {
   "cell_type": "code",
   "execution_count": 13,
   "metadata": {},
   "outputs": [
    {
     "name": "stdout",
     "output_type": "stream",
     "text": [
      "<class 'pandas.core.frame.DataFrame'>\n",
      "RangeIndex: 2 entries, 0 to 1\n",
      "Data columns (total 8 columns):\n",
      " #   Column                 Non-Null Count  Dtype \n",
      "---  ------                 --------------  ----- \n",
      " 0   messages_included      2 non-null      int64 \n",
      " 1   mb_per_month_included  2 non-null      int64 \n",
      " 2   minutes_included       2 non-null      int64 \n",
      " 3   rub_monthly_fee        2 non-null      int64 \n",
      " 4   rub_per_gb             2 non-null      int64 \n",
      " 5   rub_per_message        2 non-null      int64 \n",
      " 6   rub_per_minute         2 non-null      int64 \n",
      " 7   tariff_name            2 non-null      object\n",
      "dtypes: int64(7), object(1)\n",
      "memory usage: 256.0+ bytes\n"
     ]
    }
   ],
   "source": [
    "tariffs.info()"
   ]
  },
  {
   "cell_type": "code",
   "execution_count": 14,
   "metadata": {},
   "outputs": [
    {
     "data": {
      "text/html": [
       "<div>\n",
       "<style scoped>\n",
       "    .dataframe tbody tr th:only-of-type {\n",
       "        vertical-align: middle;\n",
       "    }\n",
       "\n",
       "    .dataframe tbody tr th {\n",
       "        vertical-align: top;\n",
       "    }\n",
       "\n",
       "    .dataframe thead th {\n",
       "        text-align: right;\n",
       "    }\n",
       "</style>\n",
       "<table border=\"1\" class=\"dataframe\">\n",
       "  <thead>\n",
       "    <tr style=\"text-align: right;\">\n",
       "      <th></th>\n",
       "      <th>messages_included</th>\n",
       "      <th>mb_per_month_included</th>\n",
       "      <th>minutes_included</th>\n",
       "      <th>rub_monthly_fee</th>\n",
       "      <th>rub_per_gb</th>\n",
       "      <th>rub_per_message</th>\n",
       "      <th>rub_per_minute</th>\n",
       "      <th>tariff_name</th>\n",
       "    </tr>\n",
       "  </thead>\n",
       "  <tbody>\n",
       "    <tr>\n",
       "      <th>0</th>\n",
       "      <td>50</td>\n",
       "      <td>15360</td>\n",
       "      <td>500</td>\n",
       "      <td>550</td>\n",
       "      <td>200</td>\n",
       "      <td>3</td>\n",
       "      <td>3</td>\n",
       "      <td>smart</td>\n",
       "    </tr>\n",
       "    <tr>\n",
       "      <th>1</th>\n",
       "      <td>1000</td>\n",
       "      <td>30720</td>\n",
       "      <td>3000</td>\n",
       "      <td>1950</td>\n",
       "      <td>150</td>\n",
       "      <td>1</td>\n",
       "      <td>1</td>\n",
       "      <td>ultra</td>\n",
       "    </tr>\n",
       "  </tbody>\n",
       "</table>\n",
       "</div>"
      ],
      "text/plain": [
       "   messages_included  mb_per_month_included  minutes_included  \\\n",
       "0                 50                  15360               500   \n",
       "1               1000                  30720              3000   \n",
       "\n",
       "   rub_monthly_fee  rub_per_gb  rub_per_message  rub_per_minute tariff_name  \n",
       "0              550         200                3               3       smart  \n",
       "1             1950         150                1               1       ultra  "
      ]
     },
     "execution_count": 14,
     "metadata": {},
     "output_type": "execute_result"
    }
   ],
   "source": [
    "tariffs.head()"
   ]
  },
  {
   "cell_type": "markdown",
   "metadata": {},
   "source": [
    "В таблице `tariffs` содержатся данные о двух тарифах компании (\"smart\" и \"ultra\"), пропущенных значений нет. Все типы данных определены корректно."
   ]
  },
  {
   "cell_type": "markdown",
   "metadata": {},
   "source": [
    "[Вернуться к оглавлению](#introduction)"
   ]
  },
  {
   "cell_type": "markdown",
   "metadata": {},
   "source": [
    "## 2. Предобработка и подготовка данных<a name=\"paragraph2\"></a>"
   ]
  },
  {
   "cell_type": "markdown",
   "metadata": {},
   "source": [
    "### 2.1 Предобработка таблицы `users`<a name=\"subparagraph2_1\"></a>"
   ]
  },
  {
   "cell_type": "markdown",
   "metadata": {},
   "source": [
    "Для пользователей, у которых выбранный тариф продолжает действовать по настоящее время, сделаем техническую замену пропусков на \"2099-01-01\" в столбце `churn_date`."
   ]
  },
  {
   "cell_type": "code",
   "execution_count": 15,
   "metadata": {},
   "outputs": [],
   "source": [
    "users['churn_date'] = users['churn_date'].fillna('2099-01-01')"
   ]
  },
  {
   "cell_type": "markdown",
   "metadata": {},
   "source": [
    "Столбцы `churn_date` и `reg_date` в формат datetime."
   ]
  },
  {
   "cell_type": "code",
   "execution_count": 16,
   "metadata": {},
   "outputs": [],
   "source": [
    "users['churn_date'] = pd.to_datetime(users['churn_date'], format='%Y-%m-%d')\n",
    "users['reg_date'] = pd.to_datetime(users['reg_date'], format='%Y-%m-%d')"
   ]
  },
  {
   "cell_type": "code",
   "execution_count": 17,
   "metadata": {},
   "outputs": [
    {
     "name": "stdout",
     "output_type": "stream",
     "text": [
      "<class 'pandas.core.frame.DataFrame'>\n",
      "RangeIndex: 500 entries, 0 to 499\n",
      "Data columns (total 8 columns):\n",
      " #   Column      Non-Null Count  Dtype         \n",
      "---  ------      --------------  -----         \n",
      " 0   user_id     500 non-null    int64         \n",
      " 1   age         500 non-null    int64         \n",
      " 2   churn_date  500 non-null    datetime64[ns]\n",
      " 3   city        500 non-null    object        \n",
      " 4   first_name  500 non-null    object        \n",
      " 5   last_name   500 non-null    object        \n",
      " 6   reg_date    500 non-null    datetime64[ns]\n",
      " 7   tariff      500 non-null    object        \n",
      "dtypes: datetime64[ns](2), int64(2), object(4)\n",
      "memory usage: 31.4+ KB\n"
     ]
    }
   ],
   "source": [
    "users.info()"
   ]
  },
  {
   "cell_type": "markdown",
   "metadata": {},
   "source": [
    "### 2.2 Предобработка таблицы `calls`<a name=\"subparagraph2_2\"></a>"
   ]
  },
  {
   "cell_type": "markdown",
   "metadata": {},
   "source": [
    "Рассмотрим `duration` на наличие аномалий с помощью метода `describe`:"
   ]
  },
  {
   "cell_type": "code",
   "execution_count": 18,
   "metadata": {},
   "outputs": [
    {
     "data": {
      "text/plain": [
       "count    202607.000000\n",
       "mean          6.755887\n",
       "std           5.843365\n",
       "min           0.000000\n",
       "25%           1.300000\n",
       "50%           6.000000\n",
       "75%          10.700000\n",
       "max          38.000000\n",
       "Name: duration, dtype: float64"
      ]
     },
     "execution_count": 18,
     "metadata": {},
     "output_type": "execute_result"
    }
   ],
   "source": [
    "calls['duration'].describe()"
   ]
  },
  {
   "cell_type": "markdown",
   "metadata": {},
   "source": [
    "Отметим аномальный минимум 0 в столбце с длительностью звонка. Это может быть объяснено тем, что звонок не был принят другим абонентом. Рассмотрим какой процент звонков был пропущен. "
   ]
  },
  {
   "cell_type": "code",
   "execution_count": 19,
   "metadata": {},
   "outputs": [
    {
     "data": {
      "text/plain": [
       "0.19551644316336553"
      ]
     },
     "execution_count": 19,
     "metadata": {},
     "output_type": "execute_result"
    }
   ],
   "source": [
    "calls.query('duration == 0').shape[0] / len(calls)"
   ]
  },
  {
   "cell_type": "markdown",
   "metadata": {},
   "source": [
    "Видим, что около 19.6% всех звонков были пропущены. Это значительная доля пропусков, и это может повлиять на результаты анализа. Рассмотрим гистограмму, чтобы увидеть, как эти нулевые звонки влияют на распределение."
   ]
  },
  {
   "cell_type": "code",
   "execution_count": 20,
   "metadata": {},
   "outputs": [
    {
     "data": {
      "image/png": "[encoded data removed]",
      "text/plain": [
       "<Figure size 864x432 with 1 Axes>"
      ]
     },
     "metadata": {
      "needs_background": "light"
     },
     "output_type": "display_data"
    }
   ],
   "source": [
    "calls['duration'].hist(bins=38, grid=False)\n",
    "plt.title('Распределение длительности звонков')\n",
    "plt.ylabel('Частота')\n",
    "plt.xlabel('Длительность звонка в мин.')\n",
    "plt.show()"
   ]
  },
  {
   "cell_type": "markdown",
   "metadata": {},
   "source": [
    "На графике выше видно, что нулевые значения сильно выбиваются из нормального распределения и могут быть расценены, как нехарактерные значения или выбросы. Если соединение абонентов не произошло, то за данную услугу не взимается отдельная плата, и в рамках поставленной задачи эти записи являются нерелевантными. Кроме того, эти многочисленные записи о несостоявшихся звонках существенно искажают свойства распределения, что может привести к некорректным результатам. Поэтому было принято решение исключить звонки с нулевой продолжительностью для улучшения репрезентативности."
   ]
  },
  {
   "cell_type": "markdown",
   "metadata": {},
   "source": [
    "Исключаем звонки с нулевой продолжительностью."
   ]
  },
  {
   "cell_type": "code",
   "execution_count": 21,
   "metadata": {},
   "outputs": [],
   "source": [
    "calls['duration'] = calls['duration'].replace(0, np.nan)\n",
    "calls = calls.dropna()"
   ]
  },
  {
   "cell_type": "code",
   "execution_count": 22,
   "metadata": {},
   "outputs": [
    {
     "data": {
      "image/png": "[encoded data removed]",
      "text/plain": [
       "<Figure size 864x432 with 1 Axes>"
      ]
     },
     "metadata": {
      "needs_background": "light"
     },
     "output_type": "display_data"
    }
   ],
   "source": [
    "calls['duration'].hist(bins=38, grid=False)\n",
    "plt.title('Распределение длительности звонков')\n",
    "plt.ylabel('Частота')\n",
    "plt.xlabel('Длительность звонка в мин.')\n",
    "plt.show()"
   ]
  },
  {
   "cell_type": "markdown",
   "metadata": {},
   "source": [
    "На гисторамме выше можно увидеть, что исключение нулевых звонков существенно улучшило распределение переменной - оно стало более нормальным."
   ]
  },
  {
   "cell_type": "markdown",
   "metadata": {},
   "source": [
    "Столбец `duration` округляем вверх и приводим к целочисленному типу."
   ]
  },
  {
   "cell_type": "code",
   "execution_count": 23,
   "metadata": {},
   "outputs": [],
   "source": [
    "calls['duration'] = calls['duration'].apply(np.ceil).astype('int')"
   ]
  },
  {
   "cell_type": "markdown",
   "metadata": {},
   "source": [
    "Столбец `call_date` в формат datetime."
   ]
  },
  {
   "cell_type": "code",
   "execution_count": 24,
   "metadata": {},
   "outputs": [],
   "source": [
    "calls['call_date'] = pd.to_datetime(calls['call_date'], format='%Y-%m-%d')"
   ]
  },
  {
   "cell_type": "code",
   "execution_count": 25,
   "metadata": {},
   "outputs": [
    {
     "name": "stdout",
     "output_type": "stream",
     "text": [
      "<class 'pandas.core.frame.DataFrame'>\n",
      "Int64Index: 162994 entries, 2 to 202606\n",
      "Data columns (total 4 columns):\n",
      " #   Column     Non-Null Count   Dtype         \n",
      "---  ------     --------------   -----         \n",
      " 0   id         162994 non-null  object        \n",
      " 1   call_date  162994 non-null  datetime64[ns]\n",
      " 2   duration   162994 non-null  int32         \n",
      " 3   user_id    162994 non-null  int64         \n",
      "dtypes: datetime64[ns](1), int32(1), int64(1), object(1)\n",
      "memory usage: 5.6+ MB\n"
     ]
    }
   ],
   "source": [
    "calls.info()"
   ]
  },
  {
   "cell_type": "markdown",
   "metadata": {},
   "source": [
    "### 2.3 Предобработка таблицы `messages`<a name=\"subparagraph2_3\"></a>"
   ]
  },
  {
   "cell_type": "markdown",
   "metadata": {},
   "source": [
    "Столбец `message_date` в формат datetime."
   ]
  },
  {
   "cell_type": "code",
   "execution_count": 26,
   "metadata": {},
   "outputs": [],
   "source": [
    "messages['message_date'] = pd.to_datetime(messages['message_date'], format='%Y-%m-%d')"
   ]
  },
  {
   "cell_type": "code",
   "execution_count": 27,
   "metadata": {},
   "outputs": [
    {
     "name": "stdout",
     "output_type": "stream",
     "text": [
      "<class 'pandas.core.frame.DataFrame'>\n",
      "RangeIndex: 123036 entries, 0 to 123035\n",
      "Data columns (total 3 columns):\n",
      " #   Column        Non-Null Count   Dtype         \n",
      "---  ------        --------------   -----         \n",
      " 0   id            123036 non-null  object        \n",
      " 1   message_date  123036 non-null  datetime64[ns]\n",
      " 2   user_id       123036 non-null  int64         \n",
      "dtypes: datetime64[ns](1), int64(1), object(1)\n",
      "memory usage: 2.8+ MB\n"
     ]
    }
   ],
   "source": [
    "messages.info()"
   ]
  },
  {
   "cell_type": "markdown",
   "metadata": {},
   "source": [
    "### 2.4 Предобработка таблицы `internet`<a name=\"subparagraph2_4\"></a>"
   ]
  },
  {
   "cell_type": "markdown",
   "metadata": {},
   "source": [
    "Рассмотрим объем использованного трафика `mb_used` на наличие аномалий с помощью метода `describe`:"
   ]
  },
  {
   "cell_type": "code",
   "execution_count": 28,
   "metadata": {},
   "outputs": [
    {
     "data": {
      "text/plain": [
       "count    149396.000000\n",
       "mean        370.192426\n",
       "std         278.300951\n",
       "min           0.000000\n",
       "25%         138.187500\n",
       "50%         348.015000\n",
       "75%         559.552500\n",
       "max        1724.830000\n",
       "Name: mb_used, dtype: float64"
      ]
     },
     "execution_count": 28,
     "metadata": {},
     "output_type": "execute_result"
    }
   ],
   "source": [
    "internet['mb_used'].describe()"
   ]
  },
  {
   "cell_type": "markdown",
   "metadata": {},
   "source": [
    "Как и в случае с продолжительностью звонков, мы наблюдаем нулевые значения в объеме использованного трафика."
   ]
  },
  {
   "cell_type": "code",
   "execution_count": 29,
   "metadata": {},
   "outputs": [
    {
     "data": {
      "text/plain": [
       "0.13118155773916304"
      ]
     },
     "execution_count": 29,
     "metadata": {},
     "output_type": "execute_result"
    }
   ],
   "source": [
    "internet.query('mb_used == 0').shape[0] / len(internet)"
   ]
  },
  {
   "cell_type": "markdown",
   "metadata": {},
   "source": [
    "Количество интернет-сессий с нулевым трафиком примерно равно 13.1%. Посмотрим, как эти сессии влияют на общее распределение переменной."
   ]
  },
  {
   "cell_type": "code",
   "execution_count": 30,
   "metadata": {},
   "outputs": [
    {
     "data": {
      "image/png": "[encoded data removed]",
      "text/plain": [
       "<Figure size 864x432 with 1 Axes>"
      ]
     },
     "metadata": {
      "needs_background": "light"
     },
     "output_type": "display_data"
    }
   ],
   "source": [
    "internet['mb_used'].hist(bins=38, grid=False)\n",
    "plt.title('Распределение интернет-сессий по объему использованного трафика')\n",
    "plt.ylabel('Частота')\n",
    "plt.xlabel('Объем использованного интернет-трафика за сессию в Мб.')\n",
    "plt.show()"
   ]
  },
  {
   "cell_type": "markdown",
   "metadata": {},
   "source": [
    "Нулевые интернет-сессии существенно выбиваются из распределения и могут считаться выбросами, которые способны значительно ухудшить результаты статистического анализа. Заполнение нулевых значений средним или медианой нельзя считать оправданным в контексте поставленных целей - это может сильно исказить вариативность переменной, и, к тому же, породить некорректные выводы и допущения. Нулевые интернет-сессии не приводят к каким-либо расходам для пользователей, но при этом искажают переменную, а, следовательно, их необходимо исключить из дальнейшего анализа. Возможно, так отражаются в базе данных короткие технические соединения с оператором, которые не используют внешний интернет-трафик."
   ]
  },
  {
   "cell_type": "code",
   "execution_count": 31,
   "metadata": {},
   "outputs": [],
   "source": [
    "internet['mb_used'] = internet['mb_used'].replace(0, np.nan)\n",
    "internet = internet.dropna()"
   ]
  },
  {
   "cell_type": "code",
   "execution_count": 32,
   "metadata": {},
   "outputs": [
    {
     "data": {
      "image/png": "[encoded data removed]",
      "text/plain": [
       "<Figure size 864x432 with 1 Axes>"
      ]
     },
     "metadata": {
      "needs_background": "light"
     },
     "output_type": "display_data"
    }
   ],
   "source": [
    "internet['mb_used'].hist(bins=38, grid=False)\n",
    "plt.title('Распределение интернет-сессий по объему использованного трафика')\n",
    "plt.ylabel('Частота')\n",
    "plt.xlabel('Объем использованного интернет-трафика за сессию в Мб.')\n",
    "plt.show()"
   ]
  },
  {
   "cell_type": "markdown",
   "metadata": {},
   "source": [
    "Как и в случае с пропущенными звонками, исключение нулевых интернет-сессий существенно улучшило распределение переменной и сделало его более нормальным."
   ]
  },
  {
   "cell_type": "markdown",
   "metadata": {},
   "source": [
    "Столбец `mb_used` округлим вверх и приведем к целочисленному типу."
   ]
  },
  {
   "cell_type": "code",
   "execution_count": 33,
   "metadata": {},
   "outputs": [],
   "source": [
    "internet['mb_used'] = internet['mb_used'].apply(np.ceil).astype('int')"
   ]
  },
  {
   "cell_type": "markdown",
   "metadata": {},
   "source": [
    "Удаляем столбец `Unnamed: 0`."
   ]
  },
  {
   "cell_type": "code",
   "execution_count": 34,
   "metadata": {},
   "outputs": [],
   "source": [
    "internet = internet.drop('Unnamed: 0',axis=1)"
   ]
  },
  {
   "cell_type": "markdown",
   "metadata": {},
   "source": [
    "Дату сессии `session_date` приводим к формату datetime."
   ]
  },
  {
   "cell_type": "code",
   "execution_count": 35,
   "metadata": {},
   "outputs": [],
   "source": [
    "internet['session_date'] = pd.to_datetime(internet['session_date'], format='%Y-%m-%d')"
   ]
  },
  {
   "cell_type": "code",
   "execution_count": 36,
   "metadata": {},
   "outputs": [
    {
     "name": "stdout",
     "output_type": "stream",
     "text": [
      "<class 'pandas.core.frame.DataFrame'>\n",
      "Int64Index: 129798 entries, 0 to 149395\n",
      "Data columns (total 4 columns):\n",
      " #   Column        Non-Null Count   Dtype         \n",
      "---  ------        --------------   -----         \n",
      " 0   id            129798 non-null  object        \n",
      " 1   mb_used       129798 non-null  int32         \n",
      " 2   session_date  129798 non-null  datetime64[ns]\n",
      " 3   user_id       129798 non-null  int64         \n",
      "dtypes: datetime64[ns](1), int32(1), int64(1), object(1)\n",
      "memory usage: 4.5+ MB\n"
     ]
    }
   ],
   "source": [
    "internet.info()"
   ]
  },
  {
   "cell_type": "markdown",
   "metadata": {},
   "source": [
    "### 2.5 Предобработка таблицы `tariffs`<a name=\"subparagraph2_5\"></a>"
   ]
  },
  {
   "cell_type": "code",
   "execution_count": 37,
   "metadata": {},
   "outputs": [
    {
     "name": "stdout",
     "output_type": "stream",
     "text": [
      "<class 'pandas.core.frame.DataFrame'>\n",
      "RangeIndex: 2 entries, 0 to 1\n",
      "Data columns (total 8 columns):\n",
      " #   Column                 Non-Null Count  Dtype \n",
      "---  ------                 --------------  ----- \n",
      " 0   messages_included      2 non-null      int64 \n",
      " 1   mb_per_month_included  2 non-null      int64 \n",
      " 2   minutes_included       2 non-null      int64 \n",
      " 3   rub_monthly_fee        2 non-null      int64 \n",
      " 4   rub_per_gb             2 non-null      int64 \n",
      " 5   rub_per_message        2 non-null      int64 \n",
      " 6   rub_per_minute         2 non-null      int64 \n",
      " 7   tariff_name            2 non-null      object\n",
      "dtypes: int64(7), object(1)\n",
      "memory usage: 256.0+ bytes\n"
     ]
    }
   ],
   "source": [
    "tariffs.info()\n",
    "tariffs.columns = ['messages_included', 'mb_per_month_included', 'minutes_included',\n",
    "                   'rub_monthly_fee', 'rub_per_gb', 'rub_per_message', 'rub_per_minute', 'tariff']"
   ]
  },
  {
   "cell_type": "markdown",
   "metadata": {},
   "source": [
    "Предобработка данных для таблицы `tariffs` не требуется."
   ]
  },
  {
   "cell_type": "markdown",
   "metadata": {},
   "source": [
    "### 2.6 Дополнительные расчеты для каждого пользователя<a name=\"subparagraph2_6\"></a>"
   ]
  },
  {
   "cell_type": "markdown",
   "metadata": {},
   "source": [
    "Видим, что данные были выгружены только за 2018 год - с 1 января по 31 декабря."
   ]
  },
  {
   "cell_type": "code",
   "execution_count": 38,
   "metadata": {},
   "outputs": [
    {
     "name": "stdout",
     "output_type": "stream",
     "text": [
      "Регистрация: 2018-01-01 00:00:00 | 2018-12-31 00:00:00\n",
      "Звонки: 2018-01-01 00:00:00 | 2018-12-31 00:00:00\n",
      "Сообщения: 2018-01-02 00:00:00 | 2018-12-31 00:00:00\n",
      "Интернет-сессии: 2018-01-01 00:00:00 | 2018-12-31 00:00:00\n"
     ]
    }
   ],
   "source": [
    "print('Регистрация:', users['reg_date'].min(), '|', users['reg_date'].max())\n",
    "print('Звонки:', calls['call_date'].min(), '|', calls['call_date'].max())\n",
    "print('Сообщения:', messages['message_date'].min(), '|', messages['message_date'].max())\n",
    "print('Интернет-сессии:', internet['session_date'].min(), '|', internet['session_date'].max())"
   ]
  },
  {
   "cell_type": "markdown",
   "metadata": {},
   "source": [
    "* **Количество сделанных звонков и израсходованных минут разговора по месяцам - датафрейм `calls_month`**"
   ]
  },
  {
   "cell_type": "code",
   "execution_count": 39,
   "metadata": {},
   "outputs": [],
   "source": [
    "calls['month'] = calls['call_date'].dt.month"
   ]
  },
  {
   "cell_type": "code",
   "execution_count": 40,
   "metadata": {},
   "outputs": [
    {
     "data": {
      "text/html": [
       "<div>\n",
       "<style scoped>\n",
       "    .dataframe tbody tr th:only-of-type {\n",
       "        vertical-align: middle;\n",
       "    }\n",
       "\n",
       "    .dataframe tbody tr th {\n",
       "        vertical-align: top;\n",
       "    }\n",
       "\n",
       "    .dataframe thead th {\n",
       "        text-align: right;\n",
       "    }\n",
       "</style>\n",
       "<table border=\"1\" class=\"dataframe\">\n",
       "  <thead>\n",
       "    <tr style=\"text-align: right;\">\n",
       "      <th></th>\n",
       "      <th>user_id</th>\n",
       "      <th>month</th>\n",
       "      <th>number_of_calls</th>\n",
       "      <th>total_duration_min</th>\n",
       "    </tr>\n",
       "  </thead>\n",
       "  <tbody>\n",
       "    <tr>\n",
       "      <th>0</th>\n",
       "      <td>1000</td>\n",
       "      <td>5</td>\n",
       "      <td>17</td>\n",
       "      <td>159</td>\n",
       "    </tr>\n",
       "    <tr>\n",
       "      <th>1</th>\n",
       "      <td>1000</td>\n",
       "      <td>6</td>\n",
       "      <td>28</td>\n",
       "      <td>172</td>\n",
       "    </tr>\n",
       "    <tr>\n",
       "      <th>2</th>\n",
       "      <td>1000</td>\n",
       "      <td>7</td>\n",
       "      <td>41</td>\n",
       "      <td>340</td>\n",
       "    </tr>\n",
       "    <tr>\n",
       "      <th>3</th>\n",
       "      <td>1000</td>\n",
       "      <td>8</td>\n",
       "      <td>42</td>\n",
       "      <td>408</td>\n",
       "    </tr>\n",
       "    <tr>\n",
       "      <th>4</th>\n",
       "      <td>1000</td>\n",
       "      <td>9</td>\n",
       "      <td>46</td>\n",
       "      <td>466</td>\n",
       "    </tr>\n",
       "    <tr>\n",
       "      <th>...</th>\n",
       "      <td>...</td>\n",
       "      <td>...</td>\n",
       "      <td>...</td>\n",
       "      <td>...</td>\n",
       "    </tr>\n",
       "    <tr>\n",
       "      <th>3163</th>\n",
       "      <td>1498</td>\n",
       "      <td>10</td>\n",
       "      <td>30</td>\n",
       "      <td>247</td>\n",
       "    </tr>\n",
       "    <tr>\n",
       "      <th>3164</th>\n",
       "      <td>1499</td>\n",
       "      <td>9</td>\n",
       "      <td>8</td>\n",
       "      <td>70</td>\n",
       "    </tr>\n",
       "    <tr>\n",
       "      <th>3165</th>\n",
       "      <td>1499</td>\n",
       "      <td>10</td>\n",
       "      <td>44</td>\n",
       "      <td>449</td>\n",
       "    </tr>\n",
       "    <tr>\n",
       "      <th>3166</th>\n",
       "      <td>1499</td>\n",
       "      <td>11</td>\n",
       "      <td>62</td>\n",
       "      <td>612</td>\n",
       "    </tr>\n",
       "    <tr>\n",
       "      <th>3167</th>\n",
       "      <td>1499</td>\n",
       "      <td>12</td>\n",
       "      <td>56</td>\n",
       "      <td>492</td>\n",
       "    </tr>\n",
       "  </tbody>\n",
       "</table>\n",
       "<p>3168 rows × 4 columns</p>\n",
       "</div>"
      ],
      "text/plain": [
       "      user_id  month  number_of_calls  total_duration_min\n",
       "0        1000      5               17                 159\n",
       "1        1000      6               28                 172\n",
       "2        1000      7               41                 340\n",
       "3        1000      8               42                 408\n",
       "4        1000      9               46                 466\n",
       "...       ...    ...              ...                 ...\n",
       "3163     1498     10               30                 247\n",
       "3164     1499      9                8                  70\n",
       "3165     1499     10               44                 449\n",
       "3166     1499     11               62                 612\n",
       "3167     1499     12               56                 492\n",
       "\n",
       "[3168 rows x 4 columns]"
      ]
     },
     "execution_count": 40,
     "metadata": {},
     "output_type": "execute_result"
    }
   ],
   "source": [
    "calls_month = calls.groupby(['user_id','month'])['duration'].agg(['count', 'sum']).reset_index()\n",
    "calls_month.columns = ['user_id','month','number_of_calls', 'total_duration_min']\n",
    "calls_month"
   ]
  },
  {
   "cell_type": "markdown",
   "metadata": {},
   "source": [
    "* **Количество отправленных сообщений по месяцам - датафрейм `messages_month`**"
   ]
  },
  {
   "cell_type": "code",
   "execution_count": 41,
   "metadata": {},
   "outputs": [],
   "source": [
    "messages['month'] = messages['message_date'].dt.month"
   ]
  },
  {
   "cell_type": "code",
   "execution_count": 42,
   "metadata": {},
   "outputs": [
    {
     "data": {
      "text/html": [
       "<div>\n",
       "<style scoped>\n",
       "    .dataframe tbody tr th:only-of-type {\n",
       "        vertical-align: middle;\n",
       "    }\n",
       "\n",
       "    .dataframe tbody tr th {\n",
       "        vertical-align: top;\n",
       "    }\n",
       "\n",
       "    .dataframe thead th {\n",
       "        text-align: right;\n",
       "    }\n",
       "</style>\n",
       "<table border=\"1\" class=\"dataframe\">\n",
       "  <thead>\n",
       "    <tr style=\"text-align: right;\">\n",
       "      <th></th>\n",
       "      <th>user_id</th>\n",
       "      <th>month</th>\n",
       "      <th>number_of_messages</th>\n",
       "    </tr>\n",
       "  </thead>\n",
       "  <tbody>\n",
       "    <tr>\n",
       "      <th>0</th>\n",
       "      <td>1000</td>\n",
       "      <td>5</td>\n",
       "      <td>22</td>\n",
       "    </tr>\n",
       "    <tr>\n",
       "      <th>1</th>\n",
       "      <td>1000</td>\n",
       "      <td>6</td>\n",
       "      <td>60</td>\n",
       "    </tr>\n",
       "    <tr>\n",
       "      <th>2</th>\n",
       "      <td>1000</td>\n",
       "      <td>7</td>\n",
       "      <td>75</td>\n",
       "    </tr>\n",
       "    <tr>\n",
       "      <th>3</th>\n",
       "      <td>1000</td>\n",
       "      <td>8</td>\n",
       "      <td>81</td>\n",
       "    </tr>\n",
       "    <tr>\n",
       "      <th>4</th>\n",
       "      <td>1000</td>\n",
       "      <td>9</td>\n",
       "      <td>57</td>\n",
       "    </tr>\n",
       "    <tr>\n",
       "      <th>...</th>\n",
       "      <td>...</td>\n",
       "      <td>...</td>\n",
       "      <td>...</td>\n",
       "    </tr>\n",
       "    <tr>\n",
       "      <th>2712</th>\n",
       "      <td>1498</td>\n",
       "      <td>10</td>\n",
       "      <td>42</td>\n",
       "    </tr>\n",
       "    <tr>\n",
       "      <th>2713</th>\n",
       "      <td>1499</td>\n",
       "      <td>9</td>\n",
       "      <td>11</td>\n",
       "    </tr>\n",
       "    <tr>\n",
       "      <th>2714</th>\n",
       "      <td>1499</td>\n",
       "      <td>10</td>\n",
       "      <td>48</td>\n",
       "    </tr>\n",
       "    <tr>\n",
       "      <th>2715</th>\n",
       "      <td>1499</td>\n",
       "      <td>11</td>\n",
       "      <td>59</td>\n",
       "    </tr>\n",
       "    <tr>\n",
       "      <th>2716</th>\n",
       "      <td>1499</td>\n",
       "      <td>12</td>\n",
       "      <td>66</td>\n",
       "    </tr>\n",
       "  </tbody>\n",
       "</table>\n",
       "<p>2717 rows × 3 columns</p>\n",
       "</div>"
      ],
      "text/plain": [
       "      user_id  month  number_of_messages\n",
       "0        1000      5                  22\n",
       "1        1000      6                  60\n",
       "2        1000      7                  75\n",
       "3        1000      8                  81\n",
       "4        1000      9                  57\n",
       "...       ...    ...                 ...\n",
       "2712     1498     10                  42\n",
       "2713     1499      9                  11\n",
       "2714     1499     10                  48\n",
       "2715     1499     11                  59\n",
       "2716     1499     12                  66\n",
       "\n",
       "[2717 rows x 3 columns]"
      ]
     },
     "execution_count": 42,
     "metadata": {},
     "output_type": "execute_result"
    }
   ],
   "source": [
    "messages_month = messages.groupby(['user_id','month'])['id'].count().reset_index()\n",
    "messages_month.columns = ['user_id','month','number_of_messages']\n",
    "messages_month"
   ]
  },
  {
   "cell_type": "markdown",
   "metadata": {},
   "source": [
    "* **Объем израсходованного интернет-трафика по месяцам - датафрейм `internet_month`**"
   ]
  },
  {
   "cell_type": "code",
   "execution_count": 43,
   "metadata": {},
   "outputs": [],
   "source": [
    "internet['month'] = internet['session_date'].dt.month"
   ]
  },
  {
   "cell_type": "code",
   "execution_count": 44,
   "metadata": {},
   "outputs": [
    {
     "data": {
      "text/html": [
       "<div>\n",
       "<style scoped>\n",
       "    .dataframe tbody tr th:only-of-type {\n",
       "        vertical-align: middle;\n",
       "    }\n",
       "\n",
       "    .dataframe tbody tr th {\n",
       "        vertical-align: top;\n",
       "    }\n",
       "\n",
       "    .dataframe thead th {\n",
       "        text-align: right;\n",
       "    }\n",
       "</style>\n",
       "<table border=\"1\" class=\"dataframe\">\n",
       "  <thead>\n",
       "    <tr style=\"text-align: right;\">\n",
       "      <th></th>\n",
       "      <th>user_id</th>\n",
       "      <th>month</th>\n",
       "      <th>total_mb_used</th>\n",
       "      <th>number_of_sessions</th>\n",
       "    </tr>\n",
       "  </thead>\n",
       "  <tbody>\n",
       "    <tr>\n",
       "      <th>0</th>\n",
       "      <td>1000</td>\n",
       "      <td>5</td>\n",
       "      <td>2256</td>\n",
       "      <td>4</td>\n",
       "    </tr>\n",
       "    <tr>\n",
       "      <th>1</th>\n",
       "      <td>1000</td>\n",
       "      <td>6</td>\n",
       "      <td>23257</td>\n",
       "      <td>44</td>\n",
       "    </tr>\n",
       "    <tr>\n",
       "      <th>2</th>\n",
       "      <td>1000</td>\n",
       "      <td>7</td>\n",
       "      <td>14016</td>\n",
       "      <td>28</td>\n",
       "    </tr>\n",
       "    <tr>\n",
       "      <th>3</th>\n",
       "      <td>1000</td>\n",
       "      <td>8</td>\n",
       "      <td>14070</td>\n",
       "      <td>27</td>\n",
       "    </tr>\n",
       "    <tr>\n",
       "      <th>4</th>\n",
       "      <td>1000</td>\n",
       "      <td>9</td>\n",
       "      <td>14581</td>\n",
       "      <td>25</td>\n",
       "    </tr>\n",
       "    <tr>\n",
       "      <th>...</th>\n",
       "      <td>...</td>\n",
       "      <td>...</td>\n",
       "      <td>...</td>\n",
       "      <td>...</td>\n",
       "    </tr>\n",
       "    <tr>\n",
       "      <th>3196</th>\n",
       "      <td>1498</td>\n",
       "      <td>10</td>\n",
       "      <td>20604</td>\n",
       "      <td>49</td>\n",
       "    </tr>\n",
       "    <tr>\n",
       "      <th>3197</th>\n",
       "      <td>1499</td>\n",
       "      <td>9</td>\n",
       "      <td>1848</td>\n",
       "      <td>4</td>\n",
       "    </tr>\n",
       "    <tr>\n",
       "      <th>3198</th>\n",
       "      <td>1499</td>\n",
       "      <td>10</td>\n",
       "      <td>17809</td>\n",
       "      <td>43</td>\n",
       "    </tr>\n",
       "    <tr>\n",
       "      <th>3199</th>\n",
       "      <td>1499</td>\n",
       "      <td>11</td>\n",
       "      <td>17984</td>\n",
       "      <td>39</td>\n",
       "    </tr>\n",
       "    <tr>\n",
       "      <th>3200</th>\n",
       "      <td>1499</td>\n",
       "      <td>12</td>\n",
       "      <td>13077</td>\n",
       "      <td>40</td>\n",
       "    </tr>\n",
       "  </tbody>\n",
       "</table>\n",
       "<p>3201 rows × 4 columns</p>\n",
       "</div>"
      ],
      "text/plain": [
       "      user_id  month  total_mb_used  number_of_sessions\n",
       "0        1000      5           2256                   4\n",
       "1        1000      6          23257                  44\n",
       "2        1000      7          14016                  28\n",
       "3        1000      8          14070                  27\n",
       "4        1000      9          14581                  25\n",
       "...       ...    ...            ...                 ...\n",
       "3196     1498     10          20604                  49\n",
       "3197     1499      9           1848                   4\n",
       "3198     1499     10          17809                  43\n",
       "3199     1499     11          17984                  39\n",
       "3200     1499     12          13077                  40\n",
       "\n",
       "[3201 rows x 4 columns]"
      ]
     },
     "execution_count": 44,
     "metadata": {},
     "output_type": "execute_result"
    }
   ],
   "source": [
    "internet_month = internet.groupby(['user_id','month'])['mb_used'].agg(['sum', 'count']).reset_index()\n",
    "internet_month.columns = ['user_id','month', 'total_mb_used', 'number_of_sessions']\n",
    "internet_month"
   ]
  },
  {
   "cell_type": "markdown",
   "metadata": {},
   "source": [
    "* **Рассчитаем помесячную выручку с каждого пользователя**"
   ]
  },
  {
   "cell_type": "markdown",
   "metadata": {},
   "source": [
    "Cоберем все ключевые данные по звонкам, сообщениям, интернет-сессиям за каждый месяц для каждого пользователя, а также общую информацию о пользователях в датафрейме `report`."
   ]
  },
  {
   "cell_type": "code",
   "execution_count": 45,
   "metadata": {},
   "outputs": [],
   "source": [
    "report = calls_month.merge(messages_month,on=['user_id', 'month'], how='outer')\n",
    "report = report.merge(internet_month,on=['user_id', 'month'], how='outer')\n",
    "report = report.merge(users,on='user_id', how='right')\n",
    "report = report.merge(tariffs)"
   ]
  },
  {
   "cell_type": "markdown",
   "metadata": {},
   "source": [
    "При слиянии, в таблице `report` образовались пропущеные значения. Заполним их нулями для удобства расчетов."
   ]
  },
  {
   "cell_type": "code",
   "execution_count": 46,
   "metadata": {},
   "outputs": [],
   "source": [
    "report.fillna({'number_of_calls':0, 'total_duration_min':0, 'number_of_messages':0, 'total_mb_used':0, 'number_of_sessions':0}, inplace=True)\n",
    "for col in ['number_of_calls', 'total_duration_min', 'number_of_messages', 'total_mb_used', 'number_of_sessions']:\n",
    "    report[col] = report[col].astype('int')"
   ]
  },
  {
   "cell_type": "code",
   "execution_count": 47,
   "metadata": {},
   "outputs": [
    {
     "name": "stdout",
     "output_type": "stream",
     "text": [
      "<class 'pandas.core.frame.DataFrame'>\n",
      "Int64Index: 3216 entries, 0 to 3215\n",
      "Data columns (total 21 columns):\n",
      " #   Column                 Non-Null Count  Dtype         \n",
      "---  ------                 --------------  -----         \n",
      " 0   user_id                3216 non-null   int64         \n",
      " 1   month                  3214 non-null   float64       \n",
      " 2   number_of_calls        3216 non-null   int32         \n",
      " 3   total_duration_min     3216 non-null   int32         \n",
      " 4   number_of_messages     3216 non-null   int32         \n",
      " 5   total_mb_used          3216 non-null   int32         \n",
      " 6   number_of_sessions     3216 non-null   int32         \n",
      " 7   age                    3216 non-null   int64         \n",
      " 8   churn_date             3216 non-null   datetime64[ns]\n",
      " 9   city                   3216 non-null   object        \n",
      " 10  first_name             3216 non-null   object        \n",
      " 11  last_name              3216 non-null   object        \n",
      " 12  reg_date               3216 non-null   datetime64[ns]\n",
      " 13  tariff                 3216 non-null   object        \n",
      " 14  messages_included      3216 non-null   int64         \n",
      " 15  mb_per_month_included  3216 non-null   int64         \n",
      " 16  minutes_included       3216 non-null   int64         \n",
      " 17  rub_monthly_fee        3216 non-null   int64         \n",
      " 18  rub_per_gb             3216 non-null   int64         \n",
      " 19  rub_per_message        3216 non-null   int64         \n",
      " 20  rub_per_minute         3216 non-null   int64         \n",
      "dtypes: datetime64[ns](2), float64(1), int32(5), int64(9), object(4)\n",
      "memory usage: 489.9+ KB\n"
     ]
    }
   ],
   "source": [
    "report.info()"
   ]
  },
  {
   "cell_type": "markdown",
   "metadata": {},
   "source": [
    "Так как минуты, сообщения и мегабайты вне пакета услуг тарифицируются отдельно, рассчитаем эти дополнительные расходы пользователей в столбцах `minutes_spent_extra` (для минут разговора), `messages_spent_extra` (для сообщений) и `internet_spent_extra` (для интернет-трафика). Каждый показатель будем понимать как разность между общим объемом услуги и лимита, включенного в пакет. Соответственно, если пользователь не превысил лимит - разность будет отрицательной, а если превысил - то положительной. Для расчета выручки нас не интересует точное число минут, сообщений или мегабайт, если оно не превысило лимит. Мы можем заменить все отрицательные значения разности на 0 методом `clip`, так как услуги, включенные в пакет, имеют фиксированную стоимость, которая отражается в ежемесячной плате."
   ]
  },
  {
   "cell_type": "code",
   "execution_count": 48,
   "metadata": {},
   "outputs": [],
   "source": [
    "report['minutes_spent_extra'] = (report['total_duration_min'] - report['minutes_included']).clip(lower=0)\n",
    "report['messages_spent_extra'] = (report['number_of_messages'] - report['messages_included']).clip(lower=0)\n",
    "report['internet_spent_extra'] = (report['total_mb_used'] - report['mb_per_month_included']).clip(lower=0)"
   ]
  },
  {
   "cell_type": "markdown",
   "metadata": {},
   "source": [
    "Далее необходимо умножить услуги вне пакета на соответствующую стоимость, чтобы рассчитать объемы выручки (вне пакета). Результаты сохраним в столбцах `calls_revenue_extra`, `messages_revenue_extra`, `internet_revenue_extra`. \n",
    "\n",
    "Данные из столбца `internet_spent_extra` нужно предварительно разделить на 1024, чтобы получить гигабайты и затем округлить вверх согласно политике компании и домножить на цену за гигабайт вне пакета."
   ]
  },
  {
   "cell_type": "code",
   "execution_count": 49,
   "metadata": {},
   "outputs": [],
   "source": [
    "report['calls_revenue_extra'] = report['minutes_spent_extra'] * report['rub_per_minute']\n",
    "report['messages_revenue_extra'] = report['messages_spent_extra'] * report['rub_per_message']\n",
    "report['internet_revenue_extra'] = ((report['internet_spent_extra'] / 1024).apply(np.ceil)) * report['rub_per_gb'] "
   ]
  },
  {
   "cell_type": "markdown",
   "metadata": {},
   "source": [
    "Найдем общую выручку по месяцам для каждого пользователя как сумму ежемесячной фиксированной платы и платы за звонки, смс и интернет вне пакета. Результаты сохраним в столбец `total_revenue`."
   ]
  },
  {
   "cell_type": "code",
   "execution_count": 50,
   "metadata": {},
   "outputs": [],
   "source": [
    "report['total_revenue'] = report['rub_monthly_fee'] + report['calls_revenue_extra'] + report['messages_revenue_extra'] + report['internet_revenue_extra'] "
   ]
  },
  {
   "cell_type": "code",
   "execution_count": 51,
   "metadata": {},
   "outputs": [
    {
     "data": {
      "text/html": [
       "<div>\n",
       "<style scoped>\n",
       "    .dataframe tbody tr th:only-of-type {\n",
       "        vertical-align: middle;\n",
       "    }\n",
       "\n",
       "    .dataframe tbody tr th {\n",
       "        vertical-align: top;\n",
       "    }\n",
       "\n",
       "    .dataframe thead th {\n",
       "        text-align: right;\n",
       "    }\n",
       "</style>\n",
       "<table border=\"1\" class=\"dataframe\">\n",
       "  <thead>\n",
       "    <tr style=\"text-align: right;\">\n",
       "      <th></th>\n",
       "      <th>user_id</th>\n",
       "      <th>month</th>\n",
       "      <th>number_of_calls</th>\n",
       "      <th>total_duration_min</th>\n",
       "      <th>number_of_messages</th>\n",
       "      <th>total_mb_used</th>\n",
       "      <th>number_of_sessions</th>\n",
       "      <th>age</th>\n",
       "      <th>churn_date</th>\n",
       "      <th>city</th>\n",
       "      <th>...</th>\n",
       "      <th>rub_per_gb</th>\n",
       "      <th>rub_per_message</th>\n",
       "      <th>rub_per_minute</th>\n",
       "      <th>minutes_spent_extra</th>\n",
       "      <th>messages_spent_extra</th>\n",
       "      <th>internet_spent_extra</th>\n",
       "      <th>calls_revenue_extra</th>\n",
       "      <th>messages_revenue_extra</th>\n",
       "      <th>internet_revenue_extra</th>\n",
       "      <th>total_revenue</th>\n",
       "    </tr>\n",
       "  </thead>\n",
       "  <tbody>\n",
       "    <tr>\n",
       "      <th>0</th>\n",
       "      <td>1000</td>\n",
       "      <td>5.0</td>\n",
       "      <td>17</td>\n",
       "      <td>159</td>\n",
       "      <td>22</td>\n",
       "      <td>2256</td>\n",
       "      <td>4</td>\n",
       "      <td>52</td>\n",
       "      <td>2099-01-01</td>\n",
       "      <td>Краснодар</td>\n",
       "      <td>...</td>\n",
       "      <td>150</td>\n",
       "      <td>1</td>\n",
       "      <td>1</td>\n",
       "      <td>0</td>\n",
       "      <td>0</td>\n",
       "      <td>0</td>\n",
       "      <td>0</td>\n",
       "      <td>0</td>\n",
       "      <td>0.0</td>\n",
       "      <td>1950.0</td>\n",
       "    </tr>\n",
       "    <tr>\n",
       "      <th>1</th>\n",
       "      <td>1000</td>\n",
       "      <td>6.0</td>\n",
       "      <td>28</td>\n",
       "      <td>172</td>\n",
       "      <td>60</td>\n",
       "      <td>23257</td>\n",
       "      <td>44</td>\n",
       "      <td>52</td>\n",
       "      <td>2099-01-01</td>\n",
       "      <td>Краснодар</td>\n",
       "      <td>...</td>\n",
       "      <td>150</td>\n",
       "      <td>1</td>\n",
       "      <td>1</td>\n",
       "      <td>0</td>\n",
       "      <td>0</td>\n",
       "      <td>0</td>\n",
       "      <td>0</td>\n",
       "      <td>0</td>\n",
       "      <td>0.0</td>\n",
       "      <td>1950.0</td>\n",
       "    </tr>\n",
       "    <tr>\n",
       "      <th>2</th>\n",
       "      <td>1000</td>\n",
       "      <td>7.0</td>\n",
       "      <td>41</td>\n",
       "      <td>340</td>\n",
       "      <td>75</td>\n",
       "      <td>14016</td>\n",
       "      <td>28</td>\n",
       "      <td>52</td>\n",
       "      <td>2099-01-01</td>\n",
       "      <td>Краснодар</td>\n",
       "      <td>...</td>\n",
       "      <td>150</td>\n",
       "      <td>1</td>\n",
       "      <td>1</td>\n",
       "      <td>0</td>\n",
       "      <td>0</td>\n",
       "      <td>0</td>\n",
       "      <td>0</td>\n",
       "      <td>0</td>\n",
       "      <td>0.0</td>\n",
       "      <td>1950.0</td>\n",
       "    </tr>\n",
       "    <tr>\n",
       "      <th>3</th>\n",
       "      <td>1000</td>\n",
       "      <td>8.0</td>\n",
       "      <td>42</td>\n",
       "      <td>408</td>\n",
       "      <td>81</td>\n",
       "      <td>14070</td>\n",
       "      <td>27</td>\n",
       "      <td>52</td>\n",
       "      <td>2099-01-01</td>\n",
       "      <td>Краснодар</td>\n",
       "      <td>...</td>\n",
       "      <td>150</td>\n",
       "      <td>1</td>\n",
       "      <td>1</td>\n",
       "      <td>0</td>\n",
       "      <td>0</td>\n",
       "      <td>0</td>\n",
       "      <td>0</td>\n",
       "      <td>0</td>\n",
       "      <td>0.0</td>\n",
       "      <td>1950.0</td>\n",
       "    </tr>\n",
       "    <tr>\n",
       "      <th>4</th>\n",
       "      <td>1000</td>\n",
       "      <td>9.0</td>\n",
       "      <td>46</td>\n",
       "      <td>466</td>\n",
       "      <td>57</td>\n",
       "      <td>14581</td>\n",
       "      <td>25</td>\n",
       "      <td>52</td>\n",
       "      <td>2099-01-01</td>\n",
       "      <td>Краснодар</td>\n",
       "      <td>...</td>\n",
       "      <td>150</td>\n",
       "      <td>1</td>\n",
       "      <td>1</td>\n",
       "      <td>0</td>\n",
       "      <td>0</td>\n",
       "      <td>0</td>\n",
       "      <td>0</td>\n",
       "      <td>0</td>\n",
       "      <td>0.0</td>\n",
       "      <td>1950.0</td>\n",
       "    </tr>\n",
       "  </tbody>\n",
       "</table>\n",
       "<p>5 rows × 28 columns</p>\n",
       "</div>"
      ],
      "text/plain": [
       "   user_id  month  number_of_calls  total_duration_min  number_of_messages  \\\n",
       "0     1000    5.0               17                 159                  22   \n",
       "1     1000    6.0               28                 172                  60   \n",
       "2     1000    7.0               41                 340                  75   \n",
       "3     1000    8.0               42                 408                  81   \n",
       "4     1000    9.0               46                 466                  57   \n",
       "\n",
       "   total_mb_used  number_of_sessions  age churn_date       city  ...  \\\n",
       "0           2256                   4   52 2099-01-01  Краснодар  ...   \n",
       "1          23257                  44   52 2099-01-01  Краснодар  ...   \n",
       "2          14016                  28   52 2099-01-01  Краснодар  ...   \n",
       "3          14070                  27   52 2099-01-01  Краснодар  ...   \n",
       "4          14581                  25   52 2099-01-01  Краснодар  ...   \n",
       "\n",
       "  rub_per_gb rub_per_message rub_per_minute minutes_spent_extra  \\\n",
       "0        150               1              1                   0   \n",
       "1        150               1              1                   0   \n",
       "2        150               1              1                   0   \n",
       "3        150               1              1                   0   \n",
       "4        150               1              1                   0   \n",
       "\n",
       "   messages_spent_extra  internet_spent_extra  calls_revenue_extra  \\\n",
       "0                     0                     0                    0   \n",
       "1                     0                     0                    0   \n",
       "2                     0                     0                    0   \n",
       "3                     0                     0                    0   \n",
       "4                     0                     0                    0   \n",
       "\n",
       "   messages_revenue_extra  internet_revenue_extra  total_revenue  \n",
       "0                       0                     0.0         1950.0  \n",
       "1                       0                     0.0         1950.0  \n",
       "2                       0                     0.0         1950.0  \n",
       "3                       0                     0.0         1950.0  \n",
       "4                       0                     0.0         1950.0  \n",
       "\n",
       "[5 rows x 28 columns]"
      ]
     },
     "execution_count": 51,
     "metadata": {},
     "output_type": "execute_result"
    }
   ],
   "source": [
    "report.head()"
   ]
  },
  {
   "cell_type": "markdown",
   "metadata": {},
   "source": [
    "[Вернуться к оглавлению](#introduction)"
   ]
  },
  {
   "cell_type": "markdown",
   "metadata": {},
   "source": [
    "## 3. Исследовательский анализ данных<a name=\"paragraph3\"></a>"
   ]
  },
  {
   "cell_type": "markdown",
   "metadata": {},
   "source": [
    "### 3.1 Рассмотрим длительность разговора у абонентов на разных тарифах<a name=\"subparagraph3_1\"></a>"
   ]
  },
  {
   "cell_type": "markdown",
   "metadata": {},
   "source": [
    "* **Среднее значение длительности разговора по месяцам**"
   ]
  },
  {
   "cell_type": "code",
   "execution_count": 52,
   "metadata": {},
   "outputs": [
    {
     "data": {
      "text/html": [
       "<div>\n",
       "<style scoped>\n",
       "    .dataframe tbody tr th:only-of-type {\n",
       "        vertical-align: middle;\n",
       "    }\n",
       "\n",
       "    .dataframe tbody tr th {\n",
       "        vertical-align: top;\n",
       "    }\n",
       "\n",
       "    .dataframe thead th {\n",
       "        text-align: right;\n",
       "    }\n",
       "</style>\n",
       "<table border=\"1\" class=\"dataframe\">\n",
       "  <thead>\n",
       "    <tr style=\"text-align: right;\">\n",
       "      <th>tariff</th>\n",
       "      <th>smart</th>\n",
       "      <th>ultra</th>\n",
       "    </tr>\n",
       "  </thead>\n",
       "  <tbody>\n",
       "    <tr>\n",
       "      <th>count</th>\n",
       "      <td>12.000000</td>\n",
       "      <td>12.000000</td>\n",
       "    </tr>\n",
       "    <tr>\n",
       "      <th>mean</th>\n",
       "      <td>386.760499</td>\n",
       "      <td>495.934310</td>\n",
       "    </tr>\n",
       "    <tr>\n",
       "      <th>std</th>\n",
       "      <td>72.262004</td>\n",
       "      <td>77.450072</td>\n",
       "    </tr>\n",
       "    <tr>\n",
       "      <th>min</th>\n",
       "      <td>203.852941</td>\n",
       "      <td>297.125000</td>\n",
       "    </tr>\n",
       "    <tr>\n",
       "      <th>25%</th>\n",
       "      <td>382.304759</td>\n",
       "      <td>474.281331</td>\n",
       "    </tr>\n",
       "    <tr>\n",
       "      <th>50%</th>\n",
       "      <td>401.996739</td>\n",
       "      <td>510.552030</td>\n",
       "    </tr>\n",
       "    <tr>\n",
       "      <th>75%</th>\n",
       "      <td>426.754925</td>\n",
       "      <td>542.483250</td>\n",
       "    </tr>\n",
       "    <tr>\n",
       "      <th>max</th>\n",
       "      <td>478.560831</td>\n",
       "      <td>592.805755</td>\n",
       "    </tr>\n",
       "  </tbody>\n",
       "</table>\n",
       "</div>"
      ],
      "text/plain": [
       "tariff       smart       ultra\n",
       "count    12.000000   12.000000\n",
       "mean    386.760499  495.934310\n",
       "std      72.262004   77.450072\n",
       "min     203.852941  297.125000\n",
       "25%     382.304759  474.281331\n",
       "50%     401.996739  510.552030\n",
       "75%     426.754925  542.483250\n",
       "max     478.560831  592.805755"
      ]
     },
     "execution_count": 52,
     "metadata": {},
     "output_type": "execute_result"
    }
   ],
   "source": [
    "report.pivot_table(index='tariff', columns='month', values='total_duration_min', aggfunc='mean').transpose().describe()"
   ]
  },
  {
   "cell_type": "code",
   "execution_count": 53,
   "metadata": {},
   "outputs": [
    {
     "data": {
      "image/png": "[encoded data removed]",
      "text/plain": [
       "<Figure size 864x432 with 1 Axes>"
      ]
     },
     "metadata": {
      "needs_background": "light"
     },
     "output_type": "display_data"
    }
   ],
   "source": [
    "(report\n",
    " .pivot_table(index='tariff', columns='month', values='total_duration_min', aggfunc='mean')\n",
    " .transpose()\n",
    " .plot(kind='box'))\n",
    "plt.title('Диаграмма размаха средней длительности звонков по двум тарифам')\n",
    "plt.xlabel('Наименование тарифа')\n",
    "plt.ylabel('Среднемесячная длительность разговора в минутах')\n",
    "plt.grid(color='grey', axis='y', alpha=0.2)\n",
    "plt.show()"
   ]
  },
  {
   "cell_type": "code",
   "execution_count": 54,
   "metadata": {},
   "outputs": [
    {
     "data": {
      "image/png": "[encoded data removed]",
      "text/plain": [
       "<Figure size 864x432 with 1 Axes>"
      ]
     },
     "metadata": {
      "needs_background": "light"
     },
     "output_type": "display_data"
    }
   ],
   "source": [
    "(report.pivot_table(index='tariff', columns='month', values='total_duration_min', aggfunc='mean')\n",
    " .transpose()\n",
    " .plot(kind='hist', alpha=0.7))\n",
    "plt.title('Гистограмма распределения средней длительности звонков в месяц по двум тарифам')\n",
    "plt.xlabel('Среднемесячная длительность разговора в минутах')\n",
    "plt.ylabel('Частота')\n",
    "plt.grid(color='grey', axis='y', alpha=0.2)\n",
    "plt.show()"
   ]
  },
  {
   "cell_type": "markdown",
   "metadata": {},
   "source": [
    "**Вывод:** среднемесячная длительность разговоров у абонентов двух тарифов значительно отличается. Клиенты, выбирающие тариф Ультра, разговаривают дольше, чем те, кто выбирает тариф Смарт. Это явно прослеживается не только на средних и медианах, но также на крайних значениях - минимумах и максимумах. \n",
    "* *Средняя длительность разговоров* - Smart: **386.76 мин.**, Ultra: **495.93 мин.**\n",
    "* *Медианное значение* - Smart: **402 мин.**, Ultra: **510.6 мин.**\n",
    "* *Минимальная* среднемесячная длительность разговоров - Smart: **203.85 мин.**, Ultra: **297.13 мин.**\n",
    "* *Максимальная* среднемесячная длительность разговоров - Smart: **478.56 мин.**, Ultra: **592.81 мин.**"
   ]
  },
  {
   "cell_type": "code",
   "execution_count": 55,
   "metadata": {
    "scrolled": false
   },
   "outputs": [
    {
     "data": {
      "image/png": "[encoded data removed]",
      "text/plain": [
       "<Figure size 864x432 with 1 Axes>"
      ]
     },
     "metadata": {
      "needs_background": "light"
     },
     "output_type": "display_data"
    }
   ],
   "source": [
    "(report\n",
    " .pivot_table(index='tariff', columns='month', values='total_duration_min', aggfunc='mean')\n",
    " .transpose()\n",
    " .plot(kind='bar', rot='0'))\n",
    "plt.title('Ежемесячная динамика средней длительности звонков по двум тарифам')\n",
    "plt.xlabel('Месяц')\n",
    "plt.ylabel('Длительность звонков в минутах')\n",
    "plt.xticks(np.arange(12),(['Январь', 'Февраль', 'Март', 'Апрель', 'Май', 'Июнь', 'Июль', 'Август', 'Сентябрь', 'Октябрь', 'Ноябрь', 'Декабрь']))\n",
    "plt.grid(color='grey', axis='y', alpha=0.2)\n",
    "plt.show()"
   ]
  },
  {
   "cell_type": "markdown",
   "metadata": {},
   "source": [
    "**Вывод:** если посмотреть на то, как среднемесячная длительность разговоров менялась в течение года, то можно увидеть, что с января по декабрь 2018 г. клиенты на обоих тарифах в среднем стали разговаривать дольше. \n",
    "\n",
    "* Во все месяцы клиенты **на тарифе Ультра в среднем разговаривали дольше, чем на тарифе Смарт**. Единственное исключение - *февраль* (средняя длительность разговоров на обоих тарифах примерно была равна) \n",
    "\n",
    "* На тарифе *Смарт* **длительность разговоров выросла в 2.35 раза** за исследуемый период (с 203.85 до 478.56 минут в месяц). На тарифе *Ультра* длительность разговоров выросла намного слабее - **всего в 1.38 раз** (с 428.11 до 592.81 минут в месяц).\n",
    "\n",
    "* Также стоит отметить, что **средняя длительность звонков на тарифе Смарт росла не только значительно быстрее, но и намного плавнее** по сравнению с тарифом Ультра. На тарифе Ультра более выражены колебания средней длительности разговоров.\n",
    "\n",
    "* Кроме того, любопытно, что абоненты тарифа **Смарт в среднем всегда укладываются в лимит 500 минут** - ни в один месяц превышения не произошло (однако с подобной положительной динамикой превышение лимита возможно в будущем). А **абоненты тарифа Ультра** платят за 3000 минут, включенных в пакет, но при этом в среднем никогда даже близко **не подбираются к лимиту** - для большинства клиентов на этом тарифе этот объем минут в пакете избыточен."
   ]
  },
  {
   "cell_type": "markdown",
   "metadata": {},
   "source": [
    "* **Дисперсия и стандартное отклонение длительности разговора по месяцам**"
   ]
  },
  {
   "cell_type": "code",
   "execution_count": 56,
   "metadata": {},
   "outputs": [
    {
     "data": {
      "image/png": "[encoded data removed]",
      "text/plain": [
       "<Figure size 864x432 with 1 Axes>"
      ]
     },
     "metadata": {
      "needs_background": "light"
     },
     "output_type": "display_data"
    }
   ],
   "source": [
    "(report\n",
    " .pivot_table(index='tariff', columns='month', values='total_duration_min', aggfunc='var')\n",
    " .transpose()\n",
    " .plot(kind='bar', rot='0'))\n",
    "plt.title('Дисперсия длительности звонков по месяцам')\n",
    "plt.xlabel('Месяц')\n",
    "plt.ylabel('Дисперсия')\n",
    "plt.xticks(np.arange(12),(['Январь', 'Февраль', 'Март', 'Апрель', 'Май', 'Июнь', 'Июль', 'Август', 'Сентябрь', 'Октябрь', 'Ноябрь', 'Декабрь']))\n",
    "plt.grid(color='grey', axis='y', alpha=0.2)\n",
    "plt.show()"
   ]
  },
  {
   "cell_type": "code",
   "execution_count": 57,
   "metadata": {},
   "outputs": [
    {
     "data": {
      "image/png": "[encoded data removed]",
      "text/plain": [
       "<Figure size 864x432 with 1 Axes>"
      ]
     },
     "metadata": {
      "needs_background": "light"
     },
     "output_type": "display_data"
    }
   ],
   "source": [
    "(report.pivot_table(index='tariff', columns='month', values='total_duration_min', aggfunc='var')\n",
    " .transpose()\n",
    " .plot(kind='hist', alpha=0.7, bins=12))\n",
    "plt.title('Гистограмма дисперсии звонков по двум тарифам')\n",
    "plt.xlabel('Месячная дисперсия')\n",
    "plt.ylabel('Частота')\n",
    "plt.grid(color='grey', axis='y', alpha=0.2)\n",
    "plt.show()"
   ]
  },
  {
   "cell_type": "code",
   "execution_count": 58,
   "metadata": {},
   "outputs": [
    {
     "data": {
      "image/png": "[encoded data removed]",
      "text/plain": [
       "<Figure size 864x432 with 1 Axes>"
      ]
     },
     "metadata": {
      "needs_background": "light"
     },
     "output_type": "display_data"
    }
   ],
   "source": [
    "(report\n",
    " .pivot_table(index='tariff', columns='month', values='total_duration_min', aggfunc='std')\n",
    " .transpose()\n",
    " .plot(kind='bar', rot='0'))\n",
    "plt.title('Стандартное отклонение длительности звонков по месяцам')\n",
    "plt.xlabel('Месяц')\n",
    "plt.ylabel('Стандартное отклонение')\n",
    "plt.xticks(np.arange(12),(['Январь', 'Февраль', 'Март', 'Апрель', 'Май', 'Июнь', 'Июль', 'Август', 'Сентябрь', 'Октябрь', 'Ноябрь', 'Декабрь']))\n",
    "plt.grid(color='grey', axis='y', alpha=0.2)\n",
    "plt.show()"
   ]
  },
  {
   "cell_type": "code",
   "execution_count": 59,
   "metadata": {},
   "outputs": [
    {
     "data": {
      "image/png": "[encoded data removed]",
      "text/plain": [
       "<Figure size 864x432 with 1 Axes>"
      ]
     },
     "metadata": {
      "needs_background": "light"
     },
     "output_type": "display_data"
    }
   ],
   "source": [
    "(report.pivot_table(index='tariff', columns='month', values='total_duration_min', aggfunc='std')\n",
    " .transpose()\n",
    " .plot(kind='hist', alpha=0.7))\n",
    "plt.title('Гистограмма стандартного отклонения звонков по двум тарифам')\n",
    "plt.xlabel('Длительность в минутах')\n",
    "plt.ylabel('Частота')\n",
    "plt.grid(color='grey', axis='y', alpha=0.2)\n",
    "plt.show()"
   ]
  },
  {
   "cell_type": "markdown",
   "metadata": {},
   "source": [
    "**Вывод:** в предыдущей секции было обращено внимание на то, что рост длительности разговоров на тарифе Смарт более плавный, а на тарифе Ультра - более резкий и нестабильный. Из выше приведенных диаграмм становится очевидно, что **дисперсия и**, соответственно, **стандартное отклонение среднемесячной длительности разговоров на тарифе Ультра гораздо сильнее, а их колебания из месяца в месяц - гораздо более выражены**, что обуславливает большую вариативность средней длительности разговоров у абонентов Ультры, по сравнению с абонентами на тарифе Смарт."
   ]
  },
  {
   "cell_type": "markdown",
   "metadata": {},
   "source": [
    "### 3.2 Рассмотрим количество сообщений на разных тарифах<a name=\"subparagraph3_2\"></a>"
   ]
  },
  {
   "cell_type": "markdown",
   "metadata": {},
   "source": [
    "* **Среднее количество отправленных сообщений по месяцам**"
   ]
  },
  {
   "cell_type": "code",
   "execution_count": 60,
   "metadata": {},
   "outputs": [
    {
     "data": {
      "text/html": [
       "<div>\n",
       "<style scoped>\n",
       "    .dataframe tbody tr th:only-of-type {\n",
       "        vertical-align: middle;\n",
       "    }\n",
       "\n",
       "    .dataframe tbody tr th {\n",
       "        vertical-align: top;\n",
       "    }\n",
       "\n",
       "    .dataframe thead th {\n",
       "        text-align: right;\n",
       "    }\n",
       "</style>\n",
       "<table border=\"1\" class=\"dataframe\">\n",
       "  <thead>\n",
       "    <tr style=\"text-align: right;\">\n",
       "      <th>tariff</th>\n",
       "      <th>smart</th>\n",
       "      <th>ultra</th>\n",
       "    </tr>\n",
       "  </thead>\n",
       "  <tbody>\n",
       "    <tr>\n",
       "      <th>count</th>\n",
       "      <td>12.000000</td>\n",
       "      <td>12.000000</td>\n",
       "    </tr>\n",
       "    <tr>\n",
       "      <th>mean</th>\n",
       "      <td>31.413211</td>\n",
       "      <td>43.714983</td>\n",
       "    </tr>\n",
       "    <tr>\n",
       "      <th>std</th>\n",
       "      <td>5.103413</td>\n",
       "      <td>12.320470</td>\n",
       "    </tr>\n",
       "    <tr>\n",
       "      <th>min</th>\n",
       "      <td>18.235294</td>\n",
       "      <td>21.958333</td>\n",
       "    </tr>\n",
       "    <tr>\n",
       "      <th>25%</th>\n",
       "      <td>31.578125</td>\n",
       "      <td>33.407658</td>\n",
       "    </tr>\n",
       "    <tr>\n",
       "      <th>50%</th>\n",
       "      <td>33.638380</td>\n",
       "      <td>45.082721</td>\n",
       "    </tr>\n",
       "    <tr>\n",
       "      <th>75%</th>\n",
       "      <td>33.767242</td>\n",
       "      <td>53.162979</td>\n",
       "    </tr>\n",
       "    <tr>\n",
       "      <th>max</th>\n",
       "      <td>35.994065</td>\n",
       "      <td>60.611511</td>\n",
       "    </tr>\n",
       "  </tbody>\n",
       "</table>\n",
       "</div>"
      ],
      "text/plain": [
       "tariff      smart      ultra\n",
       "count   12.000000  12.000000\n",
       "mean    31.413211  43.714983\n",
       "std      5.103413  12.320470\n",
       "min     18.235294  21.958333\n",
       "25%     31.578125  33.407658\n",
       "50%     33.638380  45.082721\n",
       "75%     33.767242  53.162979\n",
       "max     35.994065  60.611511"
      ]
     },
     "execution_count": 60,
     "metadata": {},
     "output_type": "execute_result"
    }
   ],
   "source": [
    "report.pivot_table(index='tariff', columns='month', values='number_of_messages', aggfunc='mean').transpose().describe()"
   ]
  },
  {
   "cell_type": "code",
   "execution_count": 61,
   "metadata": {},
   "outputs": [
    {
     "data": {
      "image/png": "[encoded data removed]",
      "text/plain": [
       "<Figure size 864x432 with 1 Axes>"
      ]
     },
     "metadata": {
      "needs_background": "light"
     },
     "output_type": "display_data"
    }
   ],
   "source": [
    "(report\n",
    " .pivot_table(index='tariff', columns='month', values='number_of_messages', aggfunc='mean')\n",
    " .transpose()\n",
    " .plot(kind='box'))\n",
    "plt.title('Диаграмма размаха среднего количества отправленных сообщений по двум тарифам')\n",
    "plt.xlabel('Наименование тарифа')\n",
    "plt.ylabel('Количество сообщений')\n",
    "plt.grid(color='grey', axis='y', alpha=0.2)\n",
    "plt.show()"
   ]
  },
  {
   "cell_type": "code",
   "execution_count": 62,
   "metadata": {},
   "outputs": [
    {
     "data": {
      "image/png": "[encoded data removed]",
      "text/plain": [
       "<Figure size 864x432 with 1 Axes>"
      ]
     },
     "metadata": {
      "needs_background": "light"
     },
     "output_type": "display_data"
    }
   ],
   "source": [
    "(report.pivot_table(index='tariff', columns='month', values='number_of_messages', aggfunc='mean')\n",
    " .transpose()\n",
    " .plot(kind='hist', alpha=0.7))\n",
    "plt.title('Гистограмма распределения среднего количества сообщений в месяц по двум тарифам')\n",
    "plt.xlabel('Количество сообщений')\n",
    "plt.ylabel('Частота')\n",
    "plt.grid(color='grey', axis='y', alpha=0.2)\n",
    "plt.show()"
   ]
  },
  {
   "cell_type": "markdown",
   "metadata": {},
   "source": [
    "**Вывод:** среднемесячное количество отправленных сообщений у абонентов двух тарифов различается. Клиенты, выбирающие тариф Ультра, отправляют значительно больше текстовых сообщений, чем те, кто выбирает тариф Смарт. Это очевидно, исходя из средних и медианных значений, а также минимумов и максимумов. Размах среднемесячного количества сообщений гораздо выше на тарифе Ультра.  \n",
    "* *Среднее* количество сообщений в месяц - Smart: ~**31**, Ultra: ~**44**\n",
    "* *Медианное* значение - Smart: ~**34**, Ultra: ~**45**\n",
    "* *Минимальное* количество сообщений - Smart: ~**18**, Ultra: ~**22**\n",
    "* *Максимальное* количество сообщений - Smart: ~**36**, Ultra: ~**61**"
   ]
  },
  {
   "cell_type": "code",
   "execution_count": 63,
   "metadata": {
    "scrolled": false
   },
   "outputs": [
    {
     "data": {
      "image/png": "[encoded data removed]",
      "text/plain": [
       "<Figure size 864x432 with 1 Axes>"
      ]
     },
     "metadata": {
      "needs_background": "light"
     },
     "output_type": "display_data"
    }
   ],
   "source": [
    "(report\n",
    " .pivot_table(index='tariff', columns='month', values='number_of_messages', aggfunc='mean')\n",
    " .transpose()\n",
    " .plot(kind='bar', rot='0'))\n",
    "plt.title('Ежемесячная динамика среднего количества сообщений по двум тарифам')\n",
    "plt.xlabel('Месяц')\n",
    "plt.ylabel('Количество сообщений')\n",
    "plt.xticks(np.arange(12),(['Январь', 'Февраль', 'Март', 'Апрель', 'Май', 'Июнь', 'Июль', 'Август', 'Сентябрь', 'Октябрь', 'Ноябрь', 'Декабрь']))\n",
    "plt.grid(color='grey', axis='y', alpha=0.2)\n",
    "plt.show()"
   ]
  },
  {
   "cell_type": "markdown",
   "metadata": {},
   "source": [
    "**Вывод:** с января по декабрь 2018 г. клиенты на обоих тарифах в среднем стали отправлять больше сообщений. \n",
    "\n",
    "* Во все месяцы кроме февраля, клиенты **на тарифе Ультра в среднем отправляли больше сообщений, чем на тарифе Смарт**. В феврале с тарифа Смарт отправили несколько больше сообщений.\n",
    "\n",
    "* На тарифе *Смарт* **среднее количество отправленных сообщений выросло в 2 раза** за исследуемый период (с 18 до 36 в месяц). На тарифе *Ультра* рост с начала года немного слабее - **в 1.8 раз** (с 34 до 61 в месяц).\n",
    "\n",
    "* Следует отметить, что несмотря на более интенсивный и плавный рост числа сообщений с начала года **на тарифе Смарт, дальнейшая тенденция к росту не просматривается** (наблюдается некоторая стагнация в течение года). Это связано с общим падением популярности данной услуги и развитием приложений, которые работают через Интернет. В отличие от Смарта, **на тарифе Ультра положительная тенденция более очевидна, однако она также более хаотична.**\n",
    "\n",
    "* Абоненты тарифа **Смарт в среднем всегда укладываются в лимит 50 сообщений** - ни в один месяц превышения не произошло, и этого не стоит ожидать, учитывая тенденцию к стагнации. **Абоненты тарифа Ультра** платят за 1000 сообщений, включенных в пакет, но при этом в среднем никогда не отправляют столько (в среднем максимум 61 в месяц). Таким образом, для большинства клиентов на этом тарифе количество включенных сообщений в пакет избыточно."
   ]
  },
  {
   "cell_type": "markdown",
   "metadata": {},
   "source": [
    "* **Дисперсия и стандартное отклонение среднего количества отправленных сообщений по месяцам**"
   ]
  },
  {
   "cell_type": "code",
   "execution_count": 64,
   "metadata": {},
   "outputs": [
    {
     "data": {
      "image/png": "[encoded data removed]",
      "text/plain": [
       "<Figure size 864x432 with 1 Axes>"
      ]
     },
     "metadata": {
      "needs_background": "light"
     },
     "output_type": "display_data"
    }
   ],
   "source": [
    "(report\n",
    " .pivot_table(index='tariff', columns='month', values='number_of_messages', aggfunc='var')\n",
    " .transpose()\n",
    " .plot(kind='bar', rot='0'))\n",
    "plt.title('Дисперсия отправленных сообщений по месяцам')\n",
    "plt.xlabel('Месяц')\n",
    "plt.ylabel('Значение дисперсии')\n",
    "plt.xticks(np.arange(12),(['Январь', 'Февраль', 'Март', 'Апрель', 'Май', 'Июнь', 'Июль', 'Август', 'Сентябрь', 'Октябрь', 'Ноябрь', 'Декабрь']))\n",
    "plt.grid(color='grey', axis='y', alpha=0.2)\n",
    "plt.show()"
   ]
  },
  {
   "cell_type": "code",
   "execution_count": 65,
   "metadata": {},
   "outputs": [
    {
     "data": {
      "image/png": "[encoded data removed]",
      "text/plain": [
       "<Figure size 864x432 with 1 Axes>"
      ]
     },
     "metadata": {
      "needs_background": "light"
     },
     "output_type": "display_data"
    }
   ],
   "source": [
    "(report.pivot_table(index='tariff', columns='month', values='number_of_messages', aggfunc='var')\n",
    " .transpose()\n",
    " .plot(kind='hist', alpha=0.7, bins=12))\n",
    "plt.title('Гистограмма дисперсии отправленных сообщений по двум тарифам')\n",
    "plt.xlabel('Месячная дисперсия')\n",
    "plt.ylabel('Частота')\n",
    "plt.grid(color='grey', axis='y', alpha=0.2)\n",
    "plt.show()"
   ]
  },
  {
   "cell_type": "code",
   "execution_count": 66,
   "metadata": {},
   "outputs": [
    {
     "data": {
      "image/png": "[encoded data removed]",
      "text/plain": [
       "<Figure size 864x432 with 1 Axes>"
      ]
     },
     "metadata": {
      "needs_background": "light"
     },
     "output_type": "display_data"
    }
   ],
   "source": [
    "(report\n",
    " .pivot_table(index='tariff', columns='month', values='number_of_messages', aggfunc='std')\n",
    " .transpose()\n",
    " .plot(kind='bar', rot='0'))\n",
    "plt.title('Стандартное отклонение отправленных сообщений по месяцам')\n",
    "plt.xlabel('Месяц')\n",
    "plt.ylabel('Стандартное отклонение')\n",
    "plt.xticks(np.arange(12),(['Январь', 'Февраль', 'Март', 'Апрель', 'Май', 'Июнь', 'Июль', 'Август', 'Сентябрь', 'Октябрь', 'Ноябрь', 'Декабрь']))\n",
    "plt.grid(color='grey', axis='y', alpha=0.2)\n",
    "plt.show()"
   ]
  },
  {
   "cell_type": "code",
   "execution_count": 67,
   "metadata": {},
   "outputs": [
    {
     "data": {
      "image/png": "[encoded data removed]",
      "text/plain": [
       "<Figure size 864x432 with 1 Axes>"
      ]
     },
     "metadata": {
      "needs_background": "light"
     },
     "output_type": "display_data"
    }
   ],
   "source": [
    "(report.pivot_table(index='tariff', columns='month', values='number_of_messages', aggfunc='std')\n",
    " .transpose()\n",
    " .plot(kind='hist', alpha=0.7))\n",
    "plt.title('Гистограмма стандартного отклонения отправленных сообщений по двум тарифам')\n",
    "plt.xlabel('Стандартное отклонение')\n",
    "plt.ylabel('Частота')\n",
    "plt.grid(color='grey', axis='y', alpha=0.2)\n",
    "plt.show()"
   ]
  },
  {
   "cell_type": "markdown",
   "metadata": {},
   "source": [
    "**Вывод:** в предыдущей секции было обращено внимание на более хаотичную и резкую динамику изменения числа отправленных сообщений на тарифе Ультра. Графики выше подтверждают, что **дисперсия и стандартное отклонение числа сообщений на тарифе Ультра гораздо сильнее, и дисперсия имеет склонность к увеличению**, что обуславливает большую вариативность на тарифе Ультра, по сравнению с тарифом Смарт."
   ]
  },
  {
   "cell_type": "markdown",
   "metadata": {},
   "source": [
    "### 3.3 Рассмотрим объем использованного интернет-трафика на разных тарифах<a name=\"subparagraph3_3\"></a>"
   ]
  },
  {
   "cell_type": "markdown",
   "metadata": {},
   "source": [
    "* **Средний объем трафика по месяцам**"
   ]
  },
  {
   "cell_type": "code",
   "execution_count": 68,
   "metadata": {},
   "outputs": [
    {
     "data": {
      "text/html": [
       "<div>\n",
       "<style scoped>\n",
       "    .dataframe tbody tr th:only-of-type {\n",
       "        vertical-align: middle;\n",
       "    }\n",
       "\n",
       "    .dataframe tbody tr th {\n",
       "        vertical-align: top;\n",
       "    }\n",
       "\n",
       "    .dataframe thead th {\n",
       "        text-align: right;\n",
       "    }\n",
       "</style>\n",
       "<table border=\"1\" class=\"dataframe\">\n",
       "  <thead>\n",
       "    <tr style=\"text-align: right;\">\n",
       "      <th>tariff</th>\n",
       "      <th>smart</th>\n",
       "      <th>ultra</th>\n",
       "    </tr>\n",
       "  </thead>\n",
       "  <tbody>\n",
       "    <tr>\n",
       "      <th>count</th>\n",
       "      <td>12.000000</td>\n",
       "      <td>12.000000</td>\n",
       "    </tr>\n",
       "    <tr>\n",
       "      <th>mean</th>\n",
       "      <td>15077.690651</td>\n",
       "      <td>18222.784561</td>\n",
       "    </tr>\n",
       "    <tr>\n",
       "      <th>std</th>\n",
       "      <td>2674.737763</td>\n",
       "      <td>2988.581755</td>\n",
       "    </tr>\n",
       "    <tr>\n",
       "      <th>min</th>\n",
       "      <td>8524.441176</td>\n",
       "      <td>11786.958333</td>\n",
       "    </tr>\n",
       "    <tr>\n",
       "      <th>25%</th>\n",
       "      <td>14712.763393</td>\n",
       "      <td>17374.929730</td>\n",
       "    </tr>\n",
       "    <tr>\n",
       "      <th>50%</th>\n",
       "      <td>15819.983437</td>\n",
       "      <td>19301.701363</td>\n",
       "    </tr>\n",
       "    <tr>\n",
       "      <th>75%</th>\n",
       "      <td>16668.772008</td>\n",
       "      <td>19869.952554</td>\n",
       "    </tr>\n",
       "    <tr>\n",
       "      <th>max</th>\n",
       "      <td>18136.833828</td>\n",
       "      <td>21813.589928</td>\n",
       "    </tr>\n",
       "  </tbody>\n",
       "</table>\n",
       "</div>"
      ],
      "text/plain": [
       "tariff         smart         ultra\n",
       "count      12.000000     12.000000\n",
       "mean    15077.690651  18222.784561\n",
       "std      2674.737763   2988.581755\n",
       "min      8524.441176  11786.958333\n",
       "25%     14712.763393  17374.929730\n",
       "50%     15819.983437  19301.701363\n",
       "75%     16668.772008  19869.952554\n",
       "max     18136.833828  21813.589928"
      ]
     },
     "execution_count": 68,
     "metadata": {},
     "output_type": "execute_result"
    }
   ],
   "source": [
    "report.pivot_table(index='tariff', columns='month', values='total_mb_used', aggfunc='mean').transpose().describe()"
   ]
  },
  {
   "cell_type": "code",
   "execution_count": 69,
   "metadata": {},
   "outputs": [
    {
     "data": {
      "image/png": "[encoded data removed]",
      "text/plain": [
       "<Figure size 864x432 with 1 Axes>"
      ]
     },
     "metadata": {
      "needs_background": "light"
     },
     "output_type": "display_data"
    }
   ],
   "source": [
    "(report\n",
    " .pivot_table(index='tariff', columns='month', values='total_mb_used', aggfunc='mean')\n",
    " .transpose()\n",
    " .plot(kind='box'))\n",
    "plt.title('Диаграмма размаха потребленного трафика по двум тарифам')\n",
    "plt.xlabel('Наименование тарифа')\n",
    "plt.ylabel('Объем интернет-трафика в Мб')\n",
    "plt.grid(color='grey', axis='y', alpha=0.2)\n",
    "plt.show()"
   ]
  },
  {
   "cell_type": "code",
   "execution_count": 70,
   "metadata": {},
   "outputs": [
    {
     "data": {
      "image/png": "[encoded data removed]",
      "text/plain": [
       "<Figure size 864x432 with 1 Axes>"
      ]
     },
     "metadata": {
      "needs_background": "light"
     },
     "output_type": "display_data"
    }
   ],
   "source": [
    "(report.pivot_table(index='tariff', columns='month', values='total_mb_used', aggfunc='mean')\n",
    " .transpose()\n",
    " .plot(kind='hist', alpha=0.7))\n",
    "plt.title('Гистограмма распределения среднего объема трафика в месяц по двум тарифам')\n",
    "plt.xlabel('Средний объем трафика в Мб')\n",
    "plt.ylabel('Частота')\n",
    "plt.grid(color='grey', axis='y', alpha=0.2)\n",
    "plt.show()"
   ]
  },
  {
   "cell_type": "markdown",
   "metadata": {},
   "source": [
    "**Вывод:** среднемесячный объем интернет-трафика у абонентов двух тарифов различается, однако это различие не существенно. Тем не менее, клиенты, выбирающие тариф Ультра, используют несколько больше трафика, что обусловлено большим лимитом в 30 Гб (30720 Мб) - в два раза превышающим лимит на тарифе Смарт (15 Гб или 15360 Мб).\n",
    "* *Средний объем* трафика в месяц - Smart: **15077.69 Мб**, Ultra: **18222.78 Мб**\n",
    "* *Медиана* - Smart: **15819.98 Мб**, Ultra: **19301.7 Мб**\n",
    "* *Минимум* - Smart: **8524.44 Мб**, Ultra: **11786.96 Мб**\n",
    "* *Максимум* - Smart: **18136.83 Мб**, Ultra: **21813.59 Мб**"
   ]
  },
  {
   "cell_type": "code",
   "execution_count": 71,
   "metadata": {
    "scrolled": false
   },
   "outputs": [
    {
     "data": {
      "image/png": "[encoded data removed]",
      "text/plain": [
       "<Figure size 864x432 with 1 Axes>"
      ]
     },
     "metadata": {
      "needs_background": "light"
     },
     "output_type": "display_data"
    }
   ],
   "source": [
    "(report\n",
    " .pivot_table(index='tariff', columns='month', values='total_mb_used', aggfunc='mean')\n",
    " .transpose()\n",
    " .plot(kind='bar', rot='0'))\n",
    "plt.title('Ежемесячная динамика среднего объема трафика по двум тарифам')\n",
    "plt.xlabel('Месяц')\n",
    "plt.ylabel('Объем трафика')\n",
    "plt.xticks(np.arange(12),(['Январь', 'Февраль', 'Март', 'Апрель', 'Май', 'Июнь', 'Июль', 'Август', 'Сентябрь', 'Октябрь', 'Ноябрь', 'Декабрь']))\n",
    "plt.grid(color='grey', axis='y', alpha=0.2)\n",
    "plt.show()"
   ]
  },
  {
   "cell_type": "markdown",
   "metadata": {},
   "source": [
    "**Вывод:** с января по декабрь 2018 г. среднемесячные объемы интернет-трафика выросли на обоих тарифах.\n",
    "* Во все месяцы, клиенты **на тарифе Ультра в среднем потребляли несколько больше трафика, чем на тарифе Смарт**. В феврале различие в потреблении было наименьшим.\n",
    "\n",
    "* На тарифе *Смарт* **средний объем трафика вырос в 2.13 раза** за исследуемый период (с 8524.44 до 18136.83 Мб в месяц). На тарифе *Ультра* рост с начала года слабее - **в 1.66 раз** (с 13153.56 до 21813.59 Мб).\n",
    "\n",
    "* Рост **на тарифе Смарт более плавный и стабильный**, чем на тарифе Ультра.\n",
    "\n",
    "* Абоненты тарифа **Смарт часто превышают лимит 15 Гб** - превышение в среднем произошло в 8 месяцах 2018 г. с мая по декабрь. На основании быстрого роста можно заключить, что клиентам Смарт не хватает существующего лимита, и они все чаще вынуждены покупать дополнительные гигабайты сверх пакета, которые тарифицируются отдельно. Абоненты тарифа **Ультра, напротив, не превышают свой лимит 30 Гб** - это говорит о том, что им комфортны существующие пакетные ограничения трафика."
   ]
  },
  {
   "cell_type": "markdown",
   "metadata": {},
   "source": [
    "* **Дисперсия и стандартное отклонение среднего объема трафика по месяцам**"
   ]
  },
  {
   "cell_type": "code",
   "execution_count": 72,
   "metadata": {},
   "outputs": [
    {
     "data": {
      "image/png": "[encoded data removed]",
      "text/plain": [
       "<Figure size 864x432 with 1 Axes>"
      ]
     },
     "metadata": {
      "needs_background": "light"
     },
     "output_type": "display_data"
    }
   ],
   "source": [
    "(report\n",
    " .pivot_table(index='tariff', columns='month', values='total_mb_used', aggfunc='var')\n",
    " .transpose()\n",
    " .plot(kind='bar', rot='0'))\n",
    "plt.title('Дисперсия среднего объема трафика по месяцам')\n",
    "plt.xlabel('Месяц')\n",
    "plt.ylabel('Значение дисперсии')\n",
    "plt.xticks(np.arange(12),(['Январь', 'Февраль', 'Март', 'Апрель', 'Май', 'Июнь', 'Июль', 'Август', 'Сентябрь', 'Октябрь', 'Ноябрь', 'Декабрь']))\n",
    "plt.grid(color='grey', axis='y', alpha=0.2)\n",
    "plt.show()"
   ]
  },
  {
   "cell_type": "code",
   "execution_count": 73,
   "metadata": {},
   "outputs": [
    {
     "data": {
      "image/png": "[encoded data removed]",
      "text/plain": [
       "<Figure size 864x432 with 1 Axes>"
      ]
     },
     "metadata": {
      "needs_background": "light"
     },
     "output_type": "display_data"
    }
   ],
   "source": [
    "(report.pivot_table(index='tariff', columns='month', values='total_mb_used', aggfunc='var')\n",
    " .transpose()\n",
    " .plot(kind='hist', alpha=0.7, bins=12))\n",
    "plt.title('Гистограмма дисперсии среднемесячного объема трафика по двум тарифам')\n",
    "plt.xlabel('Среднемесячная дисперсия')\n",
    "plt.ylabel('Частота')\n",
    "plt.grid(color='grey', axis='y', alpha=0.2)\n",
    "plt.show()"
   ]
  },
  {
   "cell_type": "code",
   "execution_count": 74,
   "metadata": {},
   "outputs": [
    {
     "data": {
      "image/png": "[encoded data removed]",
      "text/plain": [
       "<Figure size 864x432 with 1 Axes>"
      ]
     },
     "metadata": {
      "needs_background": "light"
     },
     "output_type": "display_data"
    }
   ],
   "source": [
    "(report\n",
    " .pivot_table(index='tariff', columns='month', values='total_mb_used', aggfunc='std')\n",
    " .transpose()\n",
    " .plot(kind='bar', rot='0'))\n",
    "plt.title('Стандартное отклонение объема трафика по месяцам')\n",
    "plt.xlabel('Месяц')\n",
    "plt.ylabel('Стандартное отклонение')\n",
    "plt.xticks(np.arange(12),(['Январь', 'Февраль', 'Март', 'Апрель', 'Май', 'Июнь', 'Июль', 'Август', 'Сентябрь', 'Октябрь', 'Ноябрь', 'Декабрь']))\n",
    "plt.grid(color='grey', axis='y', alpha=0.2)\n",
    "plt.show()"
   ]
  },
  {
   "cell_type": "code",
   "execution_count": 75,
   "metadata": {},
   "outputs": [
    {
     "data": {
      "image/png": "[encoded data removed]",
      "text/plain": [
       "<Figure size 864x432 with 1 Axes>"
      ]
     },
     "metadata": {
      "needs_background": "light"
     },
     "output_type": "display_data"
    }
   ],
   "source": [
    "(report.pivot_table(index='tariff', columns='month', values='total_mb_used', aggfunc='std')\n",
    " .transpose()\n",
    " .plot(kind='hist', alpha=0.7))\n",
    "plt.title('Гистограмма стандартного отклонения объема трафика по двум тарифам')\n",
    "plt.xlabel('Стандартное отклонение')\n",
    "plt.ylabel('Частота')\n",
    "plt.grid(color='grey', axis='y', alpha=0.2)\n",
    "plt.show()"
   ]
  },
  {
   "cell_type": "markdown",
   "metadata": {},
   "source": [
    "**Вывод:** графики выше демонстрируют, что **дисперсия и стандартное отклонение объема трафика на тарифе Ультра несколько сильнее**, что обуславливает менее плавную динамику по сравнению с тарифом Смарт."
   ]
  },
  {
   "cell_type": "markdown",
   "metadata": {},
   "source": [
    "### 3.4 Анализ выручки по тарифам<a name=\"subparagraph3_4\"></a>"
   ]
  },
  {
   "cell_type": "markdown",
   "metadata": {},
   "source": [
    "* **Рассмотрим число клиентов на каждом тарифе, а также долю этих групп в общем числе клиентов**"
   ]
  },
  {
   "cell_type": "code",
   "execution_count": 76,
   "metadata": {},
   "outputs": [
    {
     "name": "stdout",
     "output_type": "stream",
     "text": [
      "Общее количество клиентов: 500 \n",
      "\n",
      "Количество клиентов с тарифом Смарт: 351\n",
      "Количество клиентов с тарифом Ультра: 149 \n",
      "\n",
      "Доля клиентов с тарифом Смарт: 70.20%\n",
      "Доля клиентов с тарифом Ультра: 29.80%\n"
     ]
    }
   ],
   "source": [
    "smart = report.query('tariff == \"smart\"')\n",
    "ultra = report.query('tariff == \"ultra\"')\n",
    "\n",
    "total_clients = report['user_id'].value_counts().shape[0]\n",
    "smart_clients = smart['user_id'].value_counts().shape[0]\n",
    "ultra_clients = ultra['user_id'].value_counts().shape[0]\n",
    "\n",
    "print(f'Общее количество клиентов: {total_clients} \\n')\n",
    "print(f'Количество клиентов с тарифом Смарт: {smart_clients}')\n",
    "print(f'Количество клиентов с тарифом Ультра: {ultra_clients} \\n')\n",
    "print(f'Доля клиентов с тарифом Смарт: {(smart_clients / total_clients):.2%}')\n",
    "print(f'Доля клиентов с тарифом Ультра: {(ultra_clients / total_clients):.2%}')"
   ]
  },
  {
   "cell_type": "markdown",
   "metadata": {},
   "source": [
    "* **Рассмотрим объем выручки за 2018 г. в разрезе тарифов и рассчитаем вклад каждого тарифа в годовую выручку**"
   ]
  },
  {
   "cell_type": "code",
   "execution_count": 77,
   "metadata": {},
   "outputs": [
    {
     "name": "stdout",
     "output_type": "stream",
     "text": [
      "Общая годовая выручка: 4928251 руб. \n",
      "\n",
      "Годовая выручка по тарифу Смарт: 2886301 руб.\n",
      "Годовая выручка по тарифу Ультра: 2041950 руб. \n",
      "\n",
      "Доля Смарт в общей выручке: 58.57%\n",
      "Доля Ультра в общей выручке: 41.43%\n"
     ]
    }
   ],
   "source": [
    "total_revenue = report['total_revenue'].sum()\n",
    "smart_revenue = smart['total_revenue'].sum()\n",
    "ultra_revenue = ultra['total_revenue'].sum()\n",
    "\n",
    "print(f'Общая годовая выручка: {total_revenue:.0f} руб. \\n')\n",
    "print(f'Годовая выручка по тарифу Смарт: {smart_revenue:.0f} руб.')\n",
    "print(f'Годовая выручка по тарифу Ультра: {ultra_revenue:.0f} руб. \\n')\n",
    "print(f'Доля Смарт в общей выручке: {(smart_revenue / total_revenue):.2%}')\n",
    "print(f'Доля Ультра в общей выручке: {(ultra_revenue / total_revenue):.2%}')"
   ]
  },
  {
   "cell_type": "markdown",
   "metadata": {},
   "source": [
    "* **Далее проанализируем, как менялась средняя и общая выручка по месяцам**"
   ]
  },
  {
   "cell_type": "code",
   "execution_count": 78,
   "metadata": {
    "scrolled": false
   },
   "outputs": [
    {
     "data": {
      "image/png": "[encoded data removed]",
      "text/plain": [
       "<Figure size 864x432 with 1 Axes>"
      ]
     },
     "metadata": {
      "needs_background": "light"
     },
     "output_type": "display_data"
    }
   ],
   "source": [
    "(report\n",
    " .pivot_table(index='tariff', columns='month', values='total_revenue', aggfunc='mean')\n",
    " .transpose()\n",
    " .plot(kind='bar', rot='0'))\n",
    "plt.title('Динамика среднемесячной выручки за 2018 г.')\n",
    "plt.xlabel('Месяц')\n",
    "plt.ylabel('Среднемесячная выручка в рублях')\n",
    "plt.xticks(np.arange(12),(['Январь', 'Февраль', 'Март', 'Апрель', 'Май', 'Июнь', 'Июль', 'Август', 'Сентябрь', 'Октябрь', 'Ноябрь', 'Декабрь']))\n",
    "plt.grid(color='grey', axis='y', alpha=0.2)\n",
    "plt.show()"
   ]
  },
  {
   "cell_type": "code",
   "execution_count": 79,
   "metadata": {},
   "outputs": [
    {
     "data": {
      "image/png": "[encoded data removed]",
      "text/plain": [
       "<Figure size 864x432 with 1 Axes>"
      ]
     },
     "metadata": {
      "needs_background": "light"
     },
     "output_type": "display_data"
    }
   ],
   "source": [
    "(report\n",
    " .pivot_table(index='tariff', columns='month', values='total_revenue', aggfunc='sum')\n",
    " .transpose()\n",
    " .plot(kind='bar', rot='0'))\n",
    "plt.title('Общая выручка за 2018 г. по месяцам')\n",
    "plt.xlabel('Месяц')\n",
    "plt.ylabel('Выручка в рублях')\n",
    "plt.xticks(np.arange(12),(['Январь', 'Февраль', 'Март', 'Апрель', 'Май', 'Июнь', 'Июль', 'Август', 'Сентябрь', 'Октябрь', 'Ноябрь', 'Декабрь']))\n",
    "plt.grid(color='grey', axis='y', alpha=0.2)\n",
    "plt.show()"
   ]
  },
  {
   "cell_type": "markdown",
   "metadata": {},
   "source": [
    "**Вывод:** \n",
    "* Тарифом *Смарт* пользуется **70.20%** *выбранных клиентов*, которые приносят **58.57%** *общей выручки*.\n",
    "* Тарифом *Ультра* пользуется **29.80%** *выбранных клиентов*, которые приносят **41.43%** *общей выручки*.\n",
    "* *Средняя выручка* на тарифе *Смарт* росла очень быстро - с **721.32 руб**. до **1,582.69 руб**. (*рост в 2.19 раза*). На тарифе *Ультра* *средняя выручка* выросла с **1,950 руб**. до **2,138.85 руб**. (*всего в 1.1 раз*). При этом видно, что *средняя выручка на Ультре* всего лишь колебалась вокруг 2,000 руб. и *не показывала какого-либо значительного тренда*. \n",
    "* *Средняя выручка на Смарте скоро может догнать тариф Ультра*, несмотря на то, что ежемесячная плата на нем в несколько раз меньше (550 руб. против 1,950 руб.) Это происходит за счет того, что клиенты на Смарте систематически превышают лимит по интернет-трафику и вынуждены доплачивать за каждый гигабайт вне пакета по 200 руб., что составляет почти 36% от стоимости самого пакета. Объем использованного интернет-трафика на тарифе Смарт имеет тенденцию к росту, что еще больше повлияет на выручку от тарифа.\n",
    "* *Общая выручка* на тарифе *Смарт* выросла с **24,525 руб**. (январь) до **533,365 руб**. (декабрь) в 2018 г. - *рост в 21.75 раз*. *Общая выручка* на тарифе *Ультра* выросла с **17,550 руб**. (январь) до **297,300 руб**. (декабрь) - *рост в 16.94 раз*.\n",
    "* За исключением апреля, *общая выручка на тарифе Смарт, в каждом месяце превышала объемы выручки на тарифе Ультра*, и отставание Ультры будет продолжать усиливаться."
   ]
  },
  {
   "cell_type": "markdown",
   "metadata": {},
   "source": [
    "* **Далее рассмотрим распределение средней выручки с каждого пользователя**"
   ]
  },
  {
   "cell_type": "markdown",
   "metadata": {},
   "source": [
    "Сохраним данные в следующих датафреймах:\n",
    "\n",
    "`mean_monthly_revenue_per_user` для обоих тарифов, \n",
    "\n",
    "`mean_monthly_revenue_per_user_smart` для тарифа Смарт отдельно, \n",
    "\n",
    "`mean_monthly_revenue_per_user_ultra` для тарифа Ультра отдельно."
   ]
  },
  {
   "cell_type": "code",
   "execution_count": 80,
   "metadata": {},
   "outputs": [],
   "source": [
    "mean_monthly_revenue_per_user = report.pivot_table(index='user_id', values='total_revenue', aggfunc='mean').reset_index()\n",
    "mean_monthly_revenue_per_user.columns = ['user_id', 'mean_monthly_revenue_per_user']\n",
    "mean_monthly_revenue_per_user_smart = smart.pivot_table(index='user_id', values='total_revenue', aggfunc='mean').reset_index()\n",
    "mean_monthly_revenue_per_user_smart.columns = ['user_id', 'mean_monthly_revenue_per_user_smart']\n",
    "mean_monthly_revenue_per_user_ultra = ultra.pivot_table(index='user_id', values='total_revenue', aggfunc='mean').reset_index()\n",
    "mean_monthly_revenue_per_user_ultra.columns = ['user_id', 'mean_monthly_revenue_per_user_ultra']"
   ]
  },
  {
   "cell_type": "markdown",
   "metadata": {},
   "source": [
    "Выведем сводную таблицу `stat` с описательными статистиками для каждого датафрейма."
   ]
  },
  {
   "cell_type": "code",
   "execution_count": 81,
   "metadata": {},
   "outputs": [
    {
     "data": {
      "text/html": [
       "<div>\n",
       "<style scoped>\n",
       "    .dataframe tbody tr th:only-of-type {\n",
       "        vertical-align: middle;\n",
       "    }\n",
       "\n",
       "    .dataframe tbody tr th {\n",
       "        vertical-align: top;\n",
       "    }\n",
       "\n",
       "    .dataframe thead th {\n",
       "        text-align: right;\n",
       "    }\n",
       "</style>\n",
       "<table border=\"1\" class=\"dataframe\">\n",
       "  <thead>\n",
       "    <tr style=\"text-align: right;\">\n",
       "      <th></th>\n",
       "      <th>stat</th>\n",
       "      <th>mean_revenue_general</th>\n",
       "      <th>mean_revenue_smart</th>\n",
       "      <th>mean_revenue_ultra</th>\n",
       "    </tr>\n",
       "  </thead>\n",
       "  <tbody>\n",
       "    <tr>\n",
       "      <th>0</th>\n",
       "      <td>count</td>\n",
       "      <td>500.000000</td>\n",
       "      <td>351.000000</td>\n",
       "      <td>149.000000</td>\n",
       "    </tr>\n",
       "    <tr>\n",
       "      <th>1</th>\n",
       "      <td>mean</td>\n",
       "      <td>1553.684112</td>\n",
       "      <td>1327.505056</td>\n",
       "      <td>2086.495177</td>\n",
       "    </tr>\n",
       "    <tr>\n",
       "      <th>2</th>\n",
       "      <td>std</td>\n",
       "      <td>637.365544</td>\n",
       "      <td>607.411895</td>\n",
       "      <td>300.040624</td>\n",
       "    </tr>\n",
       "    <tr>\n",
       "      <th>3</th>\n",
       "      <td>min</td>\n",
       "      <td>550.000000</td>\n",
       "      <td>550.000000</td>\n",
       "      <td>1950.000000</td>\n",
       "    </tr>\n",
       "    <tr>\n",
       "      <th>4</th>\n",
       "      <td>25%</td>\n",
       "      <td>1007.803571</td>\n",
       "      <td>875.250000</td>\n",
       "      <td>1950.000000</td>\n",
       "    </tr>\n",
       "    <tr>\n",
       "      <th>5</th>\n",
       "      <td>50%</td>\n",
       "      <td>1621.333333</td>\n",
       "      <td>1176.400000</td>\n",
       "      <td>1950.000000</td>\n",
       "    </tr>\n",
       "    <tr>\n",
       "      <th>6</th>\n",
       "      <td>75%</td>\n",
       "      <td>1950.000000</td>\n",
       "      <td>1682.055556</td>\n",
       "      <td>1987.500000</td>\n",
       "    </tr>\n",
       "    <tr>\n",
       "      <th>7</th>\n",
       "      <td>max</td>\n",
       "      <td>4333.333333</td>\n",
       "      <td>4333.333333</td>\n",
       "      <td>3262.500000</td>\n",
       "    </tr>\n",
       "  </tbody>\n",
       "</table>\n",
       "</div>"
      ],
      "text/plain": [
       "    stat  mean_revenue_general  mean_revenue_smart  mean_revenue_ultra\n",
       "0  count            500.000000          351.000000          149.000000\n",
       "1   mean           1553.684112         1327.505056         2086.495177\n",
       "2    std            637.365544          607.411895          300.040624\n",
       "3    min            550.000000          550.000000         1950.000000\n",
       "4    25%           1007.803571          875.250000         1950.000000\n",
       "5    50%           1621.333333         1176.400000         1950.000000\n",
       "6    75%           1950.000000         1682.055556         1987.500000\n",
       "7    max           4333.333333         4333.333333         3262.500000"
      ]
     },
     "execution_count": 81,
     "metadata": {},
     "output_type": "execute_result"
    }
   ],
   "source": [
    "stat0 = mean_monthly_revenue_per_user['mean_monthly_revenue_per_user'].describe().reset_index()\n",
    "stat1 = mean_monthly_revenue_per_user_smart['mean_monthly_revenue_per_user_smart'].describe().reset_index()\n",
    "stat2 = mean_monthly_revenue_per_user_ultra['mean_monthly_revenue_per_user_ultra'].describe().reset_index()\n",
    "stat = stat0.merge(stat1).merge(stat2).reset_index().drop('level_0', axis=1)\n",
    "stat.columns = ['stat', 'mean_revenue_general', 'mean_revenue_smart', 'mean_revenue_ultra']\n",
    "stat"
   ]
  },
  {
   "cell_type": "code",
   "execution_count": 82,
   "metadata": {},
   "outputs": [
    {
     "data": {
      "image/png": "[encoded data removed]",
      "text/plain": [
       "<Figure size 864x432 with 1 Axes>"
      ]
     },
     "metadata": {
      "needs_background": "light"
     },
     "output_type": "display_data"
    }
   ],
   "source": [
    "ax = mean_monthly_revenue_per_user_smart['mean_monthly_revenue_per_user_smart'].plot(kind='hist', alpha=0.7, legend=True, label = 'Выручка с тарифа Смарт')\n",
    "mean_monthly_revenue_per_user_ultra['mean_monthly_revenue_per_user_ultra'].plot(kind='hist', ax=ax, alpha=0.7, legend=True, label = 'Выручка с тарифа Ультра')\n",
    "plt.title('Распределение средней выручки с клиента по двум тарифам')\n",
    "plt.xlabel('Среднемесячная выручка с клиента в рублях')\n",
    "plt.ylabel('Частота')\n",
    "plt.grid(color='grey', axis='y', alpha=0.2)\n",
    "plt.show()"
   ]
  },
  {
   "cell_type": "code",
   "execution_count": 83,
   "metadata": {},
   "outputs": [
    {
     "name": "stdout",
     "output_type": "stream",
     "text": [
      "Доля клиентов на тарифе Смарт, превысивших лимиты пакета: 94.87%\n",
      "Доля клиентов на тарифе Ультра, превысивших лимиты пакета: 28.86%\n"
     ]
    }
   ],
   "source": [
    "smart_clients_exceed = mean_monthly_revenue_per_user_smart.query('mean_monthly_revenue_per_user_smart > 550').shape[0] \n",
    "ultra_clients_exceed = mean_monthly_revenue_per_user_ultra.query('mean_monthly_revenue_per_user_ultra > 1950').shape[0]\n",
    "\n",
    "print(f'Доля клиентов на тарифе Смарт, превысивших лимиты пакета: {(smart_clients_exceed / smart_clients):.2%}')\n",
    "print(f'Доля клиентов на тарифе Ультра, превысивших лимиты пакета: {(ultra_clients_exceed / ultra_clients):.2%}')"
   ]
  },
  {
   "cell_type": "markdown",
   "metadata": {},
   "source": [
    "**Вывод:**\n",
    "* *Средняя ежемесячная выручка с клиента* в общем: **1,553.68 руб**, на *Смарт*: **1,327.50 руб**., на *Ультра*: **2,086.50 руб**. При этом важно отметить, что для клиентов *Смарт* данный показатель *в 2.41 раза* выше фиксированной стоимости пакета (*550 руб.*). Как мы уже упоминали ранее, это связано с тем, что абоненты Смарта крайне часто превышают лимит по интернету. Для тарифа *Ультра средняя выручка с клиента лишь в 1.07 раз выше* ежемесячной платы (*1,950 руб.*), потому что большинство клиентов на этом тарифе практически не превышают лимиты пакета.\n",
    "\n",
    "* *Медианная выручка* в общем: **1,621.33 руб.**, на *Смарт*: **1,176.40 руб.**, на Ультра: **1,950.00 руб.**. То есть для Смарта медиана также значительно выше ежемесячной платы за пакет, а на тарифе Ультра точно равна ей.\n",
    "\n",
    "* *Стандартное отклонение* выручки на тарифе *Смарт* (**607.41**) почти в два раза выше, чем для тарифа *Ультра* (**300.04**). Клиенты на Смарте часто выходят за лимиты, и это увеличивает вариативность признака. На Ультре вариативность существенно меньше, так как превышения лимитов случаются редко и в большинстве случаев пользователи платят фиксированную плату по тарифу.\n",
    "\n",
    "* *Минимальные значения* для *Смарт* (**550 руб.**) и *Ультра* (**1,950 руб.**) соответствуют минимально возможным расходам клиента для соответствующего тарифа, то есть фиксированной ежемесячной плате.\n",
    "\n",
    "* *Максимум* для *Смарт* (**4,333.33 руб.**) значительно превышает максимум для *Ультра* (**3,262.50 руб.**) даже несмотря на гораздо меньшую фиксированную плату. Это косвенно указывает на существенно больший потенциал тарифа Смарт в будущем увеличении прибыли компании.\n",
    "\n",
    "* Отдельно отметим, что доля клиентов на тарифе *Смарт*, которые *превысили какой-либо лимит* пакета составляет **94.87%**, аналогичный показатель для клиентов на тарифе *Ультра* составляет всего **28.86%**."
   ]
  },
  {
   "cell_type": "markdown",
   "metadata": {},
   "source": [
    "[Вернуться к оглавлению](#introduction)"
   ]
  },
  {
   "cell_type": "markdown",
   "metadata": {},
   "source": [
    "## 4. Проверка статистических гипотез<a name=\"paragraph4\"></a>"
   ]
  },
  {
   "cell_type": "markdown",
   "metadata": {},
   "source": [
    "### 4.1 Проверка гипотезы о том, что средние выручки пользователей тарифов \"Ультра\" и \"Смарт\" различаются<a name=\"subparagraph4_1\"></a>"
   ]
  },
  {
   "cell_type": "markdown",
   "metadata": {},
   "source": [
    "Сформулируем нулевую и альтернативную гипотезы:\n",
    "    \n",
    "    H0: Средняя выручка тарифа Смарт равна средней выручке тарифа Ультра\n",
    "    \n",
    "    H1: Средняя выручка тарифа Смарт не равна средней выручке тарифа Ультра"
   ]
  },
  {
   "cell_type": "markdown",
   "metadata": {},
   "source": [
    "Для проверки гипотезы о равенстве средних двух генеральных совокупностей будем использовать двусторонний *t-test* c критерием значимости 5%."
   ]
  },
  {
   "cell_type": "markdown",
   "metadata": {},
   "source": [
    "Предварительно применим тест Левена для оценки равенства дисперсий двух выборок.\n",
    "\n",
    "Для теста Левена нулевая гипотеза гласит, что дисперсии двух выборок гомогенны. Альтернативная гипотеза гласит, что дисперсии двух выборок гетерогенны. Примем 0.05 за критерий значимости."
   ]
  },
  {
   "cell_type": "code",
   "execution_count": 84,
   "metadata": {},
   "outputs": [
    {
     "data": {
      "text/plain": [
       "LeveneResult(statistic=615.9592583957541, pvalue=1.493529889772582e-124)"
      ]
     },
     "execution_count": 84,
     "metadata": {},
     "output_type": "execute_result"
    }
   ],
   "source": [
    "st.levene(smart['total_revenue'], ultra['total_revenue'])"
   ]
  },
  {
   "cell_type": "markdown",
   "metadata": {},
   "source": [
    "Полученное значение p-value существенно ниже заданного уровня значимости, значит нулевая гипотеза отвергается. Принимается альтернативная гипотеза о гетерогенности дисперсий. Вследствие того, что требование гомогенности дисперсии не выполняется, будем использовать параметр `equal_var = False`."
   ]
  },
  {
   "cell_type": "code",
   "execution_count": 85,
   "metadata": {},
   "outputs": [
    {
     "name": "stdout",
     "output_type": "stream",
     "text": [
      "p-значение:  1.2414049931248708e-246\n",
      "Принимается альтернативная гипотеза\n"
     ]
    }
   ],
   "source": [
    "sample_smart = smart['total_revenue']  \n",
    "sample_ultra = ultra['total_revenue']\n",
    "\n",
    "results = st.ttest_ind(sample_smart, sample_ultra, equal_var = False)\n",
    "alpha = .05\n",
    "\n",
    "print('p-значение: ', results.pvalue)\n",
    "if results.pvalue < alpha:\n",
    "    print('Принимается альтернативная гипотеза')\n",
    "else:\n",
    "    print('Нет оснований отвергать нулевую гипотезу')"
   ]
  },
  {
   "cell_type": "markdown",
   "metadata": {},
   "source": [
    "**Вывод:** так как полученное p-value существенно меньше заданного критерия значимости (0.05), мы имеем основания отвергнуть нулевую гипотезу о равенстве средних. Таким образом, мы *принимаем альтернативную гипотезу о том, что средняя выручка на двух тарифах различается* и различия статистически значимы. "
   ]
  },
  {
   "cell_type": "markdown",
   "metadata": {},
   "source": [
    "### 4.2 Проверка гипотезы о том, что средняя выручка в Москве отличается от средней выручки в остальных регионах<a name=\"subparagraph4_2\"></a>"
   ]
  },
  {
   "cell_type": "markdown",
   "metadata": {},
   "source": [
    "Сформулируем нулевую и альтернативную гипотезы:\n",
    "    \n",
    "    H0: Средняя выручка пользователей из Москвы равна средней выручке пользователей из других регионов\n",
    "    \n",
    "    H1: Средняя выручка пользователей из Москвы не равна средней выручке пользователей из других регионов"
   ]
  },
  {
   "cell_type": "markdown",
   "metadata": {},
   "source": [
    "Для проверки гипотезы о равенстве средних двух генеральных совокупностей будем использовать двусторонний *t-test* c критерием значимости 5%."
   ]
  },
  {
   "cell_type": "code",
   "execution_count": 86,
   "metadata": {},
   "outputs": [],
   "source": [
    "sample_moscow = report.query('city == \"Москва\"')['total_revenue']\n",
    "sample_regions = report.query('city != \"Москва\"')['total_revenue']"
   ]
  },
  {
   "cell_type": "markdown",
   "metadata": {},
   "source": [
    "Аналогично, воспользуемся тестом Левена для установления гомогенности дисперсии между двумя выборками."
   ]
  },
  {
   "cell_type": "code",
   "execution_count": 87,
   "metadata": {
    "scrolled": true
   },
   "outputs": [
    {
     "data": {
      "text/plain": [
       "LeveneResult(statistic=6.767228221248238, pvalue=0.009327275349633546)"
      ]
     },
     "execution_count": 87,
     "metadata": {},
     "output_type": "execute_result"
    }
   ],
   "source": [
    "st.levene(sample_moscow, sample_regions)"
   ]
  },
  {
   "cell_type": "markdown",
   "metadata": {},
   "source": [
    "Согласно результатам теста Левена, дисперсии двух выборок различаются, поэтому здесь мы также будем использовать параметр `equal_var = False`."
   ]
  },
  {
   "cell_type": "code",
   "execution_count": 88,
   "metadata": {},
   "outputs": [
    {
     "name": "stdout",
     "output_type": "stream",
     "text": [
      "p-значение:  0.5086199993481282\n",
      "Нет оснований отвергать нулевую гипотезу\n"
     ]
    }
   ],
   "source": [
    "results = st.ttest_ind(sample_moscow, sample_regions, equal_var = False)\n",
    "alpha = .05\n",
    "\n",
    "print('p-значение: ', results.pvalue)\n",
    "if results.pvalue < alpha:\n",
    "    print('Принимается альтернативная гипотеза')\n",
    "else:\n",
    "    print('Нет оснований отвергать нулевую гипотезу')"
   ]
  },
  {
   "cell_type": "markdown",
   "metadata": {},
   "source": [
    "**Вывод:** так как полученное p-value больше заданного критерия значимости (0.05), у нас *нет оснований отвергать нулевую гипотезу о равенстве средних значений выручки* между московскими клиентами и клиентами из других регионов. Иными словами, мы не можем утверждать, что средние выручки этих двух групп имеют статистически значимые различия (такое или более выраженное различие могло быть получено случайно с вероятностью 50.86%)."
   ]
  },
  {
   "cell_type": "markdown",
   "metadata": {},
   "source": [
    "[Вернуться к оглавлению](#introduction)"
   ]
  },
  {
   "cell_type": "markdown",
   "metadata": {},
   "source": [
    "# 5. Общий вывод<a name=\"paragraph5\"></a>"
   ]
  },
  {
   "cell_type": "markdown",
   "metadata": {},
   "source": [
    "В данном проекте был проведен анализ выборки из 500 клиентов с целью выяснить, какой тариф - Смарт или Ультра - приносит больше выручки и какой из них следует более активно продвигать.\n",
    "\n",
    "Подведем ключевые результаты:\n",
    "\n",
    "1) **Длительность разговора** - на тарифе Ультра в среднем разговаривают дольше, чем на тарифе Смарт. За 2018 г. на тарифе Смарт длительность разговоров выросла в 2.35 раза, а на тарифе Ультра - всего в 1.38 раз. Средняя длительность звонков на тарифе Смарт росла не только значительно быстрее, но и намного плавнее. Абоненты тарифа Смарт в среднем всегда укладываются в лимит 500 минут (но с учетом роста возможны превышения лимита в будущем), а для подавляющего большинства клиентов тарифа Ультра объем минут в пакете избыточен.\n",
    "\n",
    "  * *Средняя длительность разговоров* - Smart: **386.76 мин.**, Ultra: **495.93 мин.**\n",
    "  * *Медиана* - Smart: **402 мин.**, Ultra: **510.6 мин.**\n",
    "  * *Минимум* - Smart: **203.85 мин.**, Ultra: **297.13 мин.**\n",
    "  * *Максимум* - Smart: **478.56 мин.**, Ultra: **592.81 мин.**\n",
    "    \n",
    "    \n",
    "2) **Количество сообщений** - клиенты, выбирающие тариф Ультра, отправляют больше текстовых сообщений, чем те, кто выбирает тариф Смарт. За 2018 г. на тарифе Смарт среднее количество отправленных сообщений выросло в 2 раза, а на тарифе Ультра рост с начала года немного слабее - в 1.8 раз. На тарифе Смарт, дальнейшая тенденция к росту не просматривается. Это связано с общим падением популярности данной услуги. На тарифе Ультра положительная тенденция более очевидна, однако она также более хаотична. Абоненты тарифа Смарт в среднем всегда укладываются в лимит 50 сообщений - ни в один месяц превышения не произошло. Для большинства клиентов Ультра количество включенных сообщений в пакет избыточно.\n",
    "\n",
    "  * *Среднее* количество сообщений в месяц - Smart: **31**, Ultra: **44**\n",
    "  * *Медиана* - Smart: **34**, Ultra: **45**\n",
    "  * *Минимум* - Smart: **18**, Ultra: **22**\n",
    "  * *Максимум* - Smart: **36**, Ultra: **61**\n",
    "  \n",
    "3) **Объем интернет-трафика** - среднемесячный объем интернет-трафика у абонентов двух тарифов различается, однако это различие не существенно. Тем не менее, клиенты, выбирающие тариф Ультра, используют несколько больше трафика. На тарифе Смарт средний объем трафика вырос в 2.13 раза, а на тарифе Ультра рост слабее - в 1.66 раз. Рост на тарифе Смарт более плавный и стабильный. Абоненты тарифа Смарт крайне часто превышают лимит 15 Гб, а клиенты на тарифе Ультра, напротив, не превышают свой лимит 30 Гб. \n",
    "\n",
    "  * *Средний* объем трафика в месяц - Smart: **15077.69 Мб**, Ultra: **18222.78 Мб**\n",
    "  * *Медиана* - Smart: **15819.98 Мб**, Ultra: **19301.7 Мб**\n",
    "  * *Минимум* - Smart: **8524.44 Мб**, Ultra: **11786.96 Мб**\n",
    "  * *Максимум* - Smart: **18136.83 Мб**, Ultra: **21813.59 Мб**\n",
    "\n",
    "4) **Выручка** - за 2018 г. ежемесячная выручка на тарифе Смарт росла очень быстро - с **721.32 руб.** до **1,582.69 руб.** (рост в *2.19 раза*). На тарифе Ультра средняя выручка выросла с **1,950 руб.** до **2,138.85 руб.** (всего в *1.1 раз*). Средняя выручка на Ультре колеблется вокруг 2,000 руб. и не показывает какого-либо значительного тренда, а отличие от тарифа Смарт. Средняя выручка на Смарте скоро может догнать тариф Ультра, за счет того, что клиенты на Смарте превышают лимит по интернет-трафику и вынуждены доплачивать за каждый гигабайт вне пакета.\n",
    "\n",
    "  * *Средняя* ежемесячная выручка с клиента в общем: **1,553.68 руб.**, на Смарт: **1,327.50 руб.**, на Ультра: **2,086.50 руб.** Для клиентов Смарт данный показатель в **2.41 раза выше** фиксированной стоимости пакета (550 руб.), а для тарифа Ультра средняя выручка с клиента лишь в **1.07 раз выше** ежемесячной платы (1,950 руб.), потому что большинство клиентов на этом тарифе практически не превышают лимиты пакета.\n",
    "  * *Медианная* выручка на клиента в общем: **1,621.33 руб.**, на Смарт: **1,176.40 руб**., на Ультра: **1,950.00 руб.**\n",
    "  * *Минимум* для Смарт (**550 руб.**) и Ультра (**1,950 руб.**) соответствуют фиксированной ежемесячной плате.\n",
    "  * *Максимум* для Смарт (**4,333.33 руб.**) значительно превышает максимум для Ультра (**3,262.50 руб.**) даже несмотря на гораздо меньшую фиксированную плату.\n",
    "  * Доля клиентов на тарифе Смарт, которые превысили какой-либо лимит пакета составляет **94.87%**, аналогичный показатель для клиентов на тарифе Ультра составляет всего **28.86%**.\n",
    "  \n",
    "5) **Гипотезы**: \n",
    "  * **Удалось подтвердить** гипотезу о том, что *средняя выручка на двух тарифах различается*, и различия оказались статистически значимы на 5% уровне.\n",
    "  * **Не удалось подтвердить** гипотезу о том что *средняя выручка от московских клиентов и клиентов из других регионов имеет статистически значимые различия*.\n",
    "  \n",
    "**Итог:** рекомендуется **усилить продвижение тарифа Смарт**, как наиболее успешного и способного генерировать больше выручки в долгосрочной перспективе. Рост тарифа Смарт по всем аспектам превосходит рост тарифа Ультра. Смарт более прибылен за счет того, что подавляющее число пользователей превышает лимиты по интернет-трафику, так как не может изначально точно оценить свою потребность в объеме трафика и не предполагает, что может потребоваться покупка внепакетных гигабайт, которые стоят дорого относительно фиксированной ежемесячной платы за тариф. На Ультре превышений лимитов не происходит, а следовательно существенное увеличение прибыли с этого тарифа невозможно при текущих условиях (к тому же, превышения на Ультре тарифицируются дешевле, чем на Смарте). Смарт имеет серьезную точку роста не только в области превышения лимита интернет-трафика, но и, потенциально, звонков - наблюдался значительный рост, который привел среднюю длительность разговоров близко к пределу пакета. Таким образом имеет смысл более активно продвигать тариф Смарт и возможно в обновленной версии тарифа снизить лимит звонков до 400-450 минут (скомпенсировав увеличением количества сообщений, которые не пользуются популярностью). Лимит по интернету стоит оставить без изменений."
   ]
  },
  {
   "cell_type": "markdown",
   "metadata": {},
   "source": [
    "[Вернуться к оглавлению](#introduction)"
   ]
  }
 ],
 "metadata": {
  "kernelspec": {
   "display_name": "Python 3",
   "language": "python",
   "name": "python3"
  },
  "language_info": {
   "codemirror_mode": {
    "name": "ipython",
    "version": 3
   },
   "file_extension": ".py",
   "mimetype": "text/x-python",
   "name": "python",
   "nbconvert_exporter": "python",
   "pygments_lexer": "ipython3",
   "version": "3.8.3"
  }
 },
 "nbformat": 4,
 "nbformat_minor": 2
}
